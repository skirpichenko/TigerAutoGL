{
 "cells": [
  {
   "cell_type": "code",
   "execution_count": 1,
   "id": "6484308a-000f-4f4f-8e05-11d36bbec8bb",
   "metadata": {},
   "outputs": [],
   "source": [
    "import kfp\n",
    "from kfp import dsl\n",
    "from kfp.components import func_to_container_op, InputPath, OutputPath"
   ]
  },
  {
   "cell_type": "code",
   "execution_count": 2,
   "id": "3597bda5-d024-4287-aab4-92ed6822e6bf",
   "metadata": {},
   "outputs": [],
   "source": [
    "@func_to_container_op\n",
    "def get_random_int_op(minimum: int, maximum: int) -> int:\n",
    "    \"\"\"Generate a random number between minimum and maximum (inclusive).\"\"\"\n",
    "    import random\n",
    "    result = random.randint(minimum, maximum)\n",
    "    print(result)\n",
    "    return result"
   ]
  },
  {
   "cell_type": "code",
   "execution_count": 3,
   "id": "329e5448-1f65-41bc-8e3b-55e8150ffcf8",
   "metadata": {},
   "outputs": [],
   "source": [
    "@func_to_container_op\n",
    "def flip_coin_op() -> str:\n",
    "    \"\"\"Flip a coin and output heads or tails randomly.\"\"\"\n",
    "    import random\n",
    "    result = random.choice(['heads', 'tails'])\n",
    "    print(result)\n",
    "    return result"
   ]
  },
  {
   "cell_type": "code",
   "execution_count": 4,
   "id": "0fa6f5ea-9207-4621-afcc-5f74079edc5e",
   "metadata": {},
   "outputs": [],
   "source": [
    "@func_to_container_op\n",
    "def print_op(message: str):\n",
    "    \"\"\"Print a message.\"\"\"\n",
    "    print(message)"
   ]
  },
  {
   "cell_type": "code",
   "execution_count": 5,
   "id": "d2c83071-066c-46a1-b42a-0163b16b61d5",
   "metadata": {},
   "outputs": [],
   "source": [
    "@dsl.pipeline(\n",
    "    name='Conditional execution pipeline',\n",
    "    description='Shows how to use dsl.Condition().'\n",
    ")\n",
    "def flipcoin_pipeline():\n",
    "    flip = flip_coin_op()\n",
    "    with dsl.Condition(flip.output == 'heads'):\n",
    "        random_num_head = get_random_int_op(0, 9)\n",
    "        with dsl.Condition(random_num_head.output > 5):\n",
    "            print_op('heads and %s > 5!' % random_num_head.output)\n",
    "        with dsl.Condition(random_num_head.output <= 5):\n",
    "            print_op('heads and %s <= 5!' % random_num_head.output)\n",
    "\n",
    "    with dsl.Condition(flip.output == 'tails'):\n",
    "        random_num_tail = get_random_int_op(10, 19)\n",
    "        with dsl.Condition(random_num_tail.output > 15):\n",
    "            print_op('tails and %s > 15!' % random_num_tail.output)\n",
    "        with dsl.Condition(random_num_tail.output <= 15):\n",
    "            print_op('tails and %s <= 15!' % random_num_tail.output)"
   ]
  },
  {
   "cell_type": "code",
   "execution_count": 6,
   "id": "65634085-6d59-431b-9089-d89516ec5e46",
   "metadata": {},
   "outputs": [],
   "source": [
    "@func_to_container_op\n",
    "def fail_op(message):\n",
    "    \"\"\"Fails.\"\"\"\n",
    "    import sys\n",
    "    print(message)    \n",
    "    sys.exit(1)"
   ]
  },
  {
   "cell_type": "code",
   "execution_count": 7,
   "id": "ce34526c-ab58-4299-b5bc-53de454fd041",
   "metadata": {},
   "outputs": [],
   "source": [
    "@dsl.pipeline(\n",
    "    name='Conditional execution pipeline with exit handler',\n",
    "    description='Shows how to use dsl.Condition() and dsl.ExitHandler().'\n",
    ")\n",
    "def flipcoin_exit_pipeline():\n",
    "    exit_task = print_op('Exit handler has worked!')\n",
    "    with dsl.ExitHandler(exit_task):\n",
    "        flip = flip_coin_op()\n",
    "        with dsl.Condition(flip.output == 'heads'):\n",
    "            random_num_head = get_random_int_op(0, 9)\n",
    "            with dsl.Condition(random_num_head.output > 5):\n",
    "                print_op('heads and %s > 5!' % random_num_head.output)\n",
    "            with dsl.Condition(random_num_head.output <= 5):\n",
    "                print_op('heads and %s <= 5!' % random_num_head.output)\n",
    "\n",
    "        with dsl.Condition(flip.output == 'tails'):\n",
    "            random_num_tail = get_random_int_op(10, 19)\n",
    "            with dsl.Condition(random_num_tail.output > 15):\n",
    "                print_op('tails and %s > 15!' % random_num_tail.output)\n",
    "            with dsl.Condition(random_num_tail.output <= 15):\n",
    "                print_op('tails and %s <= 15!' % random_num_tail.output)\n",
    "\n",
    "        with dsl.Condition(flip.output == 'tails'):\n",
    "            fail_op(message=\"Failing the run to demonstrate that exit handler still gets executed.\")"
   ]
  },
  {
   "cell_type": "code",
   "execution_count": 8,
   "id": "8922b78d-bc9c-41a8-9ce1-5bc55f2e6b2d",
   "metadata": {},
   "outputs": [],
   "source": [
    "# Compiling the pipeline\n",
    "kfp.compiler.Compiler().compile(flipcoin_exit_pipeline,  'TGDemo.yaml')"
   ]
  },
  {
   "cell_type": "code",
   "execution_count": null,
   "id": "ff1a4f9a-f511-4427-acf5-7c9412175fb3",
   "metadata": {},
   "outputs": [],
   "source": []
  }
 ],
 "metadata": {
  "kernelspec": {
   "display_name": "Python 3",
   "language": "python",
   "name": "python3"
  },
  "language_info": {
   "codemirror_mode": {
    "name": "ipython",
    "version": 3
   },
   "file_extension": ".py",
   "mimetype": "text/x-python",
   "name": "python",
   "nbconvert_exporter": "python",
   "pygments_lexer": "ipython3",
   "version": "3.8.10"
  }
 },
 "nbformat": 4,
 "nbformat_minor": 5
}

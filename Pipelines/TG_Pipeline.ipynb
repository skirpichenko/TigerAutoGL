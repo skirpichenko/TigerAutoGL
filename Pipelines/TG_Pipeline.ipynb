{
 "cells": [
  {
   "cell_type": "code",
   "execution_count": 25,
   "id": "6484308a-000f-4f4f-8e05-11d36bbec8bb",
   "metadata": {},
   "outputs": [],
   "source": [
    "import kfp\n",
    "from kfp import dsl\n",
    "from kfp.components import func_to_container_op, InputPath, OutputPath\n",
    "from typing import NamedTuple"
   ]
  },
  {
   "cell_type": "code",
   "execution_count": 50,
   "id": "89b41be9-5976-4a93-af23-3c2561a58b19",
   "metadata": {},
   "outputs": [],
   "source": [
    "@func_to_container_op\n",
    "def TigerGraph_dataloader(query: str) -> str:\n",
    "    \"\"\"Loads a dataset from a TigerGraph instance.\"\"\"\n",
    "    return f\"dataset=TG[{query}]\""
   ]
  },
  {
   "cell_type": "code",
   "execution_count": 51,
   "id": "b5c781f7-4f2e-45dc-8972-b397de00b07e",
   "metadata": {},
   "outputs": [],
   "source": [
    "@func_to_container_op\n",
    "def DataSplitter(dataset: str) -> NamedTuple('Outputs', [\n",
    "        ('train_set', str),\n",
    "        ('test_set', str),\n",
    "    ]):\n",
    "    \"\"\"Splits inputted dataset into training and testing parts.\"\"\"\n",
    "    return (f\"training_{dataset}\", f\"testing_{dataset}\")"
   ]
  },
  {
   "cell_type": "code",
   "execution_count": 52,
   "id": "150bbbd0-fbea-49f6-bff1-f64e8e77753a",
   "metadata": {},
   "outputs": [],
   "source": [
    "@func_to_container_op\n",
    "def ClassicFeatures(dataset: str) -> str:\n",
    "    \"\"\"Generates classic features for a given dataset.\"\"\"\n",
    "    return f\"classic_features[{dataset}]\""
   ]
  },
  {
   "cell_type": "code",
   "execution_count": 53,
   "id": "270d469e-dbdd-4474-b8d4-3b6d555a6ae6",
   "metadata": {},
   "outputs": [],
   "source": [
    "@func_to_container_op\n",
    "def GraphFeatures(dataset: str) -> str:\n",
    "    \"\"\"Generates graph features for a given dataset.\"\"\"\n",
    "    return f\"graph_features[{dataset}]\""
   ]
  },
  {
   "cell_type": "code",
   "execution_count": 54,
   "id": "d181ee41-5cd8-430c-900f-54c25f3812e7",
   "metadata": {},
   "outputs": [],
   "source": [
    "@func_to_container_op\n",
    "def Join_datasets(dataset_a: str, dataset_b: str) -> str:\n",
    "    \"\"\"Joins two datasets.\"\"\"\n",
    "    return f\"{dataset_a}+{dataset_b}\""
   ]
  },
  {
   "cell_type": "code",
   "execution_count": 55,
   "id": "7cbd4fef-f55a-4e88-89c3-4602ab33a5fe",
   "metadata": {},
   "outputs": [],
   "source": [
    "@func_to_container_op\n",
    "def Train(dataset: str) -> str:\n",
    "    \"\"\"Trains a model on given dataset.\"\"\"\n",
    "    return f\"Model[{dataset}]\""
   ]
  },
  {
   "cell_type": "code",
   "execution_count": 56,
   "id": "007e8e8b-e2ae-4a5d-90ef-739f65fce44f",
   "metadata": {},
   "outputs": [],
   "source": [
    "@func_to_container_op\n",
    "def Validate(dataset: str, model: str) -> int:\n",
    "    \"\"\"Validates a model on given dataset.\"\"\"\n",
    "    return f\"Score[{dataset},{model}]\""
   ]
  },
  {
   "cell_type": "code",
   "execution_count": 57,
   "id": "4b4f7e4f-dfa6-4009-ba54-386525fae5d6",
   "metadata": {},
   "outputs": [],
   "source": [
    "@func_to_container_op\n",
    "def CompareAndVisualize(score_a: int, score_b: int) -> str:\n",
    "    \"\"\"Compares scores and visualize result.\"\"\"\n",
    "    return f\"Plot[{score_a},{score_b}]\""
   ]
  },
  {
   "cell_type": "code",
   "execution_count": 60,
   "id": "2d62fbfe-b968-4888-9cfd-bbf82d4f3f3f",
   "metadata": {},
   "outputs": [],
   "source": [
    "@dsl.pipeline(\n",
    "    name='TG Demo Proposal',\n",
    "    description='Shows control flow of a demo TG pipeeine.'\n",
    ")\n",
    "def TGDemoProposal():\n",
    "    data = TigerGraph_dataloader(\"Cora\")\n",
    "    dataset = DataSplitter(data.output)\n",
    "    \n",
    "    train_features = ClassicFeatures(dataset.outputs['train_set'])\n",
    "    test_features = ClassicFeatures(dataset.outputs['test_set'])\n",
    "    \n",
    "    train_graph_features = GraphFeatures(dataset.outputs['train_set'])\n",
    "    test_graph_features = GraphFeatures(dataset.outputs['test_set'])\n",
    "    \n",
    "    train_enriched_features = Join_datasets(train_features.output, train_graph_features.output)\n",
    "    test_enriched_features = Join_datasets(test_features.output, test_graph_features.output)\n",
    "\n",
    "    model_a = Train(train_features.output)\n",
    "    model_b = Train(train_enriched_features.output)\n",
    "    \n",
    "    score_a = Validate(test_features.output, model_a.output)\n",
    "    score_b = Validate(test_enriched_features.output, model_b.output)\n",
    "    \n",
    "    result = CompareAndVisualize(score_a.output, score_b.output)\n",
    "    \n",
    "    \n",
    "    "
   ]
  },
  {
   "cell_type": "code",
   "execution_count": 61,
   "id": "eb6d5942-9d0c-4d41-a5ea-d8314fe0f76f",
   "metadata": {},
   "outputs": [],
   "source": [
    "# Compiling the pipeline\n",
    "kfp.compiler.Compiler().compile(TGDemoProposal,  'TGDemo.yaml')"
   ]
  },
  {
   "cell_type": "code",
   "execution_count": null,
   "id": "e38bcc73-2c62-4475-acfc-92d70c131a81",
   "metadata": {},
   "outputs": [],
   "source": []
  }
 ],
 "metadata": {
  "kernelspec": {
   "display_name": "Python 3",
   "language": "python",
   "name": "python3"
  },
  "language_info": {
   "codemirror_mode": {
    "name": "ipython",
    "version": 3
   },
   "file_extension": ".py",
   "mimetype": "text/x-python",
   "name": "python",
   "nbconvert_exporter": "python",
   "pygments_lexer": "ipython3",
   "version": "3.8.10"
  }
 },
 "nbformat": 4,
 "nbformat_minor": 5
}

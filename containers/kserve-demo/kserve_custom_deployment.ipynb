{
 "cells": [
  {
   "cell_type": "code",
   "execution_count": 19,
   "id": "9232b333-c732-4759-8dad-3dfdce5d86a8",
   "metadata": {},
   "outputs": [],
   "source": [
    "from kubernetes.client import V1Container\n",
    "from kserve import V1beta1InferenceService, V1beta1InferenceServiceSpec, V1beta1PredictorSpec\n",
    "from kserve import constants\n",
    "from kubernetes import client \n",
    "from kserve import KServeClient"
   ]
  },
  {
   "cell_type": "code",
   "execution_count": 23,
   "id": "108a8462-fd7d-4b54-8d3e-075c35ab6cbe",
   "metadata": {},
   "outputs": [],
   "source": [
    "name='tg-gcn-kserve-demo'\n",
    "kserve_version='v1beta1'\n",
    "namespace = 'kubeflow-user-example-com'\n",
    "api_version = constants.KSERVE_GROUP + '/' + kserve_version\n",
    "\n",
    "isvc = V1beta1InferenceService(api_version=api_version,\n",
    "                                kind=constants.KSERVE_KIND,\n",
    "                                metadata=client.V1ObjectMeta(\n",
    "                                   name=name, namespace=namespace, annotations={'sidecar.istio.io/inject':'false'}),\n",
    "                                   spec=V1beta1InferenceServiceSpec(\n",
    "                                       predictor=V1beta1PredictorSpec(\n",
    "                                           containers=[V1Container(image = \"skirpichenko/kserve-base:latest\", name = \"kserve-base\")]\n",
    "                                       )\n",
    "                                   )\n",
    "                                )"
   ]
  },
  {
   "cell_type": "code",
   "execution_count": 24,
   "id": "b48717bb-c58c-4124-9474-6019de7441dc",
   "metadata": {},
   "outputs": [
    {
     "data": {
      "text/plain": [
       "{'apiVersion': 'serving.kserve.io/v1beta1',\n",
       " 'kind': 'InferenceService',\n",
       " 'metadata': {'annotations': {'sidecar.istio.io/inject': 'false'},\n",
       "  'creationTimestamp': '2022-05-27T12:45:52Z',\n",
       "  'generation': 1,\n",
       "  'managedFields': [{'apiVersion': 'serving.kserve.io/v1beta1',\n",
       "    'fieldsType': 'FieldsV1',\n",
       "    'fieldsV1': {'f:metadata': {'f:annotations': {'.': {},\n",
       "       'f:sidecar.istio.io/inject': {}}},\n",
       "     'f:spec': {'.': {}, 'f:predictor': {'.': {}, 'f:containers': {}}}},\n",
       "    'manager': 'OpenAPI-Generator',\n",
       "    'operation': 'Update',\n",
       "    'time': '2022-05-27T12:45:48Z'}],\n",
       "  'name': 'tg-gcn-kserve-demo',\n",
       "  'namespace': 'kubeflow-user-example-com',\n",
       "  'resourceVersion': '1670151',\n",
       "  'uid': '28fde108-3a95-4431-92cb-d07f9657f7f1'},\n",
       " 'spec': {'predictor': {'containers': [{'image': 'skirpichenko/kserve-base:latest',\n",
       "     'name': 'kserve-container',\n",
       "     'resources': {'limits': {'cpu': '1', 'memory': '2Gi'},\n",
       "      'requests': {'cpu': '1', 'memory': '2Gi'}}}]}}}"
      ]
     },
     "execution_count": 24,
     "metadata": {},
     "output_type": "execute_result"
    }
   ],
   "source": [
    "KServe = KServeClient()\n",
    "KServe.create(isvc)"
   ]
  },
  {
   "cell_type": "code",
   "execution_count": 25,
   "id": "129fcd5c-88b6-41a3-a73d-348ea6a24e6e",
   "metadata": {},
   "outputs": [
    {
     "name": "stdout",
     "output_type": "stream",
     "text": [
      "NAME                 READY      PREV                      LATEST                    URL                                                              \n",
      "tg-gcn-kserve-demo   Unknown                                                                                                                         \n",
      "tg-gcn-kserve-demo   Unknown                                                                                                                         \n",
      "tg-gcn-kserve-demo   Unknown    0                         100                                                                                        \n",
      "tg-gcn-kserve-demo   Unknown    0                         100                                                                                        \n",
      "tg-gcn-kserve-demo   Unknown    0                         100                                                                                        \n",
      "tg-gcn-kserve-demo   Unknown    0                         100                                                                                        \n",
      "tg-gcn-kserve-demo   Unknown    0                         100                                                                                        \n",
      "tg-gcn-kserve-demo   True       0                         100                       http://tg-gcn-kserve-demo.kubeflow-user-example-com.example.com  \n"
     ]
    }
   ],
   "source": [
    "KServe.get(name, namespace=namespace, watch=True, timeout_seconds=120)"
   ]
  },
  {
   "cell_type": "code",
   "execution_count": 26,
   "id": "d3f57650-4bf6-4d09-89ca-8857539f398e",
   "metadata": {},
   "outputs": [
    {
     "name": "stdout",
     "output_type": "stream",
     "text": [
      "http://tg-gcn-kserve-demo.kubeflow-user-example-com.svc.cluster.local/v1/models/tg-gcn-kserve-demo:predict\n",
      "{\"predictions\": [{\"primary_id\": \"7\", \"label\": 3}, {\"primary_id\": \"999\", \"label\": 2}]}\n"
     ]
    }
   ],
   "source": [
    "import requests\n",
    "\n",
    "isvc_resp = KServe.get(name, namespace=namespace)\n",
    "isvc_url = isvc_resp['status']['address']['url']\n",
    "\n",
    "print(isvc_url)\n",
    "\n",
    "inference_input = {\n",
    "    \"nodes\": [\n",
    "      {\"primary_id\": 7, \"type\": \"Paper\"}, \n",
    "      {\"primary_id\": 999, \"type\": \"Paper\"}\n",
    "    ]\n",
    "}\n",
    "\n",
    "response = requests.post(isvc_url, json=inference_input)\n",
    "print(response.text)"
   ]
  },
  {
   "cell_type": "code",
   "execution_count": null,
   "id": "7f586233-8498-4e02-9d39-9e12d1ece5ce",
   "metadata": {},
   "outputs": [],
   "source": []
  }
 ],
 "metadata": {
  "kernelspec": {
   "display_name": "Python 3",
   "language": "python",
   "name": "python3"
  },
  "language_info": {
   "codemirror_mode": {
    "name": "ipython",
    "version": 3
   },
   "file_extension": ".py",
   "mimetype": "text/x-python",
   "name": "python",
   "nbconvert_exporter": "python",
   "pygments_lexer": "ipython3",
   "version": "3.8.10"
  }
 },
 "nbformat": 4,
 "nbformat_minor": 5
}

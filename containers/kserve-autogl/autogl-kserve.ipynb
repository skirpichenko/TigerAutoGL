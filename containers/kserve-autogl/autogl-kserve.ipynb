{
 "cells": [
  {
   "cell_type": "code",
   "execution_count": 1,
   "id": "da880170-eb57-44bd-8aa8-4a923021b2ad",
   "metadata": {},
   "outputs": [],
   "source": [
    "!pip install -q --no-index torch-scatter -f https://data.pyg.org/whl/torch-1.8.1+cu111.html\n",
    "!pip install -q --no-index torch-sparse -f https://data.pyg.org/whl/torch-1.8.1+cu111.html\n",
    "!pip install -q --no-index torch-cluster -f https://data.pyg.org/whl/torch-1.8.1+cu111.html\n",
    "!pip install -q --no-index torch-spline-conv -f https://data.pyg.org/whl/torch-1.8.1+cu111.html\n",
    "!pip install -q torch-geometric"
   ]
  },
  {
   "cell_type": "code",
   "execution_count": 4,
   "id": "d65c5c8f-7459-434e-846a-63c358181660",
   "metadata": {},
   "outputs": [],
   "source": [
    "!pip install -q autogl==0.3.1"
   ]
  },
  {
   "cell_type": "code",
   "execution_count": 1,
   "id": "a3d8145d-a806-4827-8cde-06154cff6bc3",
   "metadata": {},
   "outputs": [
    {
     "name": "stdout",
     "output_type": "stream",
     "text": [
      "[2022-05-31 13:01:23] INFO (root/MainThread) PyTorch Lightning is not installed.\n",
      "[2022-05-31 13:01:23] INFO (root/MainThread) Tensorflow is not installed.\n"
     ]
    }
   ],
   "source": [
    "import yaml\n",
    "import random\n",
    "import torch.backends.cudnn\n",
    "import numpy as np\n",
    "from autogl.datasets import build_dataset_from_name\n",
    "from autogl.solver import AutoNodeClassifier\n",
    "from autogl.module import Acc\n",
    "from autogl.backend import DependentBackend"
   ]
  },
  {
   "cell_type": "code",
   "execution_count": 58,
   "id": "575d9951-b66e-4a04-aa9a-be2b86e7fdd6",
   "metadata": {},
   "outputs": [],
   "source": [
    "if torch.cuda.is_available():\n",
    "    torch.cuda.set_device(0)\n",
    "seed = 123\n",
    "# set random seed\n",
    "random.seed(seed)\n",
    "np.random.seed(seed)\n",
    "torch.manual_seed(seed)\n",
    "if torch.cuda.is_available():\n",
    "    torch.cuda.manual_seed(seed)\n",
    "    torch.backends.cudnn.deterministic = True\n",
    "    torch.backends.cudnn.benchmark = False"
   ]
  },
  {
   "cell_type": "code",
   "execution_count": 3,
   "id": "8265a528-7001-4f47-a3e5-58486cfbb55b",
   "metadata": {},
   "outputs": [],
   "source": [
    "choices=[\n",
    "            \"cora\",\n",
    "            \"pubmed\",\n",
    "            \"citeseer\",\n",
    "            \"coauthor_cs\",\n",
    "            \"coauthor_physics\",\n",
    "            \"amazon_computers\",\n",
    "            \"amazon_photo\",\n",
    "        ] \n",
    "dataset_name = choices[0]\n",
    "dataset = build_dataset_from_name(dataset_name)\n",
    "label = dataset[0].nodes.data[\"y\" if DependentBackend.is_pyg() else \"label\"]\n",
    "num_classes = len(np.unique(label.numpy()))"
   ]
  },
  {
   "cell_type": "code",
   "execution_count": 27,
   "id": "db91bb07-30fb-465c-92a3-246be40a45ca",
   "metadata": {},
   "outputs": [
    {
     "data": {
      "text/plain": [
       "<autogl.datasets._pyg.CoraDataset at 0x7f646050cf40>"
      ]
     },
     "execution_count": 27,
     "metadata": {},
     "output_type": "execute_result"
    }
   ],
   "source": [
    "dataset"
   ]
  },
  {
   "cell_type": "code",
   "execution_count": 4,
   "id": "aa64ff44-659c-45a7-9751-c305f258b166",
   "metadata": {},
   "outputs": [],
   "source": [
    "spec = \"\"\"ensemble:\n",
    "  name: null\n",
    "feature:\n",
    "- name: NormalizeFeatures\n",
    "hpo:\n",
    "  max_evals: 10\n",
    "  name: random\n",
    "models:\n",
    "- hp_space:\n",
    "  - feasiblePoints: '2'\n",
    "    parameterName: num_layers\n",
    "    type: DISCRETE\n",
    "  - cutFunc: lambda x:x[0] - 1\n",
    "    cutPara:\n",
    "    - num_layers\n",
    "    length: 1\n",
    "    maxValue:\n",
    "    - 64\n",
    "    minValue:\n",
    "    - 16\n",
    "    numericalType: INTEGER\n",
    "    parameterName: hidden\n",
    "    scalingType: LOG\n",
    "    type: NUMERICAL_LIST\n",
    "  - maxValue: 0.8\n",
    "    minValue: 0.2\n",
    "    parameterName: dropout\n",
    "    scalingType: LINEAR\n",
    "    type: DOUBLE\n",
    "  - feasiblePoints:\n",
    "    - leaky_relu\n",
    "    - relu\n",
    "    - elu\n",
    "    - tanh\n",
    "    parameterName: act\n",
    "    type: CATEGORICAL\n",
    "  name: gcn-model\n",
    "trainer:\n",
    "  hp_space:\n",
    "  - maxValue: 300\n",
    "    minValue: 100\n",
    "    parameterName: max_epoch\n",
    "    scalingType: LINEAR\n",
    "    type: INTEGER\n",
    "  - maxValue: 30\n",
    "    minValue: 10\n",
    "    parameterName: early_stopping_round\n",
    "    scalingType: LINEAR\n",
    "    type: INTEGER\n",
    "  - maxValue: 0.05\n",
    "    minValue: 0.005\n",
    "    parameterName: lr\n",
    "    scalingType: LOG\n",
    "    type: DOUBLE\n",
    "  - maxValue: 0.001\n",
    "    minValue: 0.0001\n",
    "    parameterName: weight_decay\n",
    "    scalingType: LOG\n",
    "    type: DOUBLE\"\"\""
   ]
  },
  {
   "cell_type": "code",
   "execution_count": 5,
   "id": "b0a9aacd-246c-460c-b89f-4fb205615fc5",
   "metadata": {},
   "outputs": [
    {
     "data": {
      "text/plain": [
       "{'ensemble': {'name': None},\n",
       " 'feature': [{'name': 'NormalizeFeatures'}],\n",
       " 'hpo': {'max_evals': 20, 'name': 'tpe'},\n",
       " 'models': [{'hp_space': [{'feasiblePoints': '2',\n",
       "     'parameterName': 'num_layers',\n",
       "     'type': 'DISCRETE'},\n",
       "    {'cutFunc': 'lambda x:x[0] - 1',\n",
       "     'cutPara': ['num_layers'],\n",
       "     'length': 1,\n",
       "     'maxValue': [64],\n",
       "     'minValue': [16],\n",
       "     'numericalType': 'INTEGER',\n",
       "     'parameterName': 'hidden',\n",
       "     'scalingType': 'LOG',\n",
       "     'type': 'NUMERICAL_LIST'},\n",
       "    {'maxValue': 0.8,\n",
       "     'minValue': 0.2,\n",
       "     'parameterName': 'dropout',\n",
       "     'scalingType': 'LINEAR',\n",
       "     'type': 'DOUBLE'},\n",
       "    {'feasiblePoints': ['leaky_relu', 'relu', 'elu', 'tanh'],\n",
       "     'parameterName': 'act',\n",
       "     'type': 'CATEGORICAL'}],\n",
       "   'name': 'gcn-model'}],\n",
       " 'trainer': {'hp_space': [{'maxValue': 300,\n",
       "    'minValue': 100,\n",
       "    'parameterName': 'max_epoch',\n",
       "    'scalingType': 'LINEAR',\n",
       "    'type': 'INTEGER'},\n",
       "   {'maxValue': 30,\n",
       "    'minValue': 10,\n",
       "    'parameterName': 'early_stopping_round',\n",
       "    'scalingType': 'LINEAR',\n",
       "    'type': 'INTEGER'},\n",
       "   {'maxValue': 0.05,\n",
       "    'minValue': 0.005,\n",
       "    'parameterName': 'lr',\n",
       "    'scalingType': 'LOG',\n",
       "    'type': 'DOUBLE'},\n",
       "   {'maxValue': 0.001,\n",
       "    'minValue': 0.0001,\n",
       "    'parameterName': 'weight_decay',\n",
       "    'scalingType': 'LOG',\n",
       "    'type': 'DOUBLE'}]},\n",
       " 'device': 'cpu'}"
      ]
     },
     "execution_count": 5,
     "metadata": {},
     "output_type": "execute_result"
    }
   ],
   "source": [
    "configs = yaml.load(spec, Loader=yaml.FullLoader)\n",
    "configs[\"hpo\"][\"name\"] = \"tpe\"\n",
    "configs[\"hpo\"][\"max_evals\"] = 20\n",
    "configs['device'] = 'cpu'\n",
    "configs"
   ]
  },
  {
   "cell_type": "code",
   "execution_count": 6,
   "id": "3b0863f8-b887-4b8f-b223-197bc2d71ceb",
   "metadata": {},
   "outputs": [
    {
     "name": "stdout",
     "output_type": "stream",
     "text": [
      "[2022-05-31 09:10:20] WARNING (root/MainThread) Ignore passed dec since enc is a whole model\n"
     ]
    }
   ],
   "source": [
    "autoClassifier = AutoNodeClassifier.from_config(configs)"
   ]
  },
  {
   "cell_type": "code",
   "execution_count": 7,
   "id": "2a904c90-c70f-4a02-88ae-8d35b4da28fe",
   "metadata": {},
   "outputs": [
    {
     "data": {
      "text/plain": [
       "True"
      ]
     },
     "execution_count": 7,
     "metadata": {},
     "output_type": "execute_result"
    }
   ],
   "source": [
    "import logging\n",
    "# logging.Logger.manager.loggerDict\n",
    "logging.getLogger().isEnabledFor(logging.WARNING)"
   ]
  },
  {
   "cell_type": "code",
   "execution_count": 8,
   "id": "d536de15-64d6-4533-8c64-609893bab253",
   "metadata": {},
   "outputs": [],
   "source": [
    "logging.getLogger().addFilter(lambda s: \"Ignore passed dec since enc is a whole model\" not in s.getMessage())"
   ]
  },
  {
   "cell_type": "code",
   "execution_count": 9,
   "id": "2d44683f-3027-4ec5-a171-ee2b08c92b75",
   "metadata": {},
   "outputs": [
    {
     "name": "stdout",
     "output_type": "stream",
     "text": [
      "[2022-05-31 09:10:20] INFO (NodeClassifier/MainThread) Use the default train/val/test ratio in given dataset\n",
      "HPO Search Phase:\n",
      "\n"
     ]
    },
    {
     "name": "stderr",
     "output_type": "stream",
     "text": [
      "  0%|          | 0/20 [00:00<?, ?it/s]"
     ]
    },
    {
     "name": "stdout",
     "output_type": "stream",
     "text": [
      "[2022-05-31 09:10:20] INFO (hyperopt.tpe/MainThread) tpe_transform took 0.073220 seconds\n",
      "[2022-05-31 09:10:20] INFO (hyperopt.tpe/MainThread) TPE using 0 trials\n",
      "[2022-05-31 09:10:25] INFO (HPO/MainThread) Parameter: {'trainer': {'max_epoch': 275, 'early_stopping_round': 15, 'lr': 0.014164148516981535, 'weight_decay': 0.0006419292885702267}, 'encoder': {'num_layers': 2, 'hidden': [20], 'dropout': 0.7736718727304612, 'act': 'relu'}, 'decoder': {}} acc: 0.808 higher_better\n"
     ]
    },
    {
     "name": "stderr",
     "output_type": "stream",
     "text": [
      "  5%|▌         | 1/20 [00:05<01:42,  5.38s/it]"
     ]
    },
    {
     "name": "stdout",
     "output_type": "stream",
     "text": [
      "[2022-05-31 09:10:25] INFO (hyperopt.tpe/MainThread) tpe_transform took 0.002169 seconds\n",
      "[2022-05-31 09:10:25] INFO (hyperopt.tpe/MainThread) TPE using 1/1 trials with best loss -0.808000\n",
      "[2022-05-31 09:10:30] INFO (HPO/MainThread) Parameter: {'trainer': {'max_epoch': 271, 'early_stopping_round': 27, 'lr': 0.04323531162686548, 'weight_decay': 0.00032750370206197614}, 'encoder': {'num_layers': 2, 'hidden': [34], 'dropout': 0.5387337145728119, 'act': 'tanh'}, 'decoder': {}} acc: 0.81 higher_better\n"
     ]
    },
    {
     "name": "stderr",
     "output_type": "stream",
     "text": [
      " 10%|█         | 2/20 [00:10<01:35,  5.28s/it]"
     ]
    },
    {
     "name": "stdout",
     "output_type": "stream",
     "text": [
      "[2022-05-31 09:10:30] INFO (hyperopt.tpe/MainThread) tpe_transform took 0.002226 seconds\n",
      "[2022-05-31 09:10:30] INFO (hyperopt.tpe/MainThread) TPE using 2/2 trials with best loss -0.810000\n",
      "[2022-05-31 09:10:40] INFO (HPO/MainThread) Parameter: {'trainer': {'max_epoch': 248, 'early_stopping_round': 24, 'lr': 0.008380456024063966, 'weight_decay': 0.0005448111439034048}, 'encoder': {'num_layers': 2, 'hidden': [57], 'dropout': 0.6190133128966635, 'act': 'elu'}, 'decoder': {}} acc: 0.798 higher_better\n"
     ]
    },
    {
     "name": "stderr",
     "output_type": "stream",
     "text": [
      " 15%|█▌        | 3/20 [00:20<02:04,  7.30s/it]"
     ]
    },
    {
     "name": "stdout",
     "output_type": "stream",
     "text": [
      "[2022-05-31 09:10:40] INFO (hyperopt.tpe/MainThread) tpe_transform took 0.072070 seconds\n",
      "[2022-05-31 09:10:40] INFO (hyperopt.tpe/MainThread) TPE using 3/3 trials with best loss -0.810000\n",
      "[2022-05-31 09:10:49] INFO (HPO/MainThread) Parameter: {'trainer': {'max_epoch': 145, 'early_stopping_round': 12, 'lr': 0.014367433484656238, 'weight_decay': 0.0007780131308915355}, 'encoder': {'num_layers': 2, 'hidden': [33], 'dropout': 0.46075834313659675, 'act': 'leaky_relu'}, 'decoder': {}} acc: 0.806 higher_better\n"
     ]
    },
    {
     "name": "stderr",
     "output_type": "stream",
     "text": [
      " 20%|██        | 4/20 [00:28<02:04,  7.81s/it]"
     ]
    },
    {
     "name": "stdout",
     "output_type": "stream",
     "text": [
      "[2022-05-31 09:10:49] INFO (hyperopt.tpe/MainThread) tpe_transform took 0.002459 seconds\n",
      "[2022-05-31 09:10:49] INFO (hyperopt.tpe/MainThread) TPE using 4/4 trials with best loss -0.810000\n",
      "[2022-05-31 09:10:55] INFO (HPO/MainThread) Parameter: {'trainer': {'max_epoch': 172, 'early_stopping_round': 24, 'lr': 0.01775340371828432, 'weight_decay': 0.0004137851759696565}, 'encoder': {'num_layers': 2, 'hidden': [17], 'dropout': 0.2213423476284735, 'act': 'leaky_relu'}, 'decoder': {}} acc: 0.8 higher_better\n"
     ]
    },
    {
     "name": "stderr",
     "output_type": "stream",
     "text": [
      " 25%|██▌       | 5/20 [00:35<01:50,  7.34s/it]"
     ]
    },
    {
     "name": "stdout",
     "output_type": "stream",
     "text": [
      "[2022-05-31 09:10:55] INFO (hyperopt.tpe/MainThread) tpe_transform took 0.002118 seconds\n",
      "[2022-05-31 09:10:55] INFO (hyperopt.tpe/MainThread) TPE using 5/5 trials with best loss -0.810000\n",
      "[2022-05-31 09:10:57] INFO (HPO/MainThread) Parameter: {'trainer': {'max_epoch': 296, 'early_stopping_round': 14, 'lr': 0.010464404616277961, 'weight_decay': 0.0006489247197634635}, 'encoder': {'num_layers': 2, 'hidden': [28], 'dropout': 0.39310272394227536, 'act': 'leaky_relu'}, 'decoder': {}} acc: 0.772 higher_better\n"
     ]
    },
    {
     "name": "stderr",
     "output_type": "stream",
     "text": [
      " 30%|███       | 6/20 [00:37<01:18,  5.62s/it]"
     ]
    },
    {
     "name": "stdout",
     "output_type": "stream",
     "text": [
      "[2022-05-31 09:10:58] INFO (hyperopt.tpe/MainThread) tpe_transform took 0.002145 seconds\n",
      "[2022-05-31 09:10:58] INFO (hyperopt.tpe/MainThread) TPE using 6/6 trials with best loss -0.810000\n",
      "[2022-05-31 09:11:04] INFO (HPO/MainThread) Parameter: {'trainer': {'max_epoch': 143, 'early_stopping_round': 14, 'lr': 0.010650032489608982, 'weight_decay': 0.000663680282784584}, 'encoder': {'num_layers': 2, 'hidden': [28], 'dropout': 0.7003349925844391, 'act': 'leaky_relu'}, 'decoder': {}} acc: 0.788 higher_better\n"
     ]
    },
    {
     "name": "stderr",
     "output_type": "stream",
     "text": [
      " 35%|███▌      | 7/20 [00:44<01:17,  5.98s/it]"
     ]
    },
    {
     "name": "stdout",
     "output_type": "stream",
     "text": [
      "[2022-05-31 09:11:04] INFO (hyperopt.tpe/MainThread) tpe_transform took 0.002150 seconds\n",
      "[2022-05-31 09:11:04] INFO (hyperopt.tpe/MainThread) TPE using 7/7 trials with best loss -0.810000\n",
      "[2022-05-31 09:11:13] INFO (HPO/MainThread) Parameter: {'trainer': {'max_epoch': 209, 'early_stopping_round': 19, 'lr': 0.011197767361844222, 'weight_decay': 0.00020749262497848976}, 'encoder': {'num_layers': 2, 'hidden': [43], 'dropout': 0.2981524710825553, 'act': 'leaky_relu'}, 'decoder': {}} acc: 0.8 higher_better\n"
     ]
    },
    {
     "name": "stderr",
     "output_type": "stream",
     "text": [
      " 40%|████      | 8/20 [00:52<01:20,  6.72s/it]"
     ]
    },
    {
     "name": "stdout",
     "output_type": "stream",
     "text": [
      "[2022-05-31 09:11:13] INFO (hyperopt.tpe/MainThread) tpe_transform took 0.210784 seconds\n",
      "[2022-05-31 09:11:13] INFO (hyperopt.tpe/MainThread) TPE using 8/8 trials with best loss -0.810000\n",
      "[2022-05-31 09:11:27] INFO (HPO/MainThread) Parameter: {'trainer': {'max_epoch': 139, 'early_stopping_round': 21, 'lr': 0.008329372188913789, 'weight_decay': 0.0003416743789200837}, 'encoder': {'num_layers': 2, 'hidden': [47], 'dropout': 0.772354437743668, 'act': 'elu'}, 'decoder': {}} acc: 0.812 higher_better\n"
     ]
    },
    {
     "name": "stderr",
     "output_type": "stream",
     "text": [
      " 45%|████▌     | 9/20 [01:06<01:39,  9.03s/it]"
     ]
    },
    {
     "name": "stdout",
     "output_type": "stream",
     "text": [
      "[2022-05-31 09:11:27] INFO (hyperopt.tpe/MainThread) tpe_transform took 0.002258 seconds\n",
      "[2022-05-31 09:11:27] INFO (hyperopt.tpe/MainThread) TPE using 9/9 trials with best loss -0.812000\n",
      "[2022-05-31 09:11:31] INFO (HPO/MainThread) Parameter: {'trainer': {'max_epoch': 234, 'early_stopping_round': 14, 'lr': 0.026261961722747286, 'weight_decay': 0.00022772514284791068}, 'encoder': {'num_layers': 2, 'hidden': [27], 'dropout': 0.6733970935179454, 'act': 'tanh'}, 'decoder': {}} acc: 0.808 higher_better\n"
     ]
    },
    {
     "name": "stderr",
     "output_type": "stream",
     "text": [
      " 50%|█████     | 10/20 [01:10<01:14,  7.44s/it]"
     ]
    },
    {
     "name": "stdout",
     "output_type": "stream",
     "text": [
      "[2022-05-31 09:11:31] INFO (hyperopt.tpe/MainThread) tpe_transform took 0.002176 seconds\n",
      "[2022-05-31 09:11:31] INFO (hyperopt.tpe/MainThread) TPE using 10/10 trials with best loss -0.812000\n",
      "[2022-05-31 09:11:37] INFO (HPO/MainThread) Parameter: {'trainer': {'max_epoch': 123, 'early_stopping_round': 18, 'lr': 0.01535474236769196, 'weight_decay': 0.0002284789225749846}, 'encoder': {'num_layers': 2, 'hidden': [35], 'dropout': 0.7510614463083309, 'act': 'relu'}, 'decoder': {}} acc: 0.808 higher_better\n"
     ]
    },
    {
     "name": "stderr",
     "output_type": "stream",
     "text": [
      " 55%|█████▌    | 11/20 [01:17<01:04,  7.12s/it]"
     ]
    },
    {
     "name": "stdout",
     "output_type": "stream",
     "text": [
      "[2022-05-31 09:11:37] INFO (hyperopt.tpe/MainThread) tpe_transform took 0.002185 seconds\n",
      "[2022-05-31 09:11:37] INFO (hyperopt.tpe/MainThread) TPE using 11/11 trials with best loss -0.812000\n",
      "[2022-05-31 09:11:40] INFO (HPO/MainThread) Parameter: {'trainer': {'max_epoch': 207, 'early_stopping_round': 13, 'lr': 0.01942450531837371, 'weight_decay': 0.00012061564841020534}, 'encoder': {'num_layers': 2, 'hidden': [27], 'dropout': 0.6259292229398846, 'act': 'relu'}, 'decoder': {}} acc: 0.788 higher_better\n"
     ]
    },
    {
     "name": "stderr",
     "output_type": "stream",
     "text": [
      " 60%|██████    | 12/20 [01:19<00:46,  5.81s/it]"
     ]
    },
    {
     "name": "stdout",
     "output_type": "stream",
     "text": [
      "[2022-05-31 09:11:40] INFO (hyperopt.tpe/MainThread) tpe_transform took 0.002186 seconds\n",
      "[2022-05-31 09:11:40] INFO (hyperopt.tpe/MainThread) TPE using 12/12 trials with best loss -0.812000\n",
      "[2022-05-31 09:11:51] INFO (HPO/MainThread) Parameter: {'trainer': {'max_epoch': 171, 'early_stopping_round': 28, 'lr': 0.03549158537571108, 'weight_decay': 0.00022661131353553655}, 'encoder': {'num_layers': 2, 'hidden': [25], 'dropout': 0.718669523320584, 'act': 'tanh'}, 'decoder': {}} acc: 0.806 higher_better\n"
     ]
    },
    {
     "name": "stderr",
     "output_type": "stream",
     "text": [
      " 65%|██████▌   | 13/20 [01:31<00:52,  7.50s/it]"
     ]
    },
    {
     "name": "stdout",
     "output_type": "stream",
     "text": [
      "[2022-05-31 09:11:51] INFO (hyperopt.tpe/MainThread) tpe_transform took 0.002321 seconds\n",
      "[2022-05-31 09:11:51] INFO (hyperopt.tpe/MainThread) TPE using 13/13 trials with best loss -0.812000\n",
      "[2022-05-31 09:11:58] INFO (HPO/MainThread) Parameter: {'trainer': {'max_epoch': 255, 'early_stopping_round': 27, 'lr': 0.02043881458310644, 'weight_decay': 0.00048699717768760175}, 'encoder': {'num_layers': 2, 'hidden': [61], 'dropout': 0.36096111833061617, 'act': 'elu'}, 'decoder': {}} acc: 0.802 higher_better\n"
     ]
    },
    {
     "name": "stderr",
     "output_type": "stream",
     "text": [
      " 70%|███████   | 14/20 [01:38<00:44,  7.38s/it]"
     ]
    },
    {
     "name": "stdout",
     "output_type": "stream",
     "text": [
      "[2022-05-31 09:11:58] INFO (hyperopt.tpe/MainThread) tpe_transform took 0.002235 seconds\n",
      "[2022-05-31 09:11:58] INFO (hyperopt.tpe/MainThread) TPE using 14/14 trials with best loss -0.812000\n",
      "[2022-05-31 09:12:00] INFO (HPO/MainThread) Parameter: {'trainer': {'max_epoch': 230, 'early_stopping_round': 11, 'lr': 0.03103993551224613, 'weight_decay': 0.0005681761062960785}, 'encoder': {'num_layers': 2, 'hidden': [24], 'dropout': 0.7916001689098198, 'act': 'relu'}, 'decoder': {}} acc: 0.64 higher_better\n"
     ]
    },
    {
     "name": "stderr",
     "output_type": "stream",
     "text": [
      " 75%|███████▌  | 15/20 [01:40<00:28,  5.67s/it]"
     ]
    },
    {
     "name": "stdout",
     "output_type": "stream",
     "text": [
      "[2022-05-31 09:12:00] INFO (hyperopt.tpe/MainThread) tpe_transform took 0.002414 seconds\n",
      "[2022-05-31 09:12:00] INFO (hyperopt.tpe/MainThread) TPE using 15/15 trials with best loss -0.812000\n",
      "[2022-05-31 09:12:02] INFO (HPO/MainThread) Parameter: {'trainer': {'max_epoch': 175, 'early_stopping_round': 12, 'lr': 0.005831198123075771, 'weight_decay': 0.000533267053767182}, 'encoder': {'num_layers': 2, 'hidden': [25], 'dropout': 0.6482605977600435, 'act': 'tanh'}, 'decoder': {}} acc: 0.67 higher_better\n"
     ]
    },
    {
     "name": "stderr",
     "output_type": "stream",
     "text": [
      " 80%|████████  | 16/20 [01:41<00:18,  4.53s/it]"
     ]
    },
    {
     "name": "stdout",
     "output_type": "stream",
     "text": [
      "[2022-05-31 09:12:02] INFO (hyperopt.tpe/MainThread) tpe_transform took 0.002151 seconds\n",
      "[2022-05-31 09:12:02] INFO (hyperopt.tpe/MainThread) TPE using 16/16 trials with best loss -0.812000\n",
      "[2022-05-31 09:12:05] INFO (HPO/MainThread) Parameter: {'trainer': {'max_epoch': 271, 'early_stopping_round': 11, 'lr': 0.0063007186211922455, 'weight_decay': 0.00021769543732943851}, 'encoder': {'num_layers': 2, 'hidden': [38], 'dropout': 0.762405261949159, 'act': 'leaky_relu'}, 'decoder': {}} acc: 0.72 higher_better\n"
     ]
    },
    {
     "name": "stderr",
     "output_type": "stream",
     "text": [
      " 85%|████████▌ | 17/20 [01:44<00:12,  4.02s/it]"
     ]
    },
    {
     "name": "stdout",
     "output_type": "stream",
     "text": [
      "[2022-05-31 09:12:05] INFO (hyperopt.tpe/MainThread) tpe_transform took 0.002283 seconds\n",
      "[2022-05-31 09:12:05] INFO (hyperopt.tpe/MainThread) TPE using 17/17 trials with best loss -0.812000\n",
      "[2022-05-31 09:12:13] INFO (HPO/MainThread) Parameter: {'trainer': {'max_epoch': 296, 'early_stopping_round': 29, 'lr': 0.04888395120644118, 'weight_decay': 0.0005673483312591375}, 'encoder': {'num_layers': 2, 'hidden': [47], 'dropout': 0.33748590865824124, 'act': 'tanh'}, 'decoder': {}} acc: 0.804 higher_better\n"
     ]
    },
    {
     "name": "stderr",
     "output_type": "stream",
     "text": [
      " 90%|█████████ | 18/20 [01:52<00:10,  5.18s/it]"
     ]
    },
    {
     "name": "stdout",
     "output_type": "stream",
     "text": [
      "[2022-05-31 09:12:13] INFO (hyperopt.tpe/MainThread) tpe_transform took 0.002153 seconds\n",
      "[2022-05-31 09:12:13] INFO (hyperopt.tpe/MainThread) TPE using 18/18 trials with best loss -0.812000\n",
      "[2022-05-31 09:12:17] INFO (HPO/MainThread) Parameter: {'trainer': {'max_epoch': 293, 'early_stopping_round': 11, 'lr': 0.029907962636370397, 'weight_decay': 0.000526907062533777}, 'encoder': {'num_layers': 2, 'hidden': [34], 'dropout': 0.4846252384428438, 'act': 'relu'}, 'decoder': {}} acc: 0.802 higher_better\n"
     ]
    },
    {
     "name": "stderr",
     "output_type": "stream",
     "text": [
      " 95%|█████████▌| 19/20 [01:57<00:05,  5.10s/it]"
     ]
    },
    {
     "name": "stdout",
     "output_type": "stream",
     "text": [
      "[2022-05-31 09:12:18] INFO (hyperopt.tpe/MainThread) tpe_transform took 0.002316 seconds\n",
      "[2022-05-31 09:12:18] INFO (hyperopt.tpe/MainThread) TPE using 19/19 trials with best loss -0.812000\n",
      "[2022-05-31 09:12:28] INFO (HPO/MainThread) Parameter: {'trainer': {'max_epoch': 197, 'early_stopping_round': 27, 'lr': 0.009982900802243988, 'weight_decay': 0.0007904411595331108}, 'encoder': {'num_layers': 2, 'hidden': [19], 'dropout': 0.38351425365310265, 'act': 'tanh'}, 'decoder': {}} acc: 0.806 higher_better\n"
     ]
    },
    {
     "name": "stderr",
     "output_type": "stream",
     "text": [
      "100%|██████████| 20/20 [02:08<00:00,  6.42s/it]\n"
     ]
    },
    {
     "name": "stdout",
     "output_type": "stream",
     "text": [
      "[2022-05-31 09:12:28] INFO (HPO/MainThread) Best Parameter:\n",
      "[2022-05-31 09:12:28] INFO (HPO/MainThread) Parameter: {'trainer': {'max_epoch': 139, 'early_stopping_round': 21, 'lr': 0.008329372188913789, 'weight_decay': 0.0003416743789200837}, 'encoder': {'num_layers': 2, 'hidden': [47], 'dropout': 0.772354437743668, 'act': 'elu'}, 'decoder': {}} acc: 0.812 higher_better\n"
     ]
    }
   ],
   "source": [
    "# train\n",
    "if dataset_name in [\"cora\", \"citeseer\", \"pubmed\"]:\n",
    "    autoClassifier.fit(dataset, time_limit=3600, evaluation_method=[Acc])\n",
    "else:\n",
    "    autoClassifier.fit(\n",
    "        dataset,\n",
    "        time_limit=3600,\n",
    "        evaluation_method=[Acc],\n",
    "        seed=seed,\n",
    "        train_split=20 * num_classes,\n",
    "        val_split=30 * num_classes,\n",
    "        balanced=False,\n",
    "    )"
   ]
  },
  {
   "cell_type": "markdown",
   "id": "2407ea9b-e039-4d60-ba8e-3acff2a44d54",
   "metadata": {},
   "source": [
    "# KServe"
   ]
  },
  {
   "cell_type": "code",
   "execution_count": 4,
   "id": "f7f143c9-46ed-4e47-ab2f-a4314dd7daa0",
   "metadata": {},
   "outputs": [],
   "source": [
    "import joblib\n",
    "import copy\n",
    "import dill"
   ]
  },
  {
   "cell_type": "code",
   "execution_count": 10,
   "id": "bad561b2-8a2d-4c36-a613-f7fd84c35ce8",
   "metadata": {},
   "outputs": [],
   "source": [
    "acf.dataset = None\n",
    "autoClassifier = acf"
   ]
  },
  {
   "cell_type": "code",
   "execution_count": 11,
   "id": "220865a7-5bbe-4819-9fa4-f7e2984d6177",
   "metadata": {},
   "outputs": [],
   "source": [
    "with open('autoClassifier.dill', 'wb') as file:\n",
    "    dill.dump(autoClassifier, file)"
   ]
  },
  {
   "cell_type": "code",
   "execution_count": 12,
   "id": "9c721c8f-51cd-4bf8-aef0-f4d72ff33ce9",
   "metadata": {},
   "outputs": [],
   "source": [
    "with open('autoClassifier.dill', 'rb') as file:\n",
    "    acf = dill.load(file)"
   ]
  },
  {
   "cell_type": "code",
   "execution_count": 26,
   "id": "2883f21f-14ed-4446-8953-dde6694961fb",
   "metadata": {},
   "outputs": [
    {
     "name": "stdout",
     "output_type": "stream",
     "text": [
      "<class 'autogl.module.model.pyg.gcn.AutoGCN'>\n"
     ]
    }
   ],
   "source": [
    "for m in acf.trained_models.values():\n",
    "    print (type(m.encoder))"
   ]
  },
  {
   "cell_type": "code",
   "execution_count": 13,
   "id": "ecb5a40a-a559-4849-a180-b75da4928ddd",
   "metadata": {},
   "outputs": [
    {
     "name": "stdout",
     "output_type": "stream",
     "text": [
      "[2022-05-31 13:02:22] INFO (NodeClassifier/MainThread) Ensemble argument on, will try using ensemble model.\n",
      "[2022-05-31 13:02:22] WARNING (NodeClassifier/MainThread) Cannot use ensemble because no ensebmle module is given. Will use best model instead.\n"
     ]
    },
    {
     "data": {
      "text/plain": [
       "array([[0.17524756, 0.20365748, 0.16183828, ..., 0.09015678, 0.15732759,\n",
       "        0.06911414],\n",
       "       [0.0546177 , 0.03481817, 0.77426016, ..., 0.03831783, 0.02858152,\n",
       "        0.02712895],\n",
       "       [0.07899787, 0.121613  , 0.44402656, ..., 0.07093763, 0.07331976,\n",
       "        0.02558529],\n",
       "       ...,\n",
       "       [0.14718598, 0.2669439 , 0.014981  , ..., 0.01907321, 0.256131  ,\n",
       "        0.12125333],\n",
       "       [0.05522497, 0.05555305, 0.05347392, ..., 0.14460424, 0.04363336,\n",
       "        0.02152764],\n",
       "       [0.05620539, 0.0667403 , 0.06415007, ..., 0.12279192, 0.05495729,\n",
       "        0.02350215]], dtype=float32)"
      ]
     },
     "execution_count": 13,
     "metadata": {},
     "output_type": "execute_result"
    }
   ],
   "source": [
    "acf.predict_proba(dataset)"
   ]
  },
  {
   "cell_type": "code",
   "execution_count": 84,
   "id": "df4de1d1-c830-42d1-994a-0be9885ab78b",
   "metadata": {},
   "outputs": [
    {
     "name": "stdout",
     "output_type": "stream",
     "text": [
      "[2022-05-31 12:59:23] INFO (NodeClassifier/MainThread) Ensemble argument on, will try using ensemble model.\n",
      "[2022-05-31 12:59:23] WARNING (NodeClassifier/MainThread) Cannot use ensemble because no ensebmle module is given. Will use best model instead.\n"
     ]
    },
    {
     "data": {
      "text/plain": [
       "array([[0.17524756, 0.20365748, 0.16183828, ..., 0.09015678, 0.15732759,\n",
       "        0.06911414],\n",
       "       [0.0546177 , 0.03481817, 0.77426016, ..., 0.03831783, 0.02858152,\n",
       "        0.02712895],\n",
       "       [0.07899787, 0.121613  , 0.44402656, ..., 0.07093763, 0.07331976,\n",
       "        0.02558529],\n",
       "       ...,\n",
       "       [0.14718598, 0.2669439 , 0.014981  , ..., 0.01907321, 0.256131  ,\n",
       "        0.12125333],\n",
       "       [0.05522497, 0.05555305, 0.05347392, ..., 0.14460424, 0.04363336,\n",
       "        0.02152764],\n",
       "       [0.05620539, 0.0667403 , 0.06415007, ..., 0.12279192, 0.05495729,\n",
       "        0.02350215]], dtype=float32)"
      ]
     },
     "execution_count": 84,
     "metadata": {},
     "output_type": "execute_result"
    }
   ],
   "source": [
    "autoClassifier.predict_proba(dataset)"
   ]
  },
  {
   "cell_type": "code",
   "execution_count": null,
   "id": "991acc60-2c8c-41f4-ac5d-50b569d1da90",
   "metadata": {},
   "outputs": [],
   "source": []
  },
  {
   "cell_type": "code",
   "execution_count": null,
   "id": "ae470aef-10e7-4b7c-a03a-a709fed9cb49",
   "metadata": {},
   "outputs": [],
   "source": []
  },
  {
   "cell_type": "code",
   "execution_count": 30,
   "id": "ac7b0165-d14b-480a-b538-a090a2d0a43e",
   "metadata": {},
   "outputs": [],
   "source": [
    "from torch_geometric.datasets import (\n",
    "    Amazon, Coauthor, Flickr, ModelNet,\n",
    "    Planetoid, PPI, QM9, Reddit, TUDataset\n",
    ")\n",
    "import os"
   ]
  },
  {
   "cell_type": "code",
   "execution_count": 32,
   "id": "0a43b5fe-8384-47c2-abb5-8541869f5a64",
   "metadata": {},
   "outputs": [
    {
     "name": "stderr",
     "output_type": "stream",
     "text": [
      "Downloading https://github.com/kimiyoung/planetoid/raw/master/data/ind.cora.x\n",
      "Downloading https://github.com/kimiyoung/planetoid/raw/master/data/ind.cora.tx\n",
      "Downloading https://github.com/kimiyoung/planetoid/raw/master/data/ind.cora.allx\n",
      "Downloading https://github.com/kimiyoung/planetoid/raw/master/data/ind.cora.y\n",
      "Downloading https://github.com/kimiyoung/planetoid/raw/master/data/ind.cora.ty\n",
      "Downloading https://github.com/kimiyoung/planetoid/raw/master/data/ind.cora.ally\n",
      "Downloading https://github.com/kimiyoung/planetoid/raw/master/data/ind.cora.graph\n",
      "Downloading https://github.com/kimiyoung/planetoid/raw/master/data/ind.cora.test.index\n",
      "Processing...\n",
      "Done!\n"
     ]
    }
   ],
   "source": [
    "pyg_dataset = Planetoid('./datasets', \"Cora\")"
   ]
  },
  {
   "cell_type": "code",
   "execution_count": 35,
   "id": "b38093ae-67e5-4090-b42c-f81122fcf864",
   "metadata": {},
   "outputs": [],
   "source": [
    "if hasattr(pyg_dataset, \"__data_list__\"):\n",
    "    delattr(pyg_dataset, \"__data_list__\")\n",
    "if hasattr(pyg_dataset, \"_data_list\"):\n",
    "    delattr(pyg_dataset, \"_data_list\")"
   ]
  },
  {
   "cell_type": "code",
   "execution_count": 36,
   "id": "f2a80b5b-c241-4a9b-a184-661c5c7e1a4e",
   "metadata": {},
   "outputs": [
    {
     "data": {
      "text/plain": [
       "Data(x=[2708, 1433], edge_index=[2, 10556], y=[2708], train_mask=[2708], val_mask=[2708], test_mask=[2708])"
      ]
     },
     "execution_count": 36,
     "metadata": {},
     "output_type": "execute_result"
    }
   ],
   "source": [
    "pyg_data = pyg_dataset[0]\n",
    "pyg_data"
   ]
  },
  {
   "cell_type": "code",
   "execution_count": 88,
   "id": "971f1e61-b076-43eb-b32a-c033547660ee",
   "metadata": {},
   "outputs": [
    {
     "data": {
      "text/plain": [
       "torch.Size([2708, 1433])"
      ]
     },
     "execution_count": 88,
     "metadata": {},
     "output_type": "execute_result"
    }
   ],
   "source": [
    "pyg_data.x.size()"
   ]
  },
  {
   "cell_type": "code",
   "execution_count": 40,
   "id": "35bc6d20-83d0-4b38-8d31-2f400297caad",
   "metadata": {},
   "outputs": [
    {
     "data": {
      "text/plain": [
       "(torch.Tensor,\n",
       " tensor([[0., 0., 0.,  ..., 0., 0., 0.],\n",
       "         [0., 0., 0.,  ..., 0., 0., 0.],\n",
       "         [0., 0., 0.,  ..., 0., 0., 0.],\n",
       "         ...,\n",
       "         [0., 0., 0.,  ..., 0., 0., 0.],\n",
       "         [0., 0., 0.,  ..., 0., 0., 0.],\n",
       "         [0., 0., 0.,  ..., 0., 0., 0.]]))"
      ]
     },
     "execution_count": 40,
     "metadata": {},
     "output_type": "execute_result"
    }
   ],
   "source": [
    "type(pyg_data.x), pyg_data.x"
   ]
  },
  {
   "cell_type": "code",
   "execution_count": 41,
   "id": "c36f770b-c7bf-4286-ac9d-a57673220dc9",
   "metadata": {},
   "outputs": [
    {
     "data": {
      "text/plain": [
       "(torch.Tensor, tensor([3, 4, 4,  ..., 3, 3, 3]))"
      ]
     },
     "execution_count": 41,
     "metadata": {},
     "output_type": "execute_result"
    }
   ],
   "source": [
    "type(pyg_data.y), pyg_data.y"
   ]
  },
  {
   "cell_type": "code",
   "execution_count": 104,
   "id": "727bebf9-6d98-40f5-882a-7b6038bb444c",
   "metadata": {},
   "outputs": [
    {
     "data": {
      "text/plain": [
       "(torch.Tensor,\n",
       " tensor([ True,  True,  True,  ..., False, False, False]),\n",
       " torch.Size([2708]))"
      ]
     },
     "execution_count": 104,
     "metadata": {},
     "output_type": "execute_result"
    }
   ],
   "source": [
    "x = getattr(pyg_data, 'train_mask')\n",
    "type(x), x, x.size()"
   ]
  },
  {
   "cell_type": "code",
   "execution_count": 44,
   "id": "e243246d-cd2e-4469-9738-6f19872c6196",
   "metadata": {},
   "outputs": [
    {
     "data": {
      "text/plain": [
       "tensor([False, False, False,  ...,  True,  True,  True])"
      ]
     },
     "execution_count": 44,
     "metadata": {},
     "output_type": "execute_result"
    }
   ],
   "source": [
    "getattr(pyg_data, 'test_mask')"
   ]
  },
  {
   "cell_type": "code",
   "execution_count": 75,
   "id": "d1d55aba-39cb-445d-89af-addf4bfdf66e",
   "metadata": {},
   "outputs": [],
   "source": [
    "from autogl.data.graph import GeneralStaticGraphGenerator\n",
    "from autogl.data import InMemoryStaticGraphSet"
   ]
  },
  {
   "cell_type": "code",
   "execution_count": 96,
   "id": "1024c292-caa3-466d-b0f8-0d4be02e2a02",
   "metadata": {},
   "outputs": [
    {
     "data": {
      "text/plain": [
       "<autogl.data._dataset._in_memory_static_graph_set.InMemoryStaticGraphSet at 0x7f645f3c4df0>"
      ]
     },
     "execution_count": 96,
     "metadata": {},
     "output_type": "execute_result"
    }
   ],
   "source": [
    "        static_graph = GeneralStaticGraphGenerator.create_homogeneous_static_graph(\n",
    "            {\n",
    "                'x': pyg_data.x,\n",
    "                'y': pyg_data.y,\n",
    "                'train_mask': getattr(pyg_data, 'train_mask'),\n",
    "                'val_mask': getattr(pyg_data, 'val_mask'),\n",
    "                'test_mask': getattr(pyg_data, 'test_mask')\n",
    "            },\n",
    "            pyg_data.edge_index\n",
    "        )\n",
    "    \n",
    "dataset = InMemoryStaticGraphSet([static_graph])\n",
    "dataset"
   ]
  },
  {
   "cell_type": "code",
   "execution_count": null,
   "id": "34745511-94ee-42ef-8f78-0bdad2778d02",
   "metadata": {},
   "outputs": [],
   "source": []
  },
  {
   "cell_type": "code",
   "execution_count": 63,
   "id": "12d16145-3279-489e-a3a4-445c4478abc1",
   "metadata": {},
   "outputs": [
    {
     "name": "stdout",
     "output_type": "stream",
     "text": [
      "Requirement already satisfied: pyTigerGraph in /opt/conda/lib/python3.8/site-packages (0.9)\n",
      "Requirement already satisfied: pyTigerDriver in /opt/conda/lib/python3.8/site-packages (from pyTigerGraph) (1.0.14)\n",
      "Requirement already satisfied: requests in /opt/conda/lib/python3.8/site-packages (from pyTigerGraph) (2.25.1)\n",
      "Requirement already satisfied: validators in /opt/conda/lib/python3.8/site-packages (from pyTigerGraph) (0.19.0)\n",
      "Requirement already satisfied: certifi>=2017.4.17 in /opt/conda/lib/python3.8/site-packages (from requests->pyTigerGraph) (2021.5.30)\n",
      "Requirement already satisfied: idna<3,>=2.5 in /opt/conda/lib/python3.8/site-packages (from requests->pyTigerGraph) (2.10)\n",
      "Requirement already satisfied: chardet<5,>=3.0.2 in /opt/conda/lib/python3.8/site-packages (from requests->pyTigerGraph) (4.0.0)\n",
      "Requirement already satisfied: urllib3<1.27,>=1.21.1 in /opt/conda/lib/python3.8/site-packages (from requests->pyTigerGraph) (1.26.5)\n",
      "Requirement already satisfied: decorator>=3.4.0 in /opt/conda/lib/python3.8/site-packages (from validators->pyTigerGraph) (5.0.9)\n"
     ]
    }
   ],
   "source": [
    "!pip install pyTigerGraph"
   ]
  },
  {
   "cell_type": "code",
   "execution_count": 64,
   "id": "a430d165-9d29-4e67-b4b8-975ca2f7abdc",
   "metadata": {},
   "outputs": [],
   "source": [
    "import pyTigerGraph as tg\n",
    "conn = tg.TigerGraphConnection(\"http://35.230.92.92\", graphname=\"Cora\")"
   ]
  },
  {
   "cell_type": "code",
   "execution_count": 117,
   "id": "0b61a8b1-cdc0-4637-9d4d-f965344c0a87",
   "metadata": {},
   "outputs": [],
   "source": [
    "hp = {\"batch_size\": 64, \"num_neighbors\": 10, \"num_hops\": 2, \"hidden_dim\": 64,\n",
    "      \"num_layers\": 2, \"dropout\": 0.6, \"lr\": 0.01, \"l2_penalty\": 5e-4}\n",
    "infer_loader = conn.gds.neighborLoader(\n",
    "                                v_in_feats=[\"x\"],\n",
    "                                v_out_labels=[\"y\"],\n",
    "                                output_format=\"PyG\",\n",
    "                                batch_size=hp[\"batch_size\"],\n",
    "                                num_neighbors=hp[\"num_neighbors\"],\n",
    "                                num_hops=hp[\"num_hops\"],\n",
    "                                shuffle=False)"
   ]
  },
  {
   "cell_type": "code",
   "execution_count": 118,
   "id": "b6e2c017-4246-4daf-8c25-24bea0179d9a",
   "metadata": {},
   "outputs": [
    {
     "data": {
      "text/plain": [
       "Data(edge_index=[2, 16], x=[15, 1433], y=[15], is_seed=[15], primary_id=[15])"
      ]
     },
     "execution_count": 118,
     "metadata": {},
     "output_type": "execute_result"
    }
   ],
   "source": [
    "input_nodes = [\n",
    "      {\"primary_id\": 7, \"type\": \"Paper\"}, \n",
    "      {\"primary_id\": 999, \"type\": \"Paper\"}\n",
    "    ]\n",
    "\n",
    "data = infer_loader.fetch(input_nodes)\n",
    "data"
   ]
  },
  {
   "cell_type": "code",
   "execution_count": 120,
   "id": "40523757-731e-41c1-9544-673db152eaea",
   "metadata": {},
   "outputs": [
    {
     "data": {
      "text/plain": [
       "tensor([[ 7, 10, 13, 10, 12, 13,  8,  8,  8,  8,  8,  8,  8,  8,  8,  8],\n",
       "        [12,  8,  8, 13,  7, 10,  0,  1,  2,  9,  3,  6, 14,  5, 11,  4]])"
      ]
     },
     "execution_count": 120,
     "metadata": {},
     "output_type": "execute_result"
    }
   ],
   "source": [
    "data.edge_index"
   ]
  },
  {
   "cell_type": "code",
   "execution_count": 113,
   "id": "2378195c-77fb-4a5a-99ed-07be7955cfab",
   "metadata": {},
   "outputs": [
    {
     "data": {
      "text/plain": [
       "(torch.Tensor,\n",
       " tensor([[0, 0, 0,  ..., 0, 0, 0],\n",
       "         [0, 0, 0,  ..., 0, 0, 0],\n",
       "         [0, 0, 0,  ..., 0, 0, 0],\n",
       "         ...,\n",
       "         [0, 0, 0,  ..., 0, 0, 0],\n",
       "         [0, 0, 0,  ..., 0, 0, 0],\n",
       "         [0, 0, 0,  ..., 0, 0, 0]]))"
      ]
     },
     "execution_count": 113,
     "metadata": {},
     "output_type": "execute_result"
    }
   ],
   "source": [
    "type(data.x), data.x"
   ]
  },
  {
   "cell_type": "code",
   "execution_count": 87,
   "id": "b4638f98-fd77-453c-916d-a213e045193e",
   "metadata": {},
   "outputs": [
    {
     "data": {
      "text/plain": [
       "torch.Size([15, 1433])"
      ]
     },
     "execution_count": 87,
     "metadata": {},
     "output_type": "execute_result"
    }
   ],
   "source": [
    "data.x.size()"
   ]
  },
  {
   "cell_type": "code",
   "execution_count": 69,
   "id": "687107c6-e05f-488d-9b60-0cf9274e903e",
   "metadata": {},
   "outputs": [
    {
     "data": {
      "text/plain": [
       "(torch.Tensor, tensor([2, 2, 2, 2, 2, 3, 2, 2, 3, 2, 2, 2, 2, 2, 2]))"
      ]
     },
     "execution_count": 69,
     "metadata": {},
     "output_type": "execute_result"
    }
   ],
   "source": [
    "type(data.y), data.y"
   ]
  },
  {
   "cell_type": "code",
   "execution_count": 73,
   "id": "f1aad2a8-14ab-447c-94c5-6af264233794",
   "metadata": {},
   "outputs": [
    {
     "data": {
      "text/plain": [
       "(torch.Tensor,\n",
       " tensor([False, False, False, False, False, False, False, False, False, False]))"
      ]
     },
     "execution_count": 73,
     "metadata": {},
     "output_type": "execute_result"
    }
   ],
   "source": [
    "#getattr(data, 'train_mask')\n",
    "x = torch.zeros(10, dtype=torch.bool)\n",
    "type(x), x"
   ]
  },
  {
   "cell_type": "code",
   "execution_count": 127,
   "id": "a57d3fc0-2dc9-4780-8fa0-65afe6e22626",
   "metadata": {},
   "outputs": [
    {
     "data": {
      "text/plain": [
       "<autogl.data._dataset._in_memory_static_graph_set.InMemoryStaticGraphSet at 0x7f645f4d06a0>"
      ]
     },
     "execution_count": 127,
     "metadata": {},
     "output_type": "execute_result"
    }
   ],
   "source": [
    "mask = torch.ones(data.x.size()[0], dtype=torch.bool)\n",
    "\n",
    "static_graph = GeneralStaticGraphGenerator.create_homogeneous_static_graph(\n",
    "    {\n",
    "        'x': data.x.float(),\n",
    "        'y': data.y,\n",
    "        'train_mask': mask,\n",
    "        'val_mask': mask,\n",
    "        'test_mask': mask\n",
    "    },\n",
    "    data.edge_index\n",
    ")\n",
    "    \n",
    "tg_dataset = InMemoryStaticGraphSet([static_graph])\n",
    "tg_dataset"
   ]
  },
  {
   "cell_type": "code",
   "execution_count": 128,
   "id": "133b6b43-1cca-468d-94db-5608ef90eb33",
   "metadata": {},
   "outputs": [
    {
     "name": "stdout",
     "output_type": "stream",
     "text": [
      "[2022-05-31 17:16:19] INFO (NodeClassifier/MainThread) Ensemble argument on, will try using ensemble model.\n",
      "[2022-05-31 17:16:19] WARNING (NodeClassifier/MainThread) Cannot use ensemble because no ensebmle module is given. Will use best model instead.\n"
     ]
    },
    {
     "data": {
      "text/plain": [
       "array([1, 2, 2, 2, 2, 0, 2, 2, 2, 2, 2, 2, 2, 2, 2, 2, 2, 2, 2, 2, 3, 2,\n",
       "       2, 2, 2, 1, 2, 2, 2, 2, 2, 2, 2, 0, 2, 2, 2, 2, 2, 2, 2, 2, 2, 2,\n",
       "       2, 2, 2, 2, 2, 2, 2, 2, 2, 2, 2, 2, 2, 2, 2, 1, 1, 1, 1, 1, 1, 1,\n",
       "       1, 1, 1, 1, 1, 1, 1, 1, 1, 1, 1, 4, 1, 1, 1, 1, 1, 1, 5, 5, 5, 4,\n",
       "       4, 1, 1, 3, 1, 1, 1, 6, 2, 1, 3, 3, 3, 3, 3, 3, 3, 3, 3, 3, 3, 3,\n",
       "       3, 3, 3, 3, 3, 3, 5, 5, 5, 5, 5, 5, 2, 2, 2, 2, 2, 6, 6, 3, 0, 0,\n",
       "       0, 0, 5, 0, 0, 0, 3, 0, 0, 6, 0, 6, 3, 3, 3, 3, 1, 3, 3, 3, 3, 3,\n",
       "       3, 3, 3, 3, 3, 3, 3, 3, 3, 3, 3, 3, 3, 3, 3, 3, 5, 5, 5, 5, 5, 5,\n",
       "       5, 5, 2, 2, 2, 4, 4, 4, 4, 3, 3, 2, 5, 5, 5, 5, 6, 5, 5, 5, 5, 3,\n",
       "       4, 3, 0, 3, 1, 0, 0, 0, 6, 6, 6, 6, 6, 6, 6, 0, 0, 0, 0, 0, 0, 0,\n",
       "       3, 3, 0, 3, 3, 3, 3, 3, 3, 0, 0, 3, 3, 3, 3, 0, 3, 3, 3, 3, 3, 3,\n",
       "       3, 3, 3, 5, 5, 5, 5, 5, 5, 5, 5, 5, 5, 5, 4, 4, 4, 4, 4, 4, 4, 4,\n",
       "       6, 6, 5, 6, 6, 0, 5, 5, 5, 0, 5, 0, 4, 0, 3, 3, 3, 2, 3, 1, 3, 3,\n",
       "       3, 3, 3, 3, 1, 3, 3, 4, 4, 4, 3, 3, 3, 3, 3, 3, 6, 3, 0, 0, 0, 0,\n",
       "       0, 5, 0, 5, 0, 0, 6, 6, 0, 0, 1, 3, 6, 5, 6, 6, 3, 3, 4, 3, 3, 3,\n",
       "       4, 4, 4, 3, 3, 4, 4, 1, 1, 1, 1, 0, 6, 0, 0, 0, 0, 0, 0, 0, 2, 0,\n",
       "       5, 5, 5, 3, 3, 3, 3, 3, 0, 0, 0, 0, 0, 0, 0, 3, 3, 3, 1, 1, 1, 1,\n",
       "       1, 2, 1, 1, 1, 1, 1, 1, 1, 3, 1, 1, 1, 1, 1, 0, 0, 0, 6, 6, 0, 0,\n",
       "       3, 0, 1, 1, 0, 6, 6, 6, 6, 2, 3, 3, 0, 3, 3, 4, 4, 4, 4, 4, 4, 3,\n",
       "       4, 3, 3, 3, 4, 0, 6, 0, 6, 6, 0, 0, 3, 3, 3, 3, 3, 1, 1, 1, 3, 3,\n",
       "       3, 3, 2, 6, 3, 0, 0, 0, 0, 6, 6, 6, 6, 6, 3, 3, 6, 6, 6, 1, 2, 1,\n",
       "       0, 0, 0, 1, 1, 3, 3, 6, 0, 0, 0, 0, 0, 0, 5, 5, 0, 4, 0, 0, 6, 3,\n",
       "       6, 0, 0, 0, 0, 0, 0, 0, 0, 0, 0, 0, 3, 3, 3, 3, 1, 6, 1, 0, 3, 3,\n",
       "       3, 3, 3, 6, 1, 0, 2, 2, 4, 4, 4, 4, 4, 5, 6, 3, 3, 0, 0, 0, 0, 5,\n",
       "       4, 4, 4, 4, 4, 3, 3, 3, 3, 3, 3, 3, 4, 4, 4, 1, 1, 3, 1, 6, 1, 1,\n",
       "       3, 4, 4, 0, 4, 0, 4, 4, 0, 0, 4, 5, 5, 5, 5, 5, 5, 5, 0, 0, 6, 2,\n",
       "       0, 5, 6, 3, 5, 5, 5, 5, 5, 4, 4, 4, 4, 6, 4, 0, 3, 4, 4, 4, 1, 3,\n",
       "       4, 3, 3, 3, 3, 2, 3, 3, 3, 0, 0, 1, 1, 3, 3, 3, 1, 1, 1, 0, 1, 5,\n",
       "       1, 1, 5, 1, 1, 1, 1, 1, 0, 0, 2, 4, 4, 4, 3, 3, 3, 3, 0, 3, 3, 4,\n",
       "       4, 0, 4, 4, 4, 4, 3, 3, 3, 0, 0, 0, 3, 3, 3, 3, 4, 5, 0, 2, 2, 3,\n",
       "       3, 3, 3, 3, 3, 0, 5, 5, 4, 1, 4, 4, 4, 3, 1, 4, 0, 3, 4, 4, 6, 2,\n",
       "       2, 2, 2, 4, 0, 6, 6, 0, 3, 4, 4, 4, 3, 3, 0, 5, 4, 5, 0, 0, 3, 3,\n",
       "       3, 2, 3, 2, 4, 4, 0, 0, 3, 2, 6, 0, 0, 0, 3, 5, 1, 1, 3, 4, 4, 1,\n",
       "       4, 4, 6, 0, 0, 2, 2, 2, 2, 2, 2, 2, 2, 2, 2, 0, 2, 2, 2, 0, 6, 6,\n",
       "       2, 6, 6, 3, 2, 6, 3, 4, 4, 4, 2, 5, 5, 2, 2, 3, 0, 4, 4, 3, 2, 3,\n",
       "       1, 6, 6, 5, 0, 4, 4, 6, 3, 1, 1, 3, 0, 5, 2, 3, 3, 3, 0, 5, 5, 0,\n",
       "       3, 3, 0, 2, 1, 1, 5, 2, 3, 3, 5, 0, 2, 3, 2, 2, 5, 5, 4, 3, 4, 3,\n",
       "       2, 2, 4, 2, 4, 5, 5, 3, 2, 3, 1, 3, 3, 3, 4, 5, 4, 3, 3, 3, 3, 3,\n",
       "       0, 0, 2, 3, 4, 4, 3, 3, 3, 0, 2, 3, 2, 2, 2, 3, 2, 0, 0, 4, 4, 0,\n",
       "       0, 0, 3, 4, 3, 3, 3, 3, 3, 0, 0, 3, 3, 3, 3, 2, 3, 4, 2, 2, 5, 4,\n",
       "       3, 3, 3, 1, 5, 3, 4, 3, 2, 2, 1, 3, 2, 3, 3, 3, 6, 3, 2, 2, 6, 3,\n",
       "       3, 0, 2, 3, 2, 3, 2, 5, 2, 2, 1, 5, 6, 4, 3, 3, 3, 2, 5, 3, 3, 4,\n",
       "       3, 3, 3, 3, 3, 4, 6, 6, 5, 2, 2, 2, 5, 4, 4, 4, 4, 6, 3, 2, 2, 0,\n",
       "       0, 0, 1, 2, 2, 3, 0, 4, 4, 3, 3, 4, 4, 3, 3, 0, 4, 4, 4, 4, 4, 4,\n",
       "       3, 4, 4, 4, 4, 4, 4, 4, 4, 2, 3, 3, 3, 2, 3, 2, 6, 3, 4, 4, 3, 3,\n",
       "       3, 3, 3, 3, 0, 3, 2, 1, 3, 3])"
      ]
     },
     "execution_count": 128,
     "metadata": {},
     "output_type": "execute_result"
    }
   ],
   "source": [
    "acf.predict(dataset)"
   ]
  },
  {
   "cell_type": "code",
   "execution_count": 129,
   "id": "cea1b07f-d195-4297-ac0a-97d43348d0ca",
   "metadata": {},
   "outputs": [
    {
     "name": "stdout",
     "output_type": "stream",
     "text": [
      "[2022-05-31 17:16:20] INFO (NodeClassifier/MainThread) Ensemble argument on, will try using ensemble model.\n",
      "[2022-05-31 17:16:20] WARNING (NodeClassifier/MainThread) Cannot use ensemble because no ensebmle module is given. Will use best model instead.\n"
     ]
    },
    {
     "data": {
      "text/plain": [
       "array([2, 2, 2, 2, 2, 2, 2, 3, 2, 2, 2, 2, 3, 2, 2])"
      ]
     },
     "execution_count": 129,
     "metadata": {},
     "output_type": "execute_result"
    }
   ],
   "source": [
    "#with torch.no_grad():\n",
    "\n",
    "acf.predict(tg_dataset, inplaced = False, inplace=True)"
   ]
  },
  {
   "cell_type": "code",
   "execution_count": null,
   "id": "5ebf4ac3-a8ad-4796-b4e1-a56a11e14c8e",
   "metadata": {},
   "outputs": [],
   "source": []
  },
  {
   "cell_type": "code",
   "execution_count": null,
   "id": "83c9d567-b3de-43d4-9849-59e1201d4248",
   "metadata": {},
   "outputs": [],
   "source": []
  },
  {
   "cell_type": "code",
   "execution_count": null,
   "id": "7dd2cfa7-8a2a-4dca-ab5b-2e405bb1d81d",
   "metadata": {},
   "outputs": [],
   "source": []
  },
  {
   "cell_type": "code",
   "execution_count": 62,
   "id": "3589c01d-d439-499b-8686-25c429c5a51d",
   "metadata": {},
   "outputs": [
    {
     "name": "stdout",
     "output_type": "stream",
     "text": [
      "decoder: None\n",
      "early_stopping_round: 21\n",
      "encoder: <autogl.module.model.pyg.gcn.AutoGCN object at 0x7fd8ac8e3e50>\n",
      "learning_rate: 0.008329372188913789\n",
      "max_epoch: 139\n",
      "optimizer: !!python/name:torch.optim.adam.Adam ''\n",
      "trainer_name: NodeClassificationFullTrainer\n",
      "_idx0\n",
      "<class 'autogl.module.train.node_classification_full.NodeClassificationFullTrainer'>\n",
      "---\n"
     ]
    }
   ],
   "source": [
    "for k, v in autoClassifier.trained_models.items():\n",
    "    print(k)\n",
    "    print (type(v))\n",
    "    print ('---')\n",
    "    v = copy.deepcopy(v)"
   ]
  },
  {
   "cell_type": "code",
   "execution_count": 64,
   "id": "9fbd45a3-2e02-481e-a54a-49937677b99e",
   "metadata": {},
   "outputs": [],
   "source": [
    "encoder = v.encoder"
   ]
  },
  {
   "cell_type": "code",
   "execution_count": 65,
   "id": "2b621646-e735-47be-b7eb-dbdb1ad3aec0",
   "metadata": {},
   "outputs": [
    {
     "data": {
      "text/plain": [
       "{'num_layers': 2, 'hidden': [47], 'dropout': 0.772354437743668, 'act': 'elu'}"
      ]
     },
     "execution_count": 65,
     "metadata": {},
     "output_type": "execute_result"
    }
   ],
   "source": [
    "encoder.hyper_parameters"
   ]
  },
  {
   "cell_type": "code",
   "execution_count": 67,
   "id": "0668f8cc-4e46-4918-bdec-e3bb2c190a90",
   "metadata": {},
   "outputs": [
    {
     "data": {
      "text/plain": [
       "['__class__.joblib']"
      ]
     },
     "execution_count": 67,
     "metadata": {},
     "output_type": "execute_result"
    }
   ],
   "source": [
    "joblib.dump(encoder.__class__, '__class__.joblib')"
   ]
  },
  {
   "cell_type": "code",
   "execution_count": 71,
   "id": "9167f599-64f8-41a7-a9e2-0efb090c5b0e",
   "metadata": {},
   "outputs": [
    {
     "data": {
      "text/plain": [
       "['model.joblib']"
      ]
     },
     "execution_count": 71,
     "metadata": {},
     "output_type": "execute_result"
    }
   ],
   "source": [
    "joblib.dump(encoder.model, 'model.joblib')"
   ]
  },
  {
   "cell_type": "code",
   "execution_count": 73,
   "id": "4ba1af38-8209-466c-8041-1f693a9e914d",
   "metadata": {},
   "outputs": [
    {
     "data": {
      "text/plain": [
       "OrderedDict([('_GCN__sequential_encoding_layers.0._convolution.bias',\n",
       "              tensor([ 0.0604,  0.0159,  0.0130,  0.0507,  0.0272,  0.0204,  0.0408,  0.0055,\n",
       "                       0.0560,  0.0350,  0.0353,  0.0571,  0.0531,  0.0193,  0.0385,  0.0012,\n",
       "                       0.0253,  0.0544,  0.0338,  0.0204, -0.0114, -0.0110,  0.0539,  0.0171,\n",
       "                       0.0172,  0.0174,  0.0236,  0.0258,  0.0165,  0.0072,  0.0200,  0.0148,\n",
       "                      -0.0128,  0.0157,  0.0704,  0.0419,  0.0165,  0.0085,  0.0197,  0.0097,\n",
       "                       0.0125, -0.0299,  0.0281,  0.0074, -0.0322,  0.0380,  0.0724])),\n",
       "             ('_GCN__sequential_encoding_layers.0._convolution.lin.weight',\n",
       "              tensor([[ 3.3453e-02,  1.0288e-01,  6.3909e-02,  ..., -7.5389e-02,\n",
       "                        6.8808e-02, -7.8669e-02],\n",
       "                      [-2.7337e-02,  1.9078e-02, -1.4864e-01,  ..., -4.1355e-02,\n",
       "                        2.6141e-01, -1.1605e-01],\n",
       "                      [-1.5863e-03, -8.3895e-02,  1.4124e-04,  ..., -4.4332e-02,\n",
       "                        1.2039e-02, -1.0432e-01],\n",
       "                      ...,\n",
       "                      [-8.7294e-03, -8.9229e-02,  1.3117e-01,  ..., -3.9535e-02,\n",
       "                        4.8348e-02, -1.8190e-01],\n",
       "                      [-2.6090e-02, -1.6978e-01, -2.1363e-01,  ..., -5.8167e-02,\n",
       "                        2.0228e-01, -1.7540e-01],\n",
       "                      [-4.8132e-03, -3.1473e-01, -6.1630e-02,  ..., -7.6765e-03,\n",
       "                       -1.0309e-01,  3.7667e-02]])),\n",
       "             ('_GCN__sequential_encoding_layers.1._convolution.bias',\n",
       "              tensor([-0.2814, -0.0741,  0.4539,  0.3787, -0.4257,  0.2716, -0.2657])),\n",
       "             ('_GCN__sequential_encoding_layers.1._convolution.lin.weight',\n",
       "              tensor([[ 0.7489,  0.7784,  0.8901,  0.6130,  0.5715, -0.8629, -0.8478, -0.7782,\n",
       "                        0.6379,  0.5878,  0.7682,  0.7564,  0.6662,  0.8138,  0.6914, -0.9211,\n",
       "                        0.5661, -0.6789, -0.7489,  0.7511, -0.7141,  0.8954,  0.8607,  0.1983,\n",
       "                        0.6394,  0.7318,  0.9018, -0.9410, -0.8118,  0.8553,  0.7021, -0.6108,\n",
       "                       -0.7911, -0.6415,  0.8627, -0.3701,  0.9164, -0.5958, -0.8426, -0.6353,\n",
       "                       -0.8784, -0.5941, -0.8666, -0.7842, -0.5729,  0.7076,  0.6601],\n",
       "                      [ 0.5718, -0.7736, -0.5245,  0.6137,  0.6552,  0.5689, -0.6443, -0.7505,\n",
       "                       -0.7633,  0.5526,  0.9476, -0.6065, -0.9098,  0.6371, -0.8362, -0.6929,\n",
       "                        0.4308, -0.6481,  0.8287, -0.7277,  0.6661, -0.8023,  0.1982, -0.8303,\n",
       "                       -0.8836,  0.4926, -0.6549,  0.5419, -0.4333,  0.7282,  0.8046,  0.5471,\n",
       "                        0.8202,  0.8617,  0.7262,  0.4655, -0.6471,  0.8038,  0.6670,  0.9058,\n",
       "                       -0.8618,  0.8912, -0.5770, -0.8537, -0.4495, -0.9010, -0.7864],\n",
       "                      [-0.9670, -0.8575, -0.6054,  0.6396, -0.6409, -0.8946, -0.7294, -0.7451,\n",
       "                       -0.7324,  0.5571,  0.8900, -0.8050, -0.7008, -0.5387,  0.7962,  0.7578,\n",
       "                       -0.8419, -0.5103, -0.9134,  0.8705, -0.8540,  0.7573, -0.8947,  0.8344,\n",
       "                        0.8490, -0.9049,  0.9219, -0.9233,  0.8727,  0.1694,  0.7218, -0.7662,\n",
       "                       -0.4483,  0.6704, -0.6977, -0.7846, -0.6227,  0.6515, -0.8136, -0.7966,\n",
       "                        0.8144,  0.7047, -0.5328,  0.8144,  0.9323, -0.7579, -0.5196],\n",
       "                      [-0.8551, -0.5665, -0.6478, -0.6641, -0.5701,  0.5480,  0.9640, -0.6837,\n",
       "                        0.4612, -0.9290, -0.3495,  0.1170,  0.6230, -0.6499,  0.5190, -0.8426,\n",
       "                       -0.7762,  0.7716,  0.6540, -0.7582, -0.8302, -0.6799, -0.8290,  0.4558,\n",
       "                       -0.7498, -0.6933, -0.6284, -0.8783, -0.6149, -0.7724, -0.7362,  0.8042,\n",
       "                       -0.8653, -0.8338,  0.7952,  0.5789, -0.6093, -0.8237,  0.8882, -0.7284,\n",
       "                        0.8329, -0.5686,  0.8556, -0.7792, -0.9009, -0.7652,  0.1883],\n",
       "                      [ 0.6355, -0.8887, -0.5997,  0.8600, -0.6260,  0.5825,  0.7359, -0.8420,\n",
       "                        0.8001,  0.4624, -0.4597,  0.7800, -0.6335,  0.4268, -0.8329,  0.8714,\n",
       "                        0.4771,  0.8590,  0.8190,  0.7443, -0.9043, -0.7451,  0.7585, -0.7755,\n",
       "                       -0.5794,  0.4546,  0.8220,  0.8468,  0.9586, -0.6714,  0.8756, -0.6402,\n",
       "                       -0.5467,  0.7399,  0.7079,  0.9204, -0.8559, -0.9244, -0.7462, -0.6781,\n",
       "                        0.8915, -0.6269,  0.8248,  0.8759, -0.4630,  0.7680,  0.7433],\n",
       "                      [-0.7272,  0.9496, -0.1786, -0.8352, -0.7456,  0.2584, -0.5894,  0.6157,\n",
       "                        0.6705, -0.8832, -0.2953, -0.6166, -0.5115, -0.6850, -0.8706, -0.8014,\n",
       "                        0.4989, -0.6008, -0.7800, -0.6967, -0.0875,  0.9056, -0.8077,  0.6529,\n",
       "                       -0.9171, -0.6035, -0.4934,  0.8645,  0.8087,  0.6646, -0.6641,  0.7374,\n",
       "                        0.7703, -0.8581, -0.7601,  0.6208,  0.6698,  0.8075,  0.5603,  0.6650,\n",
       "                        0.8287,  0.8802,  0.8520, -0.7898,  0.7953,  0.8071, -0.8129],\n",
       "                      [ 0.4524,  0.7838,  0.8498, -0.8600,  0.8389, -0.8670,  0.7100,  0.8773,\n",
       "                        0.4912, -0.8048, -0.3940,  0.7349,  0.8040, -0.7379, -0.9089,  0.8104,\n",
       "                       -0.8376,  0.7779,  0.6254, -0.9035,  0.6392, -0.5769,  0.7374,  0.6748,\n",
       "                        0.8653,  0.6804, -0.6334, -0.8505,  0.4304, -0.7737, -0.8106, -0.6442,\n",
       "                        0.8633,  0.7388, -0.7873, -0.7827,  0.8761,  0.6674, -0.7867,  0.7646,\n",
       "                       -0.7134, -0.6484, -0.2671,  0.6798, -0.6369,  0.6244, -0.1526]]))])"
      ]
     },
     "execution_count": 73,
     "metadata": {},
     "output_type": "execute_result"
    }
   ],
   "source": [
    "encoder.model.state_dict()"
   ]
  },
  {
   "cell_type": "code",
   "execution_count": 72,
   "id": "14062ccf-e1ad-41b4-a88f-4b8e396f1a50",
   "metadata": {},
   "outputs": [
    {
     "data": {
      "text/plain": [
       "autogl.module.model.pyg.gcn.GCN"
      ]
     },
     "execution_count": 72,
     "metadata": {},
     "output_type": "execute_result"
    }
   ],
   "source": [
    "type(encoder.model)"
   ]
  },
  {
   "cell_type": "code",
   "execution_count": null,
   "id": "57af3947-46cb-47bb-8ab7-f6863fc28bac",
   "metadata": {},
   "outputs": [],
   "source": []
  },
  {
   "cell_type": "code",
   "execution_count": null,
   "id": "05a5b143-1426-41ad-b003-d5ee9105d1e7",
   "metadata": {},
   "outputs": [],
   "source": []
  },
  {
   "cell_type": "code",
   "execution_count": 42,
   "id": "39798ea7-b78a-4e44-84e3-c1af0966a094",
   "metadata": {},
   "outputs": [
    {
     "data": {
      "text/plain": [
       "'<autogl.solver.classifier.node_classifier.AutoNodeClassifier object at 0x7fd87fe30c10>'"
      ]
     },
     "execution_count": 42,
     "metadata": {},
     "output_type": "execute_result"
    }
   ],
   "source": [
    "repr(autoClassifier)"
   ]
  },
  {
   "cell_type": "code",
   "execution_count": null,
   "id": "aeb94db1-361c-4c34-a3c1-8619c3b3d93f",
   "metadata": {},
   "outputs": [],
   "source": []
  },
  {
   "cell_type": "code",
   "execution_count": 13,
   "id": "0cbf1ed0-7008-40da-bd02-658db18d3700",
   "metadata": {},
   "outputs": [
    {
     "data": {
      "text/plain": [
       "<autogl.module.feature._generators._pyg.NormalizeFeatures at 0x7fd87eec6160>"
      ]
     },
     "execution_count": 13,
     "metadata": {},
     "output_type": "execute_result"
    }
   ],
   "source": [
    "autoClassifier.feature_module"
   ]
  },
  {
   "cell_type": "code",
   "execution_count": 14,
   "id": "2c7441d4-6571-4b80-a942-2a610c212f31",
   "metadata": {},
   "outputs": [
    {
     "data": {
      "text/plain": [
       "['feature_module.joblib']"
      ]
     },
     "execution_count": 14,
     "metadata": {},
     "output_type": "execute_result"
    }
   ],
   "source": [
    "\n",
    "joblib.dump(autoClassifier.feature_module, 'feature_module.joblib')"
   ]
  },
  {
   "cell_type": "code",
   "execution_count": 21,
   "id": "0ab0ea27-9920-4a98-9d57-bea5626eec73",
   "metadata": {},
   "outputs": [
    {
     "name": "stdout",
     "output_type": "stream",
     "text": [
      "decoder: None\n",
      "early_stopping_round: 21\n",
      "encoder: <autogl.module.model.pyg.gcn.AutoGCN object at 0x7fd8ac8e3e50>\n",
      "learning_rate: 0.008329372188913789\n",
      "max_epoch: 139\n",
      "optimizer: !!python/name:torch.optim.adam.Adam ''\n",
      "trainer_name: NodeClassificationFullTrainer\n",
      "_idx0\n",
      "<class 'autogl.module.train.node_classification_full.NodeClassificationFullTrainer'>\n",
      "---\n"
     ]
    }
   ],
   "source": []
  },
  {
   "cell_type": "code",
   "execution_count": 51,
   "id": "9cc2a34d-39e6-4d9e-b877-fe7aa747be61",
   "metadata": {},
   "outputs": [
    {
     "data": {
      "text/plain": [
       "{'max_epoch': 139,\n",
       " 'early_stopping_round': 21,\n",
       " 'lr': 0.008329372188913789,\n",
       " 'weight_decay': 0.0003416743789200837}"
      ]
     },
     "execution_count": 51,
     "metadata": {},
     "output_type": "execute_result"
    }
   ],
   "source": [
    "v.hyper_parameters"
   ]
  },
  {
   "cell_type": "code",
   "execution_count": 49,
   "id": "c2d5b89f-9838-4af6-91f3-b3d7fc8be5a5",
   "metadata": {},
   "outputs": [
    {
     "data": {
      "text/plain": [
       "<bound method NodeClassificationFullTrainer.duplicate_from_hyper_parameter of decoder: None\n",
       "early_stopping_round: 21\n",
       "encoder: <autogl.module.model.pyg.gcn.AutoGCN object at 0x7fd8ac8e3e50>\n",
       "learning_rate: 0.008329372188913789\n",
       "max_epoch: 139\n",
       "optimizer: !!python/name:torch.optim.adam.Adam ''\n",
       "trainer_name: NodeClassificationFullTrainer\n",
       ">"
      ]
     },
     "execution_count": 49,
     "metadata": {},
     "output_type": "execute_result"
    }
   ],
   "source": [
    "v.duplicate_from_hyper_parameter(v.)"
   ]
  },
  {
   "cell_type": "code",
   "execution_count": 31,
   "id": "ba21577a-072a-4dab-8df2-774741590d3c",
   "metadata": {},
   "outputs": [
    {
     "data": {
      "text/plain": [
       "{'num_layers': 2, 'hidden': [47], 'dropout': 0.772354437743668, 'act': 'elu'}"
      ]
     },
     "execution_count": 31,
     "metadata": {},
     "output_type": "execute_result"
    }
   ],
   "source": [
    "v.encoder.hyper_parameters"
   ]
  },
  {
   "cell_type": "code",
   "execution_count": 37,
   "id": "d0a32118-88a8-4178-b98e-aad565613557",
   "metadata": {},
   "outputs": [
    {
     "data": {
      "text/plain": [
       "[\"decoder: None\\nearly_stopping_round: 24\\nencoder: <autogl.module.model.pyg.gcn.AutoGCN object at 0x7f3b3d4e8df0>\\nlearning_rate: 0.0076789463628175415\\nmax_epoch: 298\\noptimizer: !!python/name:torch.optim.adam.Adam ''\\ntrainer_name: NodeClassificationFullTrainer\\n_idx0\",\n",
       " \"decoder: None\\nearly_stopping_round: 17\\nencoder: <autogl.module.model.pyg.gcn.AutoGCN object at 0x7f3c8497c700>\\nlearning_rate: 0.01266182115775376\\nmax_epoch: 276\\noptimizer: !!python/name:torch.optim.adam.Adam ''\\ntrainer_name: NodeClassificationFullTrainer\\n_idx0\"]"
      ]
     },
     "execution_count": 37,
     "metadata": {},
     "output_type": "execute_result"
    }
   ],
   "source": [
    "list(autoClassifier.trained_models.keys())"
   ]
  },
  {
   "cell_type": "code",
   "execution_count": 22,
   "id": "c958c880-18bb-4512-873f-60b3893dfcda",
   "metadata": {},
   "outputs": [
    {
     "ename": "TypeError",
     "evalue": "string indices must be integers",
     "output_type": "error",
     "traceback": [
      "\u001b[0;31m---------------------------------------------------------------------------\u001b[0m",
      "\u001b[0;31mTypeError\u001b[0m                                 Traceback (most recent call last)",
      "\u001b[0;32m<ipython-input-22-56c6bb1e98c8>\u001b[0m in \u001b[0;36m<module>\u001b[0;34m\u001b[0m\n\u001b[1;32m      1\u001b[0m \u001b[0mbestModel\u001b[0m \u001b[0;34m=\u001b[0m \u001b[0mautoClassifier\u001b[0m\u001b[0;34m.\u001b[0m\u001b[0mget_leaderboard\u001b[0m\u001b[0;34m(\u001b[0m\u001b[0;34m)\u001b[0m\u001b[0;34m.\u001b[0m\u001b[0mget_best_model\u001b[0m\u001b[0;34m(\u001b[0m\u001b[0;34m)\u001b[0m\u001b[0;34m\u001b[0m\u001b[0;34m\u001b[0m\u001b[0m\n\u001b[0;32m----> 2\u001b[0;31m \u001b[0mbestModel\u001b[0m\u001b[0;34m[\u001b[0m\u001b[0;34m'encoder'\u001b[0m\u001b[0;34m]\u001b[0m\u001b[0;34m\u001b[0m\u001b[0;34m\u001b[0m\u001b[0m\n\u001b[0m",
      "\u001b[0;31mTypeError\u001b[0m: string indices must be integers"
     ]
    }
   ],
   "source": [
    "bestModel = autoClassifier.get_leaderboard().get_best_model()\n",
    "bestModel['encoder']"
   ]
  },
  {
   "cell_type": "code",
   "execution_count": 10,
   "id": "24f0c242-092b-4484-b093-7e6023a3dfb6",
   "metadata": {},
   "outputs": [],
   "source": [
    "import joblib"
   ]
  },
  {
   "cell_type": "code",
   "execution_count": null,
   "id": "631c028f-9f6f-47f5-b60b-6dd9bb13df8b",
   "metadata": {},
   "outputs": [],
   "source": []
  }
 ],
 "metadata": {
  "kernelspec": {
   "display_name": "Python 3",
   "language": "python",
   "name": "python3"
  },
  "language_info": {
   "codemirror_mode": {
    "name": "ipython",
    "version": 3
   },
   "file_extension": ".py",
   "mimetype": "text/x-python",
   "name": "python",
   "nbconvert_exporter": "python",
   "pygments_lexer": "ipython3",
   "version": "3.8.10"
  }
 },
 "nbformat": 4,
 "nbformat_minor": 5
}

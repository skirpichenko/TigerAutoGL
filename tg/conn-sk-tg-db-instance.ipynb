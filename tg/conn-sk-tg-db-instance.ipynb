{
    "cells": [
     {
      "cell_type": "code",
      "execution_count": 39,
      "id": "b3eef3a3-e4b9-4966-858d-059235da4ee3",
      "metadata": {},
      "outputs": [],
      "source": [
       "import pyTigerGraph as tg\n",
       "import pandas as pd"
      ]
     },
     {
      "cell_type": "code",
      "execution_count": 14,
      "id": "fa56d1b6-fb0f-414c-b168-4da5cafc44c2",
      "metadata": {},
      "outputs": [
       {
        "data": {
         "text/plain": [
          "<pyTigerGraph.pyTigerGraph.TigerGraphConnection at 0x7fdd3470bb50>"
         ]
        },
        "execution_count": 14,
        "metadata": {},
        "output_type": "execute_result"
       }
      ],
      "source": [
       "conn = tg.TigerGraphConnection(host='http://34.82.114.161', username='tigergraph', password='tigergraph', graphname='Cora')\n",
       "conn"
      ]
     },
     {
      "cell_type": "code",
      "execution_count": 15,
      "id": "c7ce6002-1bab-4d03-9543-6a8e2186aeb1",
      "metadata": {},
      "outputs": [],
      "source": [
       "cora_secret ='qirl3bhnltjlk9igrnptf63ukme5h7h7'\n",
       "OGBNProducts_secret ='unfbr77lr3kluimvf23bcovspt5ft7e1'"
      ]
     },
     {
      "cell_type": "code",
      "execution_count": 16,
      "id": "8d5673cc-a799-4421-872c-867795780107",
      "metadata": {},
      "outputs": [
       {
        "name": "stdout",
        "output_type": "stream",
        "text": [
         "---- Graph Cora\n",
         "Vertex Types:\n",
         "- VERTEX Paper(PRIMARY_ID id INT, x LIST<INT>, y INT, train_mask BOOL, val_mask BOOL, test_mask BOOL) WITH STATS=\"OUTDEGREE_BY_EDGETYPE\", PRIMARY_ID_AS_ATTRIBUTE=\"true\"\n",
         "Edge Types:\n",
         "- DIRECTED EDGE Cite(FROM Paper, TO Paper)\n",
         "\n",
         "Graphs:\n",
         "- Graph Cora(Paper:v, Cite:e)\n",
         "Jobs:\n",
         "- CREATE LOADING JOB load_cora_data FOR GRAPH Cora {\n",
         "DEFINE FILENAME edge_csv = \"./edges.csv\";\n",
         "DEFINE FILENAME node_csv = \"./nodes.csv\";\n",
         "LOAD node_csv TO VERTEX Paper VALUES($\"id\", SPLIT($\"x\", \" \"), $\"y\", $\"train\", $\"valid\", $\"test\") USING SEPARATOR=\",\", HEADER=\"true\", EOL=\"\\n\";\n",
         "LOAD edge_csv TO EDGE Cite VALUES($\"source\", $\"target\") USING SEPARATOR=\",\", HEADER=\"true\", EOL=\"\\n\";\n",
         "}\n",
         "\n",
         "Queries:\n",
         "\n",
         "\n",
         "\n",
         "\n"
        ]
       }
      ],
      "source": [
       "print(conn.gsql('ls', options=[]))"
      ]
     },
     {
      "cell_type": "code",
      "execution_count": 17,
      "id": "520951b1-a5ca-434b-a82a-8bbae260795f",
      "metadata": {},
      "outputs": [
       {
        "data": {
         "text/plain": [
          "('713ja1fk8q2o7q9a8viu75u05j3tupj4', 1648111773, '2022-03-24 08:49:33')"
         ]
        },
        "execution_count": 17,
        "metadata": {},
        "output_type": "execute_result"
       }
      ],
      "source": [
       "token = conn.getToken(cora_secret)\n",
       "token"
      ]
     },
     {
      "cell_type": "code",
      "execution_count": 18,
      "id": "feca43d0-ebd7-4295-9092-a888afebfe59",
      "metadata": {},
      "outputs": [
       {
        "name": "stderr",
        "output_type": "stream",
        "text": [
         "/opt/conda/lib/python3.8/site-packages/xgboost/compat.py:36: FutureWarning: pandas.Int64Index is deprecated and will be removed from pandas in a future version. Use pandas.Index with the appropriate dtype instead.\n",
         "  from pandas import MultiIndex, Int64Index\n"
        ]
       }
      ],
      "source": [
       "import xgboost as xgb"
      ]
     },
     {
      "cell_type": "code",
      "execution_count": 24,
      "id": "d3d3bca2-adf0-4653-b3ec-d0bda4c5957d",
      "metadata": {},
      "outputs": [
       {
        "name": "stdout",
        "output_type": "stream",
        "text": [
         "(2708, 7)\n"
        ]
       },
       {
        "data": {
         "text/html": [
          "<div>\n",
          "<style scoped>\n",
          "    .dataframe tbody tr th:only-of-type {\n",
          "        vertical-align: middle;\n",
          "    }\n",
          "\n",
          "    .dataframe tbody tr th {\n",
          "        vertical-align: top;\n",
          "    }\n",
          "\n",
          "    .dataframe thead th {\n",
          "        text-align: right;\n",
          "    }\n",
          "</style>\n",
          "<table border=\"1\" class=\"dataframe\">\n",
          "  <thead>\n",
          "    <tr style=\"text-align: right;\">\n",
          "      <th></th>\n",
          "      <th>v_id</th>\n",
          "      <th>id</th>\n",
          "      <th>x</th>\n",
          "      <th>y</th>\n",
          "      <th>train_mask</th>\n",
          "      <th>val_mask</th>\n",
          "      <th>test_mask</th>\n",
          "    </tr>\n",
          "  </thead>\n",
          "  <tbody>\n",
          "    <tr>\n",
          "      <th>0</th>\n",
          "      <td>431</td>\n",
          "      <td>431</td>\n",
          "      <td>[0, 0, 0, 0, 0, 0, 0, 0, 0, 0, 0, 0, 0, 0, 0, ...</td>\n",
          "      <td>4</td>\n",
          "      <td>False</td>\n",
          "      <td>True</td>\n",
          "      <td>False</td>\n",
          "    </tr>\n",
          "    <tr>\n",
          "      <th>1</th>\n",
          "      <td>2696</td>\n",
          "      <td>2696</td>\n",
          "      <td>[0, 0, 0, 0, 0, 0, 0, 0, 0, 0, 0, 0, 0, 0, 0, ...</td>\n",
          "      <td>3</td>\n",
          "      <td>False</td>\n",
          "      <td>False</td>\n",
          "      <td>True</td>\n",
          "    </tr>\n",
          "    <tr>\n",
          "      <th>2</th>\n",
          "      <td>2486</td>\n",
          "      <td>2486</td>\n",
          "      <td>[0, 0, 0, 0, 0, 0, 0, 0, 0, 0, 0, 0, 0, 0, 0, ...</td>\n",
          "      <td>3</td>\n",
          "      <td>False</td>\n",
          "      <td>False</td>\n",
          "      <td>True</td>\n",
          "    </tr>\n",
          "  </tbody>\n",
          "</table>\n",
          "</div>"
         ],
         "text/plain": [
          "   v_id    id                                                  x  y  \\\n",
          "0   431   431  [0, 0, 0, 0, 0, 0, 0, 0, 0, 0, 0, 0, 0, 0, 0, ...  4   \n",
          "1  2696  2696  [0, 0, 0, 0, 0, 0, 0, 0, 0, 0, 0, 0, 0, 0, 0, ...  3   \n",
          "2  2486  2486  [0, 0, 0, 0, 0, 0, 0, 0, 0, 0, 0, 0, 0, 0, 0, ...  3   \n",
          "\n",
          "   train_mask  val_mask  test_mask  \n",
          "0       False      True      False  \n",
          "1       False     False       True  \n",
          "2       False     False       True  "
         ]
        },
        "execution_count": 24,
        "metadata": {},
        "output_type": "execute_result"
       }
      ],
      "source": [
       "dfv = conn.getVertexDataframe('Paper') # select='x,y', wher=''\n",
       "print (dfv.shape)\n",
       "dfv[:3]"
      ]
     },
     {
      "cell_type": "code",
      "execution_count": 31,
      "id": "b66107c9-1814-43e1-b8ec-9bbb97458adc",
      "metadata": {},
      "outputs": [
       {
        "data": {
         "text/plain": [
          "(2708,)"
         ]
        },
        "execution_count": 31,
        "metadata": {},
        "output_type": "execute_result"
       }
      ],
      "source": [
       "dfv.id.unique().shape"
      ]
     },
     {
      "cell_type": "code",
      "execution_count": 35,
      "id": "bad350ba-2b2a-4679-942b-060ae0b26ba9",
      "metadata": {},
      "outputs": [
       {
        "data": {
         "text/plain": [
          "(['Cite'], ['Paper'])"
         ]
        },
        "execution_count": 35,
        "metadata": {},
        "output_type": "execute_result"
       }
      ],
      "source": [
       "conn.getEdgeTypes(), conn.getVertexTypes()"
      ]
     },
     {
      "cell_type": "code",
      "execution_count": 42,
      "id": "0f2a261d-1094-4a41-a606-09df6a58b1d3",
      "metadata": {},
      "outputs": [
       {
        "name": "stdout",
        "output_type": "stream",
        "text": [
         "(10556, 7)\n"
        ]
       },
       {
        "data": {
         "text/html": [
          "<div>\n",
          "<style scoped>\n",
          "    .dataframe tbody tr th:only-of-type {\n",
          "        vertical-align: middle;\n",
          "    }\n",
          "\n",
          "    .dataframe tbody tr th {\n",
          "        vertical-align: top;\n",
          "    }\n",
          "\n",
          "    .dataframe thead th {\n",
          "        text-align: right;\n",
          "    }\n",
          "</style>\n",
          "<table border=\"1\" class=\"dataframe\">\n",
          "  <thead>\n",
          "    <tr style=\"text-align: right;\">\n",
          "      <th></th>\n",
          "      <th>e_type</th>\n",
          "      <th>from_id</th>\n",
          "      <th>from_type</th>\n",
          "      <th>to_id</th>\n",
          "      <th>to_type</th>\n",
          "      <th>directed</th>\n",
          "      <th>attributes</th>\n",
          "    </tr>\n",
          "  </thead>\n",
          "  <tbody>\n",
          "    <tr>\n",
          "      <th>0</th>\n",
          "      <td>Cite</td>\n",
          "      <td>2109</td>\n",
          "      <td>Paper</td>\n",
          "      <td>1975</td>\n",
          "      <td>Paper</td>\n",
          "      <td>True</td>\n",
          "      <td>{}</td>\n",
          "    </tr>\n",
          "    <tr>\n",
          "      <th>1</th>\n",
          "      <td>Cite</td>\n",
          "      <td>2334</td>\n",
          "      <td>Paper</td>\n",
          "      <td>1725</td>\n",
          "      <td>Paper</td>\n",
          "      <td>True</td>\n",
          "      <td>{}</td>\n",
          "    </tr>\n",
          "    <tr>\n",
          "      <th>2</th>\n",
          "      <td>Cite</td>\n",
          "      <td>1996</td>\n",
          "      <td>Paper</td>\n",
          "      <td>327</td>\n",
          "      <td>Paper</td>\n",
          "      <td>True</td>\n",
          "      <td>{}</td>\n",
          "    </tr>\n",
          "  </tbody>\n",
          "</table>\n",
          "</div>"
         ],
         "text/plain": [
          "  e_type from_id from_type to_id to_type  directed attributes\n",
          "0   Cite    2109     Paper  1975   Paper      True         {}\n",
          "1   Cite    2334     Paper  1725   Paper      True         {}\n",
          "2   Cite    1996     Paper   327   Paper      True         {}"
         ]
        },
        "execution_count": 42,
        "metadata": {},
        "output_type": "execute_result"
       }
      ],
      "source": [
       "dfe = pd.DataFrame(conn.getEdgesByType('Cite'))\n",
       "print (dfe.shape)\n",
       "dfe[:3]"
      ]
     },
     {
      "cell_type": "code",
      "execution_count": 44,
      "id": "20255d48-57ed-4cda-b201-d69dd882d322",
      "metadata": {},
      "outputs": [
       {
        "data": {
         "text/plain": [
          "1433"
         ]
        },
        "execution_count": 44,
        "metadata": {},
        "output_type": "execute_result"
       }
      ],
      "source": [
       "len(dfv.x[0]) # word dictionary"
      ]
     },
     {
      "cell_type": "code",
      "execution_count": null,
      "id": "ee45b454-02fc-478c-9af6-77e543d84db6",
      "metadata": {},
      "outputs": [],
      "source": []
     }
    ],
    "metadata": {
     "kernelspec": {
      "display_name": "Python 3",
      "language": "python",
      "name": "python3"
     },
     "language_info": {
      "codemirror_mode": {
       "name": "ipython",
       "version": 3
      },
      "file_extension": ".py",
      "mimetype": "text/x-python",
      "name": "python",
      "nbconvert_exporter": "python",
      "pygments_lexer": "ipython3",
      "version": "3.8.10"
     },
     "toc-showtags": true
    },
    "nbformat": 4,
    "nbformat_minor": 5
   }
   
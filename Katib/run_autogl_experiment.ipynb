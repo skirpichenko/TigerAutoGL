{
 "cells": [
  {
   "cell_type": "markdown",
   "metadata": {},
   "source": [
    "# HyperParameter tunning using  CMA-ES\n",
    "\n",
    "In this example you will deploy 3 Katib Experiments with Covariance Matrix Adaptation Evolution Strategy (CMA-ES) using Jupyter Notebook and Katib SDK. These Experiments have various resume policies.\n",
    "\n",
    "Reference documentation:\n",
    "- https://www.kubeflow.org/docs/components/katib/experiment/#cmaes\n",
    "- https://www.kubeflow.org/docs/components/katib/resume-experiment/\n",
    "\n",
    "The notebook shows how to create, get, check status and delete an Experiment."
   ]
  },
  {
   "cell_type": "code",
   "execution_count": 1,
   "metadata": {},
   "outputs": [
    {
     "name": "stdout",
     "output_type": "stream",
     "text": [
      "Requirement already satisfied: kubeflow-katib==0.12.0 in /opt/conda/lib/python3.8/site-packages (0.12.0)\n",
      "Requirement already satisfied: certifi>=14.05.14 in /opt/conda/lib/python3.8/site-packages (from kubeflow-katib==0.12.0) (2021.5.30)\n",
      "Requirement already satisfied: urllib3>=1.15.1 in /opt/conda/lib/python3.8/site-packages (from kubeflow-katib==0.12.0) (1.26.5)\n",
      "Requirement already satisfied: six>=1.10 in /opt/conda/lib/python3.8/site-packages (from kubeflow-katib==0.12.0) (1.16.0)\n",
      "Requirement already satisfied: kubernetes>=12.0.0 in /opt/conda/lib/python3.8/site-packages (from kubeflow-katib==0.12.0) (12.0.1)\n",
      "Requirement already satisfied: setuptools>=21.0.0 in /opt/conda/lib/python3.8/site-packages (from kubeflow-katib==0.12.0) (49.6.0.post20210108)\n",
      "Requirement already satisfied: websocket-client!=0.40.0,!=0.41.*,!=0.42.*,>=0.32.0 in /opt/conda/lib/python3.8/site-packages (from kubernetes>=12.0.0->kubeflow-katib==0.12.0) (1.0.1)\n",
      "Requirement already satisfied: google-auth>=1.0.1 in /opt/conda/lib/python3.8/site-packages (from kubernetes>=12.0.0->kubeflow-katib==0.12.0) (1.35.0)\n",
      "Requirement already satisfied: requests-oauthlib in /opt/conda/lib/python3.8/site-packages (from kubernetes>=12.0.0->kubeflow-katib==0.12.0) (1.3.0)\n",
      "Requirement already satisfied: python-dateutil>=2.5.3 in /opt/conda/lib/python3.8/site-packages (from kubernetes>=12.0.0->kubeflow-katib==0.12.0) (2.8.1)\n",
      "Requirement already satisfied: pyyaml>=3.12 in /opt/conda/lib/python3.8/site-packages (from kubernetes>=12.0.0->kubeflow-katib==0.12.0) (5.4.1)\n",
      "Requirement already satisfied: requests in /opt/conda/lib/python3.8/site-packages (from kubernetes>=12.0.0->kubeflow-katib==0.12.0) (2.25.1)\n",
      "Requirement already satisfied: pyasn1-modules>=0.2.1 in /opt/conda/lib/python3.8/site-packages (from google-auth>=1.0.1->kubernetes>=12.0.0->kubeflow-katib==0.12.0) (0.2.8)\n",
      "Requirement already satisfied: cachetools<5.0,>=2.0.0 in /opt/conda/lib/python3.8/site-packages (from google-auth>=1.0.1->kubernetes>=12.0.0->kubeflow-katib==0.12.0) (4.2.4)\n",
      "Requirement already satisfied: rsa<5,>=3.1.4 in /opt/conda/lib/python3.8/site-packages (from google-auth>=1.0.1->kubernetes>=12.0.0->kubeflow-katib==0.12.0) (4.8)\n",
      "Requirement already satisfied: pyasn1<0.5.0,>=0.4.6 in /opt/conda/lib/python3.8/site-packages (from pyasn1-modules>=0.2.1->google-auth>=1.0.1->kubernetes>=12.0.0->kubeflow-katib==0.12.0) (0.4.8)\n",
      "Requirement already satisfied: idna<3,>=2.5 in /opt/conda/lib/python3.8/site-packages (from requests->kubernetes>=12.0.0->kubeflow-katib==0.12.0) (2.10)\n",
      "Requirement already satisfied: chardet<5,>=3.0.2 in /opt/conda/lib/python3.8/site-packages (from requests->kubernetes>=12.0.0->kubeflow-katib==0.12.0) (4.0.0)\n",
      "Requirement already satisfied: oauthlib>=3.0.0 in /opt/conda/lib/python3.8/site-packages (from requests-oauthlib->kubernetes>=12.0.0->kubeflow-katib==0.12.0) (3.1.1)\n"
     ]
    }
   ],
   "source": [
    "# Install required package (Katib SDK).\n",
    "!pip install kubeflow-katib==0.12.0"
   ]
  },
  {
   "cell_type": "markdown",
   "metadata": {},
   "source": [
    "## Import required packages"
   ]
  },
  {
   "cell_type": "code",
   "execution_count": 17,
   "metadata": {},
   "outputs": [],
   "source": [
    "import copy\n",
    "\n",
    "from kubeflow.katib import KatibClient\n",
    "from kubernetes.client import V1ObjectMeta\n",
    "from kubeflow.katib import V1beta1Experiment\n",
    "from kubeflow.katib import V1beta1AlgorithmSpec\n",
    "from kubeflow.katib import V1beta1ObjectiveSpec\n",
    "from kubeflow.katib import V1beta1FeasibleSpace\n",
    "from kubeflow.katib import V1beta1ExperimentSpec\n",
    "from kubeflow.katib import V1beta1ObjectiveSpec\n",
    "from kubeflow.katib import V1beta1ParameterSpec\n",
    "from kubeflow.katib import V1beta1TrialTemplate\n",
    "from kubeflow.katib import V1beta1TrialParameterSpec"
   ]
  },
  {
   "cell_type": "markdown",
   "metadata": {},
   "source": [
    "## Define your Experiment\n",
    "\n",
    "You have to create your Experiment object before deploying it. This Experiment is similar to [this](https://github.com/kubeflow/katib/blob/master/examples/v1beta1/hp-tuning/cmaes.yaml) example."
   ]
  },
  {
   "cell_type": "code",
   "execution_count": 22,
   "metadata": {},
   "outputs": [],
   "source": [
    "# Experiment name and namespace.\n",
    "namespace = \"kubeflow-user-example-com\"\n",
    "experiment_name = \"autogl-cora-suggestion\"\n",
    "\n",
    "metadata = V1ObjectMeta(\n",
    "    name=experiment_name,\n",
    "    namespace=namespace\n",
    ")\n",
    "\n",
    "# Algorithm specification.\n",
    "algorithm_spec=V1beta1AlgorithmSpec(\n",
    "    algorithm_name=\"cmaes\"\n",
    ")\n",
    "\n",
    "# Objective specification.\n",
    "objective_spec=V1beta1ObjectiveSpec(\n",
    "    type=\"maximize\",\n",
    "    goal= 0.95,\n",
    "    objective_metric_name=\"Validation-accuracy\",\n",
    "    additional_metric_names=[\"Train-accuracy\"]\n",
    ")\n",
    "\n",
    "# Experiment search space. In this example we tune learning rate, number of layer and optimizer.\n",
    "parameters=[\n",
    "    V1beta1ParameterSpec(\n",
    "        name=\"lr\",\n",
    "        parameter_type=\"double\",\n",
    "        feasible_space=V1beta1FeasibleSpace(\n",
    "            min=\"0.01\",\n",
    "            max=\"0.06\"\n",
    "        ),\n",
    "    ),\n",
    "    V1beta1ParameterSpec(\n",
    "        name=\"num-layers\",\n",
    "        parameter_type=\"int\",\n",
    "        feasible_space=V1beta1FeasibleSpace(\n",
    "            min=\"2\",\n",
    "            max=\"5\"\n",
    "        ),\n",
    "    ),\n",
    "    V1beta1ParameterSpec(\n",
    "        name=\"activation\",\n",
    "        parameter_type=\"categorical\",\n",
    "        feasible_space=V1beta1FeasibleSpace(\n",
    "            list=[\"leaky_relu\",\"relu\",\"elu\",\"tanh\"]\n",
    "        ),\n",
    "    )\n",
    "]\n",
    "\n",
    "\n",
    "\n",
    "# JSON template specification for the Trial's Worker Kubernetes Job.\n",
    "trial_spec={\n",
    "    \"apiVersion\": \"batch/v1\",\n",
    "    \"kind\": \"Job\",\n",
    "    \"spec\": {\n",
    "        \"template\": {\n",
    "            \"metadata\": {\n",
    "                \"annotations\": {\n",
    "                    \"sidecar.istio.io/inject\": \"false\"\n",
    "                }\n",
    "            },\n",
    "            \"spec\": {\n",
    "                \"containers\": [\n",
    "                    {\n",
    "                        \"name\": \"training-container\",\n",
    "                        \"image\": \"docker.io/skirpichenko/tigergraph:autogl-dev\",\n",
    "                        \"command\": [\"/home/user/TigerAutoGL/containers/autogl/run.sh\",\n",
    "                            \"--batch-size=64\",\n",
    "                            \"--lr=${trialParameters.learningRate}\",\n",
    "                            \"--nlayers=${trialParameters.numberLayers}\",\n",
    "                            \"--activation=${trialParameters.activation}\"\n",
    "                        ]\n",
    "                    }\n",
    "                ],\n",
    "                \"restartPolicy\": \"Never\"\n",
    "            }\n",
    "        }\n",
    "    }\n",
    "}\n",
    "\n",
    "# Configure parameters for the Trial template.\n",
    "trial_template=V1beta1TrialTemplate(\n",
    "    primary_container_name=\"training-container\",\n",
    "    trial_parameters=[\n",
    "        V1beta1TrialParameterSpec(\n",
    "            name=\"learningRate\",\n",
    "            description=\"Learning rate for the training model\",\n",
    "            reference=\"lr\"\n",
    "        ),\n",
    "        V1beta1TrialParameterSpec(\n",
    "            name=\"numberLayers\",\n",
    "            description=\"Number of training model layers\",\n",
    "            reference=\"num-layers\"\n",
    "        ),\n",
    "        V1beta1TrialParameterSpec(\n",
    "            name=\"activation\",\n",
    "            description=\"NN activation function\",\n",
    "            reference=\"activation\"\n",
    "        ),\n",
    "    ],\n",
    "    trial_spec=trial_spec\n",
    ")\n",
    "\n",
    "\n",
    "# Experiment object.\n",
    "experiment = V1beta1Experiment(\n",
    "    api_version=\"kubeflow.org/v1beta1\",\n",
    "    kind=\"Experiment\",\n",
    "    metadata=metadata,\n",
    "    spec=V1beta1ExperimentSpec(\n",
    "        max_trial_count=20,\n",
    "        parallel_trial_count=3,\n",
    "        max_failed_trial_count=3,\n",
    "        algorithm=algorithm_spec,\n",
    "        objective=objective_spec,\n",
    "        parameters=parameters,\n",
    "        trial_template=trial_template,\n",
    "    )\n",
    ")"
   ]
  },
  {
   "cell_type": "code",
   "execution_count": 23,
   "metadata": {},
   "outputs": [
    {
     "name": "stdout",
     "output_type": "stream",
     "text": [
      "{'api_version': 'kubeflow.org/v1beta1',\n",
      " 'kind': 'Experiment',\n",
      " 'metadata': {'annotations': None,\n",
      "              'cluster_name': None,\n",
      "              'creation_timestamp': None,\n",
      "              'deletion_grace_period_seconds': None,\n",
      "              'deletion_timestamp': None,\n",
      "              'finalizers': None,\n",
      "              'generate_name': None,\n",
      "              'generation': None,\n",
      "              'labels': None,\n",
      "              'managed_fields': None,\n",
      "              'name': 'autogl-cora-suggestion',\n",
      "              'namespace': 'kubeflow-user-example-com',\n",
      "              'owner_references': None,\n",
      "              'resource_version': None,\n",
      "              'self_link': None,\n",
      "              'uid': None},\n",
      " 'spec': {'algorithm': {'algorithm_name': 'cmaes', 'algorithm_settings': None},\n",
      "          'early_stopping': None,\n",
      "          'max_failed_trial_count': 3,\n",
      "          'max_trial_count': 20,\n",
      "          'metrics_collector_spec': None,\n",
      "          'nas_config': None,\n",
      "          'objective': {'additional_metric_names': ['Train-accuracy'],\n",
      "                        'goal': 0.95,\n",
      "                        'metric_strategies': None,\n",
      "                        'objective_metric_name': 'Validation-accuracy',\n",
      "                        'type': 'maximize'},\n",
      "          'parallel_trial_count': 3,\n",
      "          'parameters': [{'feasible_space': {'list': None,\n",
      "                                             'max': '0.06',\n",
      "                                             'min': '0.01',\n",
      "                                             'step': None},\n",
      "                          'name': 'lr',\n",
      "                          'parameter_type': 'double'},\n",
      "                         {'feasible_space': {'list': None,\n",
      "                                             'max': '5',\n",
      "                                             'min': '2',\n",
      "                                             'step': None},\n",
      "                          'name': 'num-layers',\n",
      "                          'parameter_type': 'int'},\n",
      "                         {'feasible_space': {'list': ['leaky_relu',\n",
      "                                                      'relu',\n",
      "                                                      'elu',\n",
      "                                                      'tanh'],\n",
      "                                             'max': None,\n",
      "                                             'min': None,\n",
      "                                             'step': None},\n",
      "                          'name': 'activation',\n",
      "                          'parameter_type': 'categorical'}],\n",
      "          'resume_policy': None,\n",
      "          'trial_template': {'config_map': None,\n",
      "                             'failure_condition': None,\n",
      "                             'primary_container_name': 'training-container',\n",
      "                             'primary_pod_labels': None,\n",
      "                             'retain': None,\n",
      "                             'success_condition': None,\n",
      "                             'trial_parameters': [{'description': 'Learning '\n",
      "                                                                  'rate for '\n",
      "                                                                  'the '\n",
      "                                                                  'training '\n",
      "                                                                  'model',\n",
      "                                                   'name': 'learningRate',\n",
      "                                                   'reference': 'lr'},\n",
      "                                                  {'description': 'Number of '\n",
      "                                                                  'training '\n",
      "                                                                  'model '\n",
      "                                                                  'layers',\n",
      "                                                   'name': 'numberLayers',\n",
      "                                                   'reference': 'num-layers'},\n",
      "                                                  {'description': 'NN '\n",
      "                                                                  'activation '\n",
      "                                                                  'function',\n",
      "                                                   'name': 'activation',\n",
      "                                                   'reference': 'activation'}],\n",
      "                             'trial_spec': {'apiVersion': 'batch/v1',\n",
      "                                            'kind': 'Job',\n",
      "                                            'spec': {'template': {'metadata': {'annotations': {'sidecar.istio.io/inject': 'false'}},\n",
      "                                                                  'spec': {'containers': [{'command': ['/home/user/TigerAutoGL/containers/autogl/run.sh',\n",
      "                                                                                                       '--batch-size=64',\n",
      "                                                                                                       '--lr=${trialParameters.learningRate}',\n",
      "                                                                                                       '--nlayers=${trialParameters.numberLayers}',\n",
      "                                                                                                       '--activation=${trialParameters.activation}'],\n",
      "                                                                                           'image': 'docker.io/skirpichenko/tigergraph:autogl-dev',\n",
      "                                                                                           'name': 'training-container'}],\n",
      "                                                                           'restartPolicy': 'Never'}}}}}},\n",
      " 'status': None}\n"
     ]
    }
   ],
   "source": [
    "print(experiment.to_str())"
   ]
  },
  {
   "cell_type": "markdown",
   "metadata": {},
   "source": [
    "## Create your Experiment\n",
    "\n",
    "You have to create Katib client to use the SDK."
   ]
  },
  {
   "cell_type": "code",
   "execution_count": 24,
   "metadata": {},
   "outputs": [
    {
     "data": {
      "text/html": [
       "Katib Experiment autogl-cora-suggestion link <a href=\"/_/katib/#/katib/hp_monitor/kubeflow-user-example-com/autogl-cora-suggestion\" target=\"_blank\">here</a>"
      ],
      "text/plain": [
       "<IPython.core.display.HTML object>"
      ]
     },
     "metadata": {},
     "output_type": "display_data"
    },
    {
     "data": {
      "text/plain": [
       "{'apiVersion': 'kubeflow.org/v1beta1',\n",
       " 'kind': 'Experiment',\n",
       " 'metadata': {'creationTimestamp': '2022-04-06T16:17:07Z',\n",
       "  'generation': 1,\n",
       "  'managedFields': [{'apiVersion': 'kubeflow.org/v1beta1',\n",
       "    'fieldsType': 'FieldsV1',\n",
       "    'fieldsV1': {'f:spec': {'.': {},\n",
       "      'f:algorithm': {'.': {}, 'f:algorithmName': {}},\n",
       "      'f:maxFailedTrialCount': {},\n",
       "      'f:maxTrialCount': {},\n",
       "      'f:objective': {'.': {},\n",
       "       'f:additionalMetricNames': {},\n",
       "       'f:goal': {},\n",
       "       'f:objectiveMetricName': {},\n",
       "       'f:type': {}},\n",
       "      'f:parallelTrialCount': {},\n",
       "      'f:parameters': {},\n",
       "      'f:trialTemplate': {'.': {},\n",
       "       'f:primaryContainerName': {},\n",
       "       'f:trialParameters': {},\n",
       "       'f:trialSpec': {'.': {},\n",
       "        'f:apiVersion': {},\n",
       "        'f:kind': {},\n",
       "        'f:spec': {'.': {},\n",
       "         'f:template': {'.': {},\n",
       "          'f:metadata': {'.': {},\n",
       "           'f:annotations': {'.': {}, 'f:sidecar.istio.io/inject': {}}},\n",
       "          'f:spec': {'.': {}, 'f:containers': {}, 'f:restartPolicy': {}}}}}}}},\n",
       "    'manager': 'OpenAPI-Generator',\n",
       "    'operation': 'Update',\n",
       "    'time': '2022-04-06T16:17:07Z'}],\n",
       "  'name': 'autogl-cora-suggestion',\n",
       "  'namespace': 'kubeflow-user-example-com',\n",
       "  'resourceVersion': '40720788',\n",
       "  'uid': '286e6c25-6571-4e04-a68d-c4cd87d7df53'},\n",
       " 'spec': {'algorithm': {'algorithmName': 'cmaes'},\n",
       "  'maxFailedTrialCount': 3,\n",
       "  'maxTrialCount': 20,\n",
       "  'metricsCollectorSpec': {'collector': {'kind': 'StdOut'}},\n",
       "  'objective': {'additionalMetricNames': ['Train-accuracy'],\n",
       "   'goal': 0.95,\n",
       "   'metricStrategies': [{'name': 'Validation-accuracy', 'value': 'max'},\n",
       "    {'name': 'Train-accuracy', 'value': 'max'}],\n",
       "   'objectiveMetricName': 'Validation-accuracy',\n",
       "   'type': 'maximize'},\n",
       "  'parallelTrialCount': 3,\n",
       "  'parameters': [{'feasibleSpace': {'max': '0.06', 'min': '0.01'},\n",
       "    'name': 'lr',\n",
       "    'parameterType': 'double'},\n",
       "   {'feasibleSpace': {'max': '5', 'min': '2'},\n",
       "    'name': 'num-layers',\n",
       "    'parameterType': 'int'},\n",
       "   {'feasibleSpace': {'list': ['leaky_relu', 'relu', 'elu', 'tanh']},\n",
       "    'name': 'activation',\n",
       "    'parameterType': 'categorical'}],\n",
       "  'resumePolicy': 'LongRunning',\n",
       "  'trialTemplate': {'failureCondition': 'status.conditions.#(type==\"Failed\")#|#(status==\"True\")#',\n",
       "   'primaryContainerName': 'training-container',\n",
       "   'successCondition': 'status.conditions.#(type==\"Complete\")#|#(status==\"True\")#',\n",
       "   'trialParameters': [{'description': 'Learning rate for the training model',\n",
       "     'name': 'learningRate',\n",
       "     'reference': 'lr'},\n",
       "    {'description': 'Number of training model layers',\n",
       "     'name': 'numberLayers',\n",
       "     'reference': 'num-layers'},\n",
       "    {'description': 'NN activation function',\n",
       "     'name': 'activation',\n",
       "     'reference': 'activation'}],\n",
       "   'trialSpec': {'apiVersion': 'batch/v1',\n",
       "    'kind': 'Job',\n",
       "    'spec': {'template': {'metadata': {'annotations': {'sidecar.istio.io/inject': 'false'}},\n",
       "      'spec': {'containers': [{'command': ['/home/user/TigerAutoGL/containers/autogl/run.sh',\n",
       "          '--batch-size=64',\n",
       "          '--lr=${trialParameters.learningRate}',\n",
       "          '--nlayers=${trialParameters.numberLayers}',\n",
       "          '--activation=${trialParameters.activation}'],\n",
       "         'image': 'docker.io/skirpichenko/tigergraph:autogl-dev',\n",
       "         'name': 'training-container'}],\n",
       "       'restartPolicy': 'Never'}}}}}}}"
      ]
     },
     "execution_count": 24,
     "metadata": {},
     "output_type": "execute_result"
    }
   ],
   "source": [
    "# Create client.\n",
    "kclient = KatibClient()\n",
    "\n",
    "# Create your Experiment.\n",
    "kclient.create_experiment(experiment,namespace=namespace)"
   ]
  },
  {
   "cell_type": "markdown",
   "metadata": {},
   "source": [
    "Create other Experiments."
   ]
  },
  {
   "cell_type": "markdown",
   "metadata": {},
   "source": [
    "## Get your Experiment\n",
    "\n",
    "You can get your Experiment by name and receive required data."
   ]
  },
  {
   "cell_type": "code",
   "execution_count": 21,
   "metadata": {},
   "outputs": [
    {
     "ename": "NameError",
     "evalue": "name 'exp' is not defined",
     "output_type": "error",
     "traceback": [
      "\u001b[0;31m---------------------------------------------------------------------------\u001b[0m",
      "\u001b[0;31mNameError\u001b[0m                                 Traceback (most recent call last)",
      "\u001b[0;32m<ipython-input-21-0b8628a3579c>\u001b[0m in \u001b[0;36m<module>\u001b[0;34m\u001b[0m\n\u001b[1;32m      1\u001b[0m \u001b[0;32mimport\u001b[0m \u001b[0mjson\u001b[0m\u001b[0;34m\u001b[0m\u001b[0;34m\u001b[0m\u001b[0m\n\u001b[0;32m----> 2\u001b[0;31m \u001b[0mprint\u001b[0m \u001b[0;34m(\u001b[0m\u001b[0mjson\u001b[0m\u001b[0;34m.\u001b[0m\u001b[0mdumps\u001b[0m\u001b[0;34m(\u001b[0m\u001b[0mexp\u001b[0m\u001b[0;34m,\u001b[0m \u001b[0mindent\u001b[0m\u001b[0;34m=\u001b[0m\u001b[0;36m3\u001b[0m\u001b[0;34m)\u001b[0m\u001b[0;34m)\u001b[0m\u001b[0;34m\u001b[0m\u001b[0;34m\u001b[0m\u001b[0m\n\u001b[0m",
      "\u001b[0;31mNameError\u001b[0m: name 'exp' is not defined"
     ]
    }
   ],
   "source": [
    "import json\n",
    "print (json.dumps(exp, indent=3))"
   ]
  },
  {
   "cell_type": "code",
   "execution_count": 40,
   "metadata": {
    "scrolled": true
   },
   "outputs": [
    {
     "name": "stdout",
     "output_type": "stream",
     "text": [
      "{'apiVersion': 'kubeflow.org/v1beta1', 'kind': 'Experiment', 'metadata': {'creationTimestamp': '2022-03-18T10:18:34Z', 'finalizers': ['update-prometheus-metrics'], 'generation': 1, 'managedFields': [{'apiVersion': 'kubeflow.org/v1beta1', 'fieldsType': 'FieldsV1', 'fieldsV1': {'f:spec': {'.': {}, 'f:algorithm': {'.': {}, 'f:algorithmName': {}}, 'f:maxFailedTrialCount': {}, 'f:maxTrialCount': {}, 'f:objective': {'.': {}, 'f:additionalMetricNames': {}, 'f:goal': {}, 'f:objectiveMetricName': {}, 'f:type': {}}, 'f:parallelTrialCount': {}, 'f:parameters': {}, 'f:trialTemplate': {'.': {}, 'f:primaryContainerName': {}, 'f:trialParameters': {}, 'f:trialSpec': {'.': {}, 'f:apiVersion': {}, 'f:kind': {}, 'f:spec': {'.': {}, 'f:template': {'.': {}, 'f:metadata': {'.': {}, 'f:annotations': {'.': {}, 'f:sidecar.istio.io/inject': {}}}, 'f:spec': {'.': {}, 'f:containers': {}, 'f:restartPolicy': {}}}}}}}}, 'manager': 'OpenAPI-Generator', 'operation': 'Update', 'time': '2022-03-18T10:18:34Z'}, {'apiVersion': 'kubeflow.org/v1beta1', 'fieldsType': 'FieldsV1', 'fieldsV1': {'f:metadata': {'f:finalizers': {'.': {}, 'v:\"update-prometheus-metrics\"': {}}}, 'f:status': {'.': {}, 'f:completionTime': {}, 'f:conditions': {}, 'f:currentOptimalTrial': {'.': {}, 'f:observation': {}}, 'f:startTime': {}}}, 'manager': 'katib-controller', 'operation': 'Update', 'time': '2022-03-18T10:18:34Z'}], 'name': 'autogl-01', 'namespace': 'kubeflow-user-example-com', 'resourceVersion': '26441155', 'uid': '5456c49b-a7f8-4be0-a85c-f3390ad6e0f4'}, 'spec': {'algorithm': {'algorithmName': 'cmaes'}, 'maxFailedTrialCount': 3, 'maxTrialCount': 20, 'metricsCollectorSpec': {'collector': {'kind': 'StdOut'}}, 'objective': {'additionalMetricNames': ['Train-accuracy'], 'goal': 0.99, 'metricStrategies': [{'name': 'Validation-accuracy', 'value': 'max'}, {'name': 'Train-accuracy', 'value': 'max'}], 'objectiveMetricName': 'Validation-accuracy', 'type': 'maximize'}, 'parallelTrialCount': 4, 'parameters': [{'feasibleSpace': {'max': '0.06', 'min': '0.01'}, 'name': 'lr', 'parameterType': 'double'}, {'feasibleSpace': {'max': '5', 'min': '2'}, 'name': 'num-layers', 'parameterType': 'int'}, {'feasibleSpace': {'list': ['sgd', 'adam', 'ftrl']}, 'name': 'optimizer', 'parameterType': 'categorical'}], 'resumePolicy': 'LongRunning', 'trialTemplate': {'failureCondition': 'status.conditions.#(type==\"Failed\")#|#(status==\"True\")#', 'primaryContainerName': 'training-container', 'successCondition': 'status.conditions.#(type==\"Complete\")#|#(status==\"True\")#', 'trialParameters': [{'description': 'Learning rate for the training model', 'name': 'learningRate', 'reference': 'lr'}, {'description': 'Number of training model layers', 'name': 'numberLayers', 'reference': 'num-layers'}, {'description': 'Training model optimizer (sdg, adam or ftrl)', 'name': 'optimizer', 'reference': 'optimizer'}], 'trialSpec': {'apiVersion': 'batch/v1', 'kind': 'Job', 'spec': {'template': {'metadata': {'annotations': {'sidecar.istio.io/inject': 'false'}}, 'spec': {'containers': [{'command': ['python3', '/opt/mxnet-mnist/mnist.py', '--batch-size=64', '--lr=${trialParameters.learningRate}', '--num-layers=${trialParameters.numberLayers}', '--optimizer=${trialParameters.optimizer}'], 'image': 'skirpichenko/tigergraph:katibcora', 'name': 'training-container'}], 'restartPolicy': 'Never'}}}}}}, 'status': {'completionTime': None, 'conditions': [{'lastTransitionTime': '2022-03-18T10:18:34Z', 'lastUpdateTime': '2022-03-18T10:18:34Z', 'message': 'Experiment is created', 'reason': 'ExperimentCreated', 'status': 'True', 'type': 'Created'}], 'currentOptimalTrial': {'observation': {}}, 'startTime': '2022-03-18T10:18:34Z'}}\n",
      "-----------------\n",
      "\n",
      "20\n",
      "{'lastTransitionTime': '2022-03-18T10:18:34Z', 'lastUpdateTime': '2022-03-18T10:18:34Z', 'message': 'Experiment is created', 'reason': 'ExperimentCreated', 'status': 'True', 'type': 'Created'}\n"
     ]
    }
   ],
   "source": [
    "exp = kclient.get_experiment(name=experiment_name, namespace=namespace)\n",
    "print(exp)\n",
    "print(\"-----------------\\n\")\n",
    "\n",
    "# Get the max trial count and latest status.\n",
    "print(exp[\"spec\"][\"maxTrialCount\"])\n",
    "print(exp[\"status\"][\"conditions\"][-1])"
   ]
  },
  {
   "cell_type": "markdown",
   "metadata": {},
   "source": [
    "## Get all Experiments\n",
    "\n",
    "You can get list of the current Experiments."
   ]
  },
  {
   "cell_type": "code",
   "execution_count": 34,
   "metadata": {},
   "outputs": [
    {
     "name": "stdout",
     "output_type": "stream",
     "text": [
      "autogl-02\n",
      "autogl-08\n",
      "autogl-cora\n",
      "cmaes-example\n",
      "cmaes-example-14\n",
      "cmaes-example-20\n",
      "cmaes-example-200\n",
      "cmaes-example-test\n"
     ]
    }
   ],
   "source": [
    "# Get names from the running Experiments.\n",
    "exp_list = kclient.get_experiment(namespace=namespace)\n",
    "\n",
    "for exp in exp_list[\"items\"]:\n",
    "    print(exp[\"metadata\"][\"name\"])"
   ]
  },
  {
   "cell_type": "markdown",
   "metadata": {},
   "source": [
    "## Get the current Experiment status\n",
    "\n",
    "You can check the current Experiment status."
   ]
  },
  {
   "cell_type": "code",
   "execution_count": 35,
   "metadata": {},
   "outputs": [
    {
     "data": {
      "text/plain": [
       "'Failed'"
      ]
     },
     "execution_count": 35,
     "metadata": {},
     "output_type": "execute_result"
    }
   ],
   "source": [
    "kclient.get_experiment_status(name=experiment_name, namespace=namespace)"
   ]
  },
  {
   "cell_type": "markdown",
   "metadata": {},
   "source": [
    "You can check if your Experiment is succeeded."
   ]
  },
  {
   "cell_type": "code",
   "execution_count": 20,
   "metadata": {
    "scrolled": true
   },
   "outputs": [
    {
     "data": {
      "text/plain": [
       "False"
      ]
     },
     "execution_count": 20,
     "metadata": {},
     "output_type": "execute_result"
    }
   ],
   "source": [
    "kclient.is_experiment_succeeded(name=experiment_name, namespace=namespace)"
   ]
  },
  {
   "cell_type": "markdown",
   "metadata": {},
   "source": [
    "## List of the current Trials\n",
    "\n",
    "You can get list of the current trials with the latest status."
   ]
  },
  {
   "cell_type": "code",
   "execution_count": 36,
   "metadata": {
    "scrolled": true
   },
   "outputs": [
    {
     "data": {
      "text/plain": [
       "[]"
      ]
     },
     "execution_count": 36,
     "metadata": {},
     "output_type": "execute_result"
    }
   ],
   "source": [
    "# Trial list.\n",
    "kclient.list_trials(name=experiment_name, namespace=namespace)"
   ]
  },
  {
   "cell_type": "markdown",
   "metadata": {},
   "source": [
    "## Get the optimal HyperParameters\n",
    "\n",
    "You can get the current optimal Trial from your Experiment. For the each metric you can see the max, min and latest value."
   ]
  },
  {
   "cell_type": "code",
   "execution_count": 13,
   "metadata": {},
   "outputs": [
    {
     "data": {
      "text/plain": [
       "{'currentOptimalTrial': {'bestTrialName': 'cmaes-example-8crn89vg',\n",
       "  'observation': {'metrics': [{'latest': '0.991588',\n",
       "     'max': '0.991588',\n",
       "     'min': '0.925057',\n",
       "     'name': 'Train-accuracy'},\n",
       "    {'latest': '0.978205',\n",
       "     'max': '0.980096',\n",
       "     'min': '0.954817',\n",
       "     'name': 'Validation-accuracy'}]},\n",
       "  'parameterAssignments': [{'name': 'lr', 'value': '0.04511033252270099'},\n",
       "   {'name': 'num-layers', 'value': '3'},\n",
       "   {'name': 'optimizer', 'value': 'sgd'}]}}"
      ]
     },
     "execution_count": 13,
     "metadata": {},
     "output_type": "execute_result"
    }
   ],
   "source": [
    "# Optimal HPs.\n",
    "kclient.get_optimal_hyperparameters(name=experiment_name, namespace=namespace)"
   ]
  },
  {
   "cell_type": "markdown",
   "metadata": {},
   "source": [
    "## Status for the Suggestion objects\n",
    "\n",
    "You can check the Suggestion object status for more information about resume status.\n",
    "\n",
    "For Experiment with FromVolume you should be able to check created PVC."
   ]
  },
  {
   "cell_type": "code",
   "execution_count": 14,
   "metadata": {},
   "outputs": [
    {
     "name": "stdout",
     "output_type": "stream",
     "text": [
      "Suggestion is succeeded, can't be restarted\n",
      "-----------------\n",
      "Suggestion is succeeded, suggestion volume is not deleted, can be restarted\n"
     ]
    }
   ],
   "source": [
    "# Get the current Suggestion status for the never resume Experiment.\n",
    "suggestion = kclient.get_suggestion(name=experiment_never_resume_name, namespace=namespace)\n",
    "\n",
    "print(suggestion[\"status\"][\"conditions\"][-1][\"message\"])\n",
    "print(\"-----------------\")\n",
    "\n",
    "# Get the current Suggestion status for the from volume Experiment.\n",
    "suggestion = kclient.get_suggestion(name=experiment_from_volume_resume_name, namespace=namespace)\n",
    "\n",
    "print(suggestion[\"status\"][\"conditions\"][-1][\"message\"])"
   ]
  },
  {
   "cell_type": "markdown",
   "metadata": {},
   "source": [
    "## Delete your Experiments\n",
    "\n",
    "You can delete your Experiments."
   ]
  },
  {
   "cell_type": "code",
   "execution_count": 38,
   "metadata": {},
   "outputs": [
    {
     "data": {
      "text/plain": [
       "('autogl-cora', 'kubeflow-user-example-com')"
      ]
     },
     "execution_count": 38,
     "metadata": {},
     "output_type": "execute_result"
    }
   ],
   "source": [
    "experiment_name, namespace"
   ]
  },
  {
   "cell_type": "code",
   "execution_count": 39,
   "metadata": {},
   "outputs": [
    {
     "data": {
      "text/plain": [
       "{'apiVersion': 'kubeflow.org/v1beta1',\n",
       " 'kind': 'Experiment',\n",
       " 'metadata': {'creationTimestamp': '2022-03-29T11:05:45Z',\n",
       "  'deletionGracePeriodSeconds': 0,\n",
       "  'deletionTimestamp': '2022-03-29T11:29:52Z',\n",
       "  'finalizers': ['update-prometheus-metrics'],\n",
       "  'generation': 2,\n",
       "  'managedFields': [{'apiVersion': 'kubeflow.org/v1beta1',\n",
       "    'fieldsType': 'FieldsV1',\n",
       "    'fieldsV1': {'f:spec': {'.': {},\n",
       "      'f:algorithm': {'.': {}, 'f:algorithmName': {}},\n",
       "      'f:maxFailedTrialCount': {},\n",
       "      'f:maxTrialCount': {},\n",
       "      'f:objective': {'.': {},\n",
       "       'f:additionalMetricNames': {},\n",
       "       'f:goal': {},\n",
       "       'f:objectiveMetricName': {},\n",
       "       'f:type': {}},\n",
       "      'f:parallelTrialCount': {},\n",
       "      'f:parameters': {},\n",
       "      'f:trialTemplate': {'.': {},\n",
       "       'f:primaryContainerName': {},\n",
       "       'f:trialParameters': {},\n",
       "       'f:trialSpec': {'.': {},\n",
       "        'f:apiVersion': {},\n",
       "        'f:kind': {},\n",
       "        'f:spec': {'.': {},\n",
       "         'f:template': {'.': {},\n",
       "          'f:metadata': {'.': {},\n",
       "           'f:annotations': {'.': {}, 'f:sidecar.istio.io/inject': {}}},\n",
       "          'f:spec': {'.': {}, 'f:containers': {}, 'f:restartPolicy': {}}}}}}}},\n",
       "    'manager': 'OpenAPI-Generator',\n",
       "    'operation': 'Update',\n",
       "    'time': '2022-03-29T11:05:45Z'},\n",
       "   {'apiVersion': 'kubeflow.org/v1beta1',\n",
       "    'fieldsType': 'FieldsV1',\n",
       "    'fieldsV1': {'f:metadata': {'f:finalizers': {'.': {},\n",
       "       'v:\"update-prometheus-metrics\"': {}}},\n",
       "     'f:status': {'.': {},\n",
       "      'f:conditions': {},\n",
       "      'f:currentOptimalTrial': {'.': {}, 'f:observation': {}},\n",
       "      'f:startTime': {}}},\n",
       "    'manager': 'katib-controller',\n",
       "    'operation': 'Update',\n",
       "    'time': '2022-03-29T11:06:07Z'}],\n",
       "  'name': 'autogl-cora',\n",
       "  'namespace': 'kubeflow-user-example-com',\n",
       "  'resourceVersion': '34574515',\n",
       "  'uid': 'dcb0f99f-25c2-4944-a87c-78341842ee17'},\n",
       " 'spec': {'algorithm': {'algorithmName': 'random2'},\n",
       "  'maxFailedTrialCount': 3,\n",
       "  'maxTrialCount': 20,\n",
       "  'metricsCollectorSpec': {'collector': {'kind': 'StdOut'}},\n",
       "  'objective': {'additionalMetricNames': ['Train-accuracy'],\n",
       "   'goal': 0.95,\n",
       "   'metricStrategies': [{'name': 'Validation-accuracy', 'value': 'max'},\n",
       "    {'name': 'Train-accuracy', 'value': 'max'}],\n",
       "   'objectiveMetricName': 'Validation-accuracy',\n",
       "   'type': 'maximize'},\n",
       "  'parallelTrialCount': 3,\n",
       "  'parameters': [{'feasibleSpace': {'max': '0.06', 'min': '0.01'},\n",
       "    'name': 'lr',\n",
       "    'parameterType': 'double'},\n",
       "   {'feasibleSpace': {'max': '5', 'min': '2'},\n",
       "    'name': 'num-layers',\n",
       "    'parameterType': 'int'},\n",
       "   {'feasibleSpace': {'list': ['leaky_relu', 'relu', 'elu', 'tanh']},\n",
       "    'name': 'activation',\n",
       "    'parameterType': 'categorical'}],\n",
       "  'resumePolicy': 'LongRunning',\n",
       "  'trialTemplate': {'failureCondition': 'status.conditions.#(type==\"Failed\")#|#(status==\"True\")#',\n",
       "   'primaryContainerName': 'training-container',\n",
       "   'successCondition': 'status.conditions.#(type==\"Complete\")#|#(status==\"True\")#',\n",
       "   'trialParameters': [{'description': 'Learning rate for the training model',\n",
       "     'name': 'learningRate',\n",
       "     'reference': 'lr'},\n",
       "    {'description': 'Number of training model layers',\n",
       "     'name': 'numberLayers',\n",
       "     'reference': 'num-layers'},\n",
       "    {'description': 'NN activation function',\n",
       "     'name': 'activation',\n",
       "     'reference': 'activation'}],\n",
       "   'trialSpec': {'apiVersion': 'batch/v1',\n",
       "    'kind': 'Job',\n",
       "    'spec': {'template': {'metadata': {'annotations': {'sidecar.istio.io/inject': 'false'}},\n",
       "      'spec': {'containers': [{'command': ['/home/user/TigerAutoGL/containers/autogl/run.sh',\n",
       "          '--batch-size=64',\n",
       "          '--lr=${trialParameters.learningRate}',\n",
       "          '--nlayers=${trialParameters.numberLayers}',\n",
       "          '--activation=${trialParameters.activation}'],\n",
       "         'image': 'docker.io/skirpichenko/tigergraph:autogl-dev',\n",
       "         'name': 'training-container'}],\n",
       "       'restartPolicy': 'Never'}}}}}},\n",
       " 'status': {'conditions': [{'lastTransitionTime': '2022-03-29T11:05:45Z',\n",
       "    'lastUpdateTime': '2022-03-29T11:05:45Z',\n",
       "    'message': 'Experiment is created',\n",
       "    'reason': 'ExperimentCreated',\n",
       "    'status': 'True',\n",
       "    'type': 'Created'},\n",
       "   {'lastTransitionTime': '2022-03-29T11:06:07Z',\n",
       "    'lastUpdateTime': '2022-03-29T11:06:07Z',\n",
       "    'message': 'Suggestion has failed',\n",
       "    'reason': 'ExperimentFailed',\n",
       "    'status': 'True',\n",
       "    'type': 'Failed'}],\n",
       "  'currentOptimalTrial': {'observation': {}},\n",
       "  'startTime': '2022-03-29T11:05:45Z'}}"
      ]
     },
     "execution_count": 39,
     "metadata": {},
     "output_type": "execute_result"
    }
   ],
   "source": [
    "kclient.delete_experiment(name=experiment_name, namespace=namespace)\n",
    "#kclient.delete_experiment(name=experiment_never_resume_name, namespace=namespace)\n",
    "#kclient.delete_experiment(name=experiment_from_volume_resume_name, namespace=namespace)"
   ]
  },
  {
   "cell_type": "code",
   "execution_count": null,
   "metadata": {},
   "outputs": [],
   "source": []
  }
 ],
 "metadata": {
  "kernelspec": {
   "display_name": "Python 3",
   "language": "python",
   "name": "python3"
  },
  "kubeflow_notebook": {
   "autosnapshot": false,
   "docker_image": "public.ecr.aws/j1r0q0g6/notebooks/notebook-servers/jupyter-scipy:v1.5.0-rc.0",
   "experiment": {
    "id": "",
    "name": ""
   },
   "experiment_name": "",
   "katib_run": false,
   "pipeline_description": "",
   "pipeline_name": "",
   "snapshot_volumes": false,
   "steps_defaults": [],
   "volume_access_mode": "rwm",
   "volumes": []
  },
  "language_info": {
   "codemirror_mode": {
    "name": "ipython",
    "version": 3
   },
   "file_extension": ".py",
   "mimetype": "text/x-python",
   "name": "python",
   "nbconvert_exporter": "python",
   "pygments_lexer": "ipython3",
   "version": "3.8.10"
  }
 },
 "nbformat": 4,
 "nbformat_minor": 4
}

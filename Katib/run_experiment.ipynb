{
 "cells": [
  {
   "cell_type": "code",
   "execution_count": 2,
   "id": "0f9910cf-85b6-4965-aef0-a44b50de1104",
   "metadata": {},
   "outputs": [
    {
     "name": "stdout",
     "output_type": "stream",
     "text": [
      "Collecting kubeflow-katib\n",
      "  Downloading kubeflow_katib-0.13.0-py3-none-any.whl (89 kB)\n",
      "\u001b[2K     \u001b[90m━━━━━━━━━━━━━━━━━━━━━━━━━━━━━━━━━━━━━━━━\u001b[0m \u001b[32m89.3/89.3 KB\u001b[0m \u001b[31m6.2 MB/s\u001b[0m eta \u001b[36m0:00:00\u001b[0m\n",
      "\u001b[?25hRequirement already satisfied: setuptools>=21.0.0 in /opt/conda/lib/python3.7/site-packages (from kubeflow-katib) (59.8.0)\n",
      "Requirement already satisfied: certifi>=14.05.14 in /opt/conda/lib/python3.7/site-packages (from kubeflow-katib) (2021.10.8)\n",
      "Requirement already satisfied: urllib3>=1.15.1 in /opt/conda/lib/python3.7/site-packages (from kubeflow-katib) (1.26.8)\n",
      "Requirement already satisfied: six>=1.10 in /opt/conda/lib/python3.7/site-packages (from kubeflow-katib) (1.16.0)\n",
      "Requirement already satisfied: kubernetes>=12.0.0 in /opt/conda/lib/python3.7/site-packages (from kubeflow-katib) (21.7.0)\n",
      "Requirement already satisfied: requests in /opt/conda/lib/python3.7/site-packages (from kubernetes>=12.0.0->kubeflow-katib) (2.27.1)\n",
      "Requirement already satisfied: requests-oauthlib in /opt/conda/lib/python3.7/site-packages (from kubernetes>=12.0.0->kubeflow-katib) (1.3.1)\n",
      "Requirement already satisfied: google-auth>=1.0.1 in /opt/conda/lib/python3.7/site-packages (from kubernetes>=12.0.0->kubeflow-katib) (2.6.0)\n",
      "Requirement already satisfied: python-dateutil>=2.5.3 in /opt/conda/lib/python3.7/site-packages (from kubernetes>=12.0.0->kubeflow-katib) (2.8.2)\n",
      "Requirement already satisfied: websocket-client!=0.40.0,!=0.41.*,!=0.42.*,>=0.32.0 in /opt/conda/lib/python3.7/site-packages (from kubernetes>=12.0.0->kubeflow-katib) (1.2.3)\n",
      "Requirement already satisfied: pyyaml>=5.4.1 in /opt/conda/lib/python3.7/site-packages (from kubernetes>=12.0.0->kubeflow-katib) (6.0)\n",
      "Requirement already satisfied: pyasn1-modules>=0.2.1 in /opt/conda/lib/python3.7/site-packages (from google-auth>=1.0.1->kubernetes>=12.0.0->kubeflow-katib) (0.2.7)\n",
      "Requirement already satisfied: rsa<5,>=3.1.4 in /opt/conda/lib/python3.7/site-packages (from google-auth>=1.0.1->kubernetes>=12.0.0->kubeflow-katib) (4.8)\n",
      "Requirement already satisfied: cachetools<6.0,>=2.0.0 in /opt/conda/lib/python3.7/site-packages (from google-auth>=1.0.1->kubernetes>=12.0.0->kubeflow-katib) (4.2.4)\n",
      "Requirement already satisfied: charset-normalizer~=2.0.0 in /opt/conda/lib/python3.7/site-packages (from requests->kubernetes>=12.0.0->kubeflow-katib) (2.0.11)\n",
      "Requirement already satisfied: idna<4,>=2.5 in /opt/conda/lib/python3.7/site-packages (from requests->kubernetes>=12.0.0->kubeflow-katib) (3.3)\n",
      "Requirement already satisfied: oauthlib>=3.0.0 in /opt/conda/lib/python3.7/site-packages (from requests-oauthlib->kubernetes>=12.0.0->kubeflow-katib) (3.2.0)\n",
      "Requirement already satisfied: pyasn1<0.5.0,>=0.4.6 in /opt/conda/lib/python3.7/site-packages (from pyasn1-modules>=0.2.1->google-auth>=1.0.1->kubernetes>=12.0.0->kubeflow-katib) (0.4.8)\n",
      "Installing collected packages: kubeflow-katib\n",
      "Successfully installed kubeflow-katib-0.13.0\n"
     ]
    }
   ],
   "source": [
    "!pip install kubeflow-katib"
   ]
  },
  {
   "cell_type": "code",
   "execution_count": null,
   "id": "5de1918a-01ef-4ef4-bb9f-3c81a1161f67",
   "metadata": {},
   "outputs": [],
   "source": []
  }
 ],
 "metadata": {
  "environment": {
   "kernel": "conda-root-py",
   "name": "common-cu110.m89",
   "type": "gcloud",
   "uri": "gcr.io/deeplearning-platform-release/base-cu110:m89"
  },
  "kernelspec": {
   "display_name": "Python [conda env:root] *",
   "language": "python",
   "name": "conda-root-py"
  },
  "language_info": {
   "codemirror_mode": {
    "name": "ipython",
    "version": 3
   },
   "file_extension": ".py",
   "mimetype": "text/x-python",
   "name": "python",
   "nbconvert_exporter": "python",
   "pygments_lexer": "ipython3",
   "version": "3.7.12"
  }
 },
 "nbformat": 4,
 "nbformat_minor": 5
}

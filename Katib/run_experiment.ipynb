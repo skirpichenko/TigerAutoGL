{
    "cells": [
     {
      "cell_type": "markdown",
      "metadata": {},
      "source": [
       "# HyperParameter tunning using  CMA-ES\n",
       "\n",
       "In this example you will deploy 3 Katib Experiments with Covariance Matrix Adaptation Evolution Strategy (CMA-ES) using Jupyter Notebook and Katib SDK. These Experiments have various resume policies.\n",
       "\n",
       "Reference documentation:\n",
       "- https://www.kubeflow.org/docs/components/katib/experiment/#cmaes\n",
       "- https://www.kubeflow.org/docs/components/katib/resume-experiment/\n",
       "\n",
       "The notebook shows how to create, get, check status and delete an Experiment."
      ]
     },
     {
      "cell_type": "code",
      "execution_count": 1,
      "metadata": {},
      "outputs": [
       {
        "name": "stdout",
        "output_type": "stream",
        "text": [
         "Collecting kubeflow-katib==0.12.0\n",
         "  Downloading kubeflow_katib-0.12.0-py3-none-any.whl (89 kB)\n",
         "\u001b[K     |████████████████████████████████| 89 kB 7.5 MB/s  eta 0:00:01\n",
         "\u001b[?25hRequirement already satisfied: urllib3>=1.15.1 in /opt/conda/lib/python3.8/site-packages (from kubeflow-katib==0.12.0) (1.26.5)\n",
         "Requirement already satisfied: certifi>=14.05.14 in /opt/conda/lib/python3.8/site-packages (from kubeflow-katib==0.12.0) (2021.5.30)\n",
         "Requirement already satisfied: setuptools>=21.0.0 in /opt/conda/lib/python3.8/site-packages (from kubeflow-katib==0.12.0) (49.6.0.post20210108)\n",
         "Requirement already satisfied: six>=1.10 in /opt/conda/lib/python3.8/site-packages (from kubeflow-katib==0.12.0) (1.15.0)\n",
         "Requirement already satisfied: kubernetes>=12.0.0 in /opt/conda/lib/python3.8/site-packages (from kubeflow-katib==0.12.0) (12.0.1)\n",
         "Requirement already satisfied: requests in /opt/conda/lib/python3.8/site-packages (from kubernetes>=12.0.0->kubeflow-katib==0.12.0) (2.25.1)\n",
         "Requirement already satisfied: requests-oauthlib in /opt/conda/lib/python3.8/site-packages (from kubernetes>=12.0.0->kubeflow-katib==0.12.0) (1.3.0)\n",
         "Requirement already satisfied: google-auth>=1.0.1 in /opt/conda/lib/python3.8/site-packages (from kubernetes>=12.0.0->kubeflow-katib==0.12.0) (1.31.0)\n",
         "Requirement already satisfied: python-dateutil>=2.5.3 in /opt/conda/lib/python3.8/site-packages (from kubernetes>=12.0.0->kubeflow-katib==0.12.0) (2.8.1)\n",
         "Requirement already satisfied: pyyaml>=3.12 in /opt/conda/lib/python3.8/site-packages (from kubernetes>=12.0.0->kubeflow-katib==0.12.0) (5.4.1)\n",
         "Requirement already satisfied: websocket-client!=0.40.0,!=0.41.*,!=0.42.*,>=0.32.0 in /opt/conda/lib/python3.8/site-packages (from kubernetes>=12.0.0->kubeflow-katib==0.12.0) (1.0.1)\n",
         "Requirement already satisfied: rsa<5,>=3.1.4 in /opt/conda/lib/python3.8/site-packages (from google-auth>=1.0.1->kubernetes>=12.0.0->kubeflow-katib==0.12.0) (4.7.2)\n",
         "Requirement already satisfied: pyasn1-modules>=0.2.1 in /opt/conda/lib/python3.8/site-packages (from google-auth>=1.0.1->kubernetes>=12.0.0->kubeflow-katib==0.12.0) (0.2.8)\n",
         "Requirement already satisfied: cachetools<5.0,>=2.0.0 in /opt/conda/lib/python3.8/site-packages (from google-auth>=1.0.1->kubernetes>=12.0.0->kubeflow-katib==0.12.0) (4.2.2)\n",
         "Requirement already satisfied: pyasn1<0.5.0,>=0.4.6 in /opt/conda/lib/python3.8/site-packages (from pyasn1-modules>=0.2.1->google-auth>=1.0.1->kubernetes>=12.0.0->kubeflow-katib==0.12.0) (0.4.8)\n",
         "Requirement already satisfied: idna<3,>=2.5 in /opt/conda/lib/python3.8/site-packages (from requests->kubernetes>=12.0.0->kubeflow-katib==0.12.0) (2.10)\n",
         "Requirement already satisfied: chardet<5,>=3.0.2 in /opt/conda/lib/python3.8/site-packages (from requests->kubernetes>=12.0.0->kubeflow-katib==0.12.0) (4.0.0)\n",
         "Requirement already satisfied: oauthlib>=3.0.0 in /opt/conda/lib/python3.8/site-packages (from requests-oauthlib->kubernetes>=12.0.0->kubeflow-katib==0.12.0) (3.1.1)\n",
         "Installing collected packages: kubeflow-katib\n",
         "Successfully installed kubeflow-katib-0.12.0\n"
        ]
       }
      ],
      "source": [
       "# Install required package (Katib SDK).\n",
       "!pip install kubeflow-katib==0.12.0"
      ]
     },
     {
      "cell_type": "markdown",
      "metadata": {},
      "source": [
       "## Import required packages"
      ]
     },
     {
      "cell_type": "code",
      "execution_count": 2,
      "metadata": {},
      "outputs": [],
      "source": [
       "import copy\n",
       "\n",
       "from kubeflow.katib import KatibClient\n",
       "from kubernetes.client import V1ObjectMeta\n",
       "from kubeflow.katib import V1beta1Experiment\n",
       "from kubeflow.katib import V1beta1AlgorithmSpec\n",
       "from kubeflow.katib import V1beta1ObjectiveSpec\n",
       "from kubeflow.katib import V1beta1FeasibleSpace\n",
       "from kubeflow.katib import V1beta1ExperimentSpec\n",
       "from kubeflow.katib import V1beta1ObjectiveSpec\n",
       "from kubeflow.katib import V1beta1ParameterSpec\n",
       "from kubeflow.katib import V1beta1TrialTemplate\n",
       "from kubeflow.katib import V1beta1TrialParameterSpec"
      ]
     },
     {
      "cell_type": "markdown",
      "metadata": {},
      "source": [
       "## Define your Experiment\n",
       "\n",
       "You have to create your Experiment object before deploying it. This Experiment is similar to [this](https://github.com/kubeflow/katib/blob/master/examples/v1beta1/hp-tuning/cmaes.yaml) example."
      ]
     },
     {
      "cell_type": "code",
      "execution_count": 3,
      "metadata": {},
      "outputs": [],
      "source": [
       "# Experiment name and namespace.\n",
       "namespace = \"kubeflow-user-example-com\"\n",
       "experiment_name = \"cmaes-example\"\n",
       "\n",
       "metadata = V1ObjectMeta(\n",
       "    name=experiment_name,\n",
       "    namespace=namespace\n",
       ")\n",
       "\n",
       "# Algorithm specification.\n",
       "algorithm_spec=V1beta1AlgorithmSpec(\n",
       "    algorithm_name=\"cmaes\"\n",
       ")\n",
       "\n",
       "# Objective specification.\n",
       "objective_spec=V1beta1ObjectiveSpec(\n",
       "    type=\"maximize\",\n",
       "    goal= 0.99,\n",
       "    objective_metric_name=\"Validation-accuracy\",\n",
       "    additional_metric_names=[\"Train-accuracy\"]\n",
       ")\n",
       "\n",
       "# Experiment search space. In this example we tune learning rate, number of layer and optimizer.\n",
       "parameters=[\n",
       "    V1beta1ParameterSpec(\n",
       "        name=\"lr\",\n",
       "        parameter_type=\"double\",\n",
       "        feasible_space=V1beta1FeasibleSpace(\n",
       "            min=\"0.01\",\n",
       "            max=\"0.06\"\n",
       "        ),\n",
       "    ),\n",
       "    V1beta1ParameterSpec(\n",
       "        name=\"num-layers\",\n",
       "        parameter_type=\"int\",\n",
       "        feasible_space=V1beta1FeasibleSpace(\n",
       "            min=\"2\",\n",
       "            max=\"5\"\n",
       "        ),\n",
       "    ),\n",
       "    V1beta1ParameterSpec(\n",
       "        name=\"optimizer\",\n",
       "        parameter_type=\"categorical\",\n",
       "        feasible_space=V1beta1FeasibleSpace(\n",
       "            list=[\"sgd\", \"adam\", \"ftrl\"]\n",
       "        ),\n",
       "    ),\n",
       "]\n",
       "\n",
       "\n",
       "\n",
       "# JSON template specification for the Trial's Worker Kubernetes Job.\n",
       "trial_spec={\n",
       "    \"apiVersion\": \"batch/v1\",\n",
       "    \"kind\": \"Job\",\n",
       "    \"spec\": {\n",
       "        \"template\": {\n",
       "            \"metadata\": {\n",
       "                \"annotations\": {\n",
       "                    \"sidecar.istio.io/inject\": \"false\"\n",
       "                }\n",
       "            },\n",
       "            \"spec\": {\n",
       "                \"containers\": [\n",
       "                    {\n",
       "                        \"name\": \"training-container\",\n",
       "                        \"image\": \"docker.io/kubeflowkatib/mxnet-mnist:v0.12.0\",\n",
       "                        \"command\": [\n",
       "                            \"python3\",\n",
       "                            \"/opt/mxnet-mnist/mnist.py\",\n",
       "                            \"--batch-size=64\",\n",
       "                            \"--lr=${trialParameters.learningRate}\",\n",
       "                            \"--num-layers=${trialParameters.numberLayers}\",\n",
       "                            \"--optimizer=${trialParameters.optimizer}\"\n",
       "                        ]\n",
       "                    }\n",
       "                ],\n",
       "                \"restartPolicy\": \"Never\"\n",
       "            }\n",
       "        }\n",
       "    }\n",
       "}\n",
       "\n",
       "# Configure parameters for the Trial template.\n",
       "trial_template=V1beta1TrialTemplate(\n",
       "    primary_container_name=\"training-container\",\n",
       "    trial_parameters=[\n",
       "        V1beta1TrialParameterSpec(\n",
       "            name=\"learningRate\",\n",
       "            description=\"Learning rate for the training model\",\n",
       "            reference=\"lr\"\n",
       "        ),\n",
       "        V1beta1TrialParameterSpec(\n",
       "            name=\"numberLayers\",\n",
       "            description=\"Number of training model layers\",\n",
       "            reference=\"num-layers\"\n",
       "        ),\n",
       "        V1beta1TrialParameterSpec(\n",
       "            name=\"optimizer\",\n",
       "            description=\"Training model optimizer (sdg, adam or ftrl)\",\n",
       "            reference=\"optimizer\"\n",
       "        ),\n",
       "    ],\n",
       "    trial_spec=trial_spec\n",
       ")\n",
       "\n",
       "\n",
       "# Experiment object.\n",
       "experiment = V1beta1Experiment(\n",
       "    api_version=\"kubeflow.org/v1beta1\",\n",
       "    kind=\"Experiment\",\n",
       "    metadata=metadata,\n",
       "    spec=V1beta1ExperimentSpec(\n",
       "        max_trial_count=7,\n",
       "        parallel_trial_count=3,\n",
       "        max_failed_trial_count=3,\n",
       "        algorithm=algorithm_spec,\n",
       "        objective=objective_spec,\n",
       "        parameters=parameters,\n",
       "        trial_template=trial_template,\n",
       "    )\n",
       ")"
      ]
     },
     {
      "cell_type": "markdown",
      "metadata": {},
      "source": [
       "## Define Experiments with resume policy\n",
       "\n",
       "We will define another 2 Experiments with ResumePolicy = Never and ResumePolicy = FromVolume.\n",
       "\n",
       "Experiment with _Never_ resume policy can't be resumed, the Suggestion resources will be deleted.\n",
       "\n",
       "Experiment with _FromVolume_ resume policy can be resumed, volume is attached to the Suggestion. Suggestion's PVC be created for the Suggestion."
      ]
     },
     {
      "cell_type": "code",
      "execution_count": 4,
      "metadata": {},
      "outputs": [],
      "source": [
       "experiment_never_resume_name = \"never-resume-cmaes\"\n",
       "experiment_from_volume_resume_name = \"from-volume-resume-cmaes\"\n",
       "\n",
       "# Create new Experiments from the previous Experiment info.\n",
       "# Define Experiment with never resume.\n",
       "experiment_never_resume = copy.deepcopy(experiment)\n",
       "experiment_never_resume.metadata.name = experiment_never_resume_name\n",
       "experiment_never_resume.spec.resume_policy = \"Never\"\n",
       "experiment_never_resume.spec.max_trial_count = 4\n",
       "\n",
       "# Define Experiment with from volume resume.\n",
       "experiment_from_volume_resume = copy.deepcopy(experiment)\n",
       "experiment_from_volume_resume.metadata.name = experiment_from_volume_resume_name\n",
       "experiment_from_volume_resume.spec.resume_policy = \"FromVolume\"\n",
       "experiment_from_volume_resume.spec.max_trial_count = 4"
      ]
     },
     {
      "cell_type": "markdown",
      "metadata": {},
      "source": [
       "You can print the Experiment's info to verify it before submission."
      ]
     },
     {
      "cell_type": "code",
      "execution_count": 5,
      "metadata": {
       "scrolled": true
      },
      "outputs": [
       {
        "name": "stdout",
        "output_type": "stream",
        "text": [
         "cmaes-example\n",
         "cmaes\n",
         "-----------------\n",
         "never-resume-cmaes\n",
         "Never\n",
         "-----------------\n",
         "from-volume-resume-cmaes\n",
         "FromVolume\n"
        ]
       }
      ],
      "source": [
       "print(experiment.metadata.name)\n",
       "print(experiment.spec.algorithm.algorithm_name)\n",
       "print(\"-----------------\")\n",
       "print(experiment_never_resume.metadata.name)\n",
       "print(experiment_never_resume.spec.resume_policy)\n",
       "print(\"-----------------\")\n",
       "print(experiment_from_volume_resume.metadata.name)\n",
       "print(experiment_from_volume_resume.spec.resume_policy)\n"
      ]
     },
     {
      "cell_type": "markdown",
      "metadata": {},
      "source": [
       "## Create your Experiment\n",
       "\n",
       "You have to create Katib client to use the SDK."
      ]
     },
     {
      "cell_type": "code",
      "execution_count": 6,
      "metadata": {},
      "outputs": [
       {
        "data": {
         "text/html": [
          "Katib Experiment cmaes-example link <a href=\"/_/katib/#/katib/hp_monitor/kubeflow-user-example-com/cmaes-example\" target=\"_blank\">here</a>"
         ],
         "text/plain": [
          "<IPython.core.display.HTML object>"
         ]
        },
        "metadata": {},
        "output_type": "display_data"
       },
       {
        "data": {
         "text/plain": [
          "{'apiVersion': 'kubeflow.org/v1beta1',\n",
          " 'kind': 'Experiment',\n",
          " 'metadata': {'creationTimestamp': '2021-10-05T23:40:19Z',\n",
          "  'generation': 1,\n",
          "  'managedFields': [{'apiVersion': 'kubeflow.org/v1beta1',\n",
          "    'fieldsType': 'FieldsV1',\n",
          "    'fieldsV1': {'f:spec': {'.': {},\n",
          "      'f:algorithm': {'.': {}, 'f:algorithmName': {}},\n",
          "      'f:maxFailedTrialCount': {},\n",
          "      'f:maxTrialCount': {},\n",
          "      'f:objective': {'.': {},\n",
          "       'f:additionalMetricNames': {},\n",
          "       'f:goal': {},\n",
          "       'f:objectiveMetricName': {},\n",
          "       'f:type': {}},\n",
          "      'f:parallelTrialCount': {},\n",
          "      'f:parameters': {},\n",
          "      'f:trialTemplate': {'.': {},\n",
          "       'f:primaryContainerName': {},\n",
          "       'f:trialParameters': {},\n",
          "       'f:trialSpec': {'.': {},\n",
          "        'f:apiVersion': {},\n",
          "        'f:kind': {},\n",
          "        'f:spec': {'.': {},\n",
          "         'f:template': {'.': {},\n",
          "          'f:metadata': {'.': {},\n",
          "           'f:annotations': {'.': {}, 'f:sidecar.istio.io/inject': {}}},\n",
          "          'f:spec': {'.': {}, 'f:containers': {}, 'f:restartPolicy': {}}}}}}}},\n",
          "    'manager': 'OpenAPI-Generator',\n",
          "    'operation': 'Update',\n",
          "    'time': '2021-10-05T23:40:19Z'}],\n",
          "  'name': 'cmaes-example',\n",
          "  'namespace': 'kubeflow-user-example-com',\n",
          "  'resourceVersion': '393930965',\n",
          "  'uid': 'ccf6bb73-6768-4e6e-9a23-742d0953ecf1'},\n",
          " 'spec': {'algorithm': {'algorithmName': 'cmaes'},\n",
          "  'maxFailedTrialCount': 3,\n",
          "  'maxTrialCount': 7,\n",
          "  'metricsCollectorSpec': {'collector': {'kind': 'StdOut'}},\n",
          "  'objective': {'additionalMetricNames': ['Train-accuracy'],\n",
          "   'goal': 0.99,\n",
          "   'metricStrategies': [{'name': 'Validation-accuracy', 'value': 'max'},\n",
          "    {'name': 'Train-accuracy', 'value': 'max'}],\n",
          "   'objectiveMetricName': 'Validation-accuracy',\n",
          "   'type': 'maximize'},\n",
          "  'parallelTrialCount': 3,\n",
          "  'parameters': [{'feasibleSpace': {'max': '0.06', 'min': '0.01'},\n",
          "    'name': 'lr',\n",
          "    'parameterType': 'double'},\n",
          "   {'feasibleSpace': {'max': '5', 'min': '2'},\n",
          "    'name': 'num-layers',\n",
          "    'parameterType': 'int'},\n",
          "   {'feasibleSpace': {'list': ['sgd', 'adam', 'ftrl']},\n",
          "    'name': 'optimizer',\n",
          "    'parameterType': 'categorical'}],\n",
          "  'resumePolicy': 'LongRunning',\n",
          "  'trialTemplate': {'failureCondition': 'status.conditions.#(type==\"Failed\")#|#(status==\"True\")#',\n",
          "   'primaryContainerName': 'training-container',\n",
          "   'successCondition': 'status.conditions.#(type==\"Complete\")#|#(status==\"True\")#',\n",
          "   'trialParameters': [{'description': 'Learning rate for the training model',\n",
          "     'name': 'learningRate',\n",
          "     'reference': 'lr'},\n",
          "    {'description': 'Number of training model layers',\n",
          "     'name': 'numberLayers',\n",
          "     'reference': 'num-layers'},\n",
          "    {'description': 'Training model optimizer (sdg, adam or ftrl)',\n",
          "     'name': 'optimizer',\n",
          "     'reference': 'optimizer'}],\n",
          "   'trialSpec': {'apiVersion': 'batch/v1',\n",
          "    'kind': 'Job',\n",
          "    'spec': {'template': {'metadata': {'annotations': {'sidecar.istio.io/inject': 'false'}},\n",
          "      'spec': {'containers': [{'command': ['python3',\n",
          "          '/opt/mxnet-mnist/mnist.py',\n",
          "          '--batch-size=64',\n",
          "          '--lr=${trialParameters.learningRate}',\n",
          "          '--num-layers=${trialParameters.numberLayers}',\n",
          "          '--optimizer=${trialParameters.optimizer}'],\n",
          "         'image': 'docker.io/kubeflowkatib/mxnet-mnist:v0.12.0',\n",
          "         'name': 'training-container'}],\n",
          "       'restartPolicy': 'Never'}}}}}}}"
         ]
        },
        "execution_count": 6,
        "metadata": {},
        "output_type": "execute_result"
       }
      ],
      "source": [
       "# Create client.\n",
       "kclient = KatibClient()\n",
       "\n",
       "# Create your Experiment.\n",
       "kclient.create_experiment(experiment,namespace=namespace)"
      ]
     },
     {
      "cell_type": "markdown",
      "metadata": {},
      "source": [
       "Create other Experiments."
      ]
     },
     {
      "cell_type": "code",
      "execution_count": 7,
      "metadata": {},
      "outputs": [
       {
        "data": {
         "text/html": [
          "Katib Experiment never-resume-cmaes link <a href=\"/_/katib/#/katib/hp_monitor/kubeflow-user-example-com/never-resume-cmaes\" target=\"_blank\">here</a>"
         ],
         "text/plain": [
          "<IPython.core.display.HTML object>"
         ]
        },
        "metadata": {},
        "output_type": "display_data"
       },
       {
        "data": {
         "text/html": [
          "Katib Experiment from-volume-resume-cmaes link <a href=\"/_/katib/#/katib/hp_monitor/kubeflow-user-example-com/from-volume-resume-cmaes\" target=\"_blank\">here</a>"
         ],
         "text/plain": [
          "<IPython.core.display.HTML object>"
         ]
        },
        "metadata": {},
        "output_type": "display_data"
       },
       {
        "data": {
         "text/plain": [
          "{'apiVersion': 'kubeflow.org/v1beta1',\n",
          " 'kind': 'Experiment',\n",
          " 'metadata': {'creationTimestamp': '2021-10-05T23:40:34Z',\n",
          "  'generation': 1,\n",
          "  'managedFields': [{'apiVersion': 'kubeflow.org/v1beta1',\n",
          "    'fieldsType': 'FieldsV1',\n",
          "    'fieldsV1': {'f:spec': {'.': {},\n",
          "      'f:algorithm': {'.': {}, 'f:algorithmName': {}},\n",
          "      'f:maxFailedTrialCount': {},\n",
          "      'f:maxTrialCount': {},\n",
          "      'f:objective': {'.': {},\n",
          "       'f:additionalMetricNames': {},\n",
          "       'f:goal': {},\n",
          "       'f:objectiveMetricName': {},\n",
          "       'f:type': {}},\n",
          "      'f:parallelTrialCount': {},\n",
          "      'f:parameters': {},\n",
          "      'f:resumePolicy': {},\n",
          "      'f:trialTemplate': {'.': {},\n",
          "       'f:primaryContainerName': {},\n",
          "       'f:trialParameters': {},\n",
          "       'f:trialSpec': {'.': {},\n",
          "        'f:apiVersion': {},\n",
          "        'f:kind': {},\n",
          "        'f:spec': {'.': {},\n",
          "         'f:template': {'.': {},\n",
          "          'f:metadata': {'.': {},\n",
          "           'f:annotations': {'.': {}, 'f:sidecar.istio.io/inject': {}}},\n",
          "          'f:spec': {'.': {}, 'f:containers': {}, 'f:restartPolicy': {}}}}}}}},\n",
          "    'manager': 'OpenAPI-Generator',\n",
          "    'operation': 'Update',\n",
          "    'time': '2021-10-05T23:40:34Z'}],\n",
          "  'name': 'from-volume-resume-cmaes',\n",
          "  'namespace': 'kubeflow-user-example-com',\n",
          "  'resourceVersion': '393931453',\n",
          "  'uid': '028034f1-3b42-4a1e-9f2c-cf24e845e4e0'},\n",
          " 'spec': {'algorithm': {'algorithmName': 'cmaes'},\n",
          "  'maxFailedTrialCount': 3,\n",
          "  'maxTrialCount': 4,\n",
          "  'metricsCollectorSpec': {'collector': {'kind': 'StdOut'}},\n",
          "  'objective': {'additionalMetricNames': ['Train-accuracy'],\n",
          "   'goal': 0.99,\n",
          "   'metricStrategies': [{'name': 'Validation-accuracy', 'value': 'max'},\n",
          "    {'name': 'Train-accuracy', 'value': 'max'}],\n",
          "   'objectiveMetricName': 'Validation-accuracy',\n",
          "   'type': 'maximize'},\n",
          "  'parallelTrialCount': 3,\n",
          "  'parameters': [{'feasibleSpace': {'max': '0.06', 'min': '0.01'},\n",
          "    'name': 'lr',\n",
          "    'parameterType': 'double'},\n",
          "   {'feasibleSpace': {'max': '5', 'min': '2'},\n",
          "    'name': 'num-layers',\n",
          "    'parameterType': 'int'},\n",
          "   {'feasibleSpace': {'list': ['sgd', 'adam', 'ftrl']},\n",
          "    'name': 'optimizer',\n",
          "    'parameterType': 'categorical'}],\n",
          "  'resumePolicy': 'FromVolume',\n",
          "  'trialTemplate': {'failureCondition': 'status.conditions.#(type==\"Failed\")#|#(status==\"True\")#',\n",
          "   'primaryContainerName': 'training-container',\n",
          "   'successCondition': 'status.conditions.#(type==\"Complete\")#|#(status==\"True\")#',\n",
          "   'trialParameters': [{'description': 'Learning rate for the training model',\n",
          "     'name': 'learningRate',\n",
          "     'reference': 'lr'},\n",
          "    {'description': 'Number of training model layers',\n",
          "     'name': 'numberLayers',\n",
          "     'reference': 'num-layers'},\n",
          "    {'description': 'Training model optimizer (sdg, adam or ftrl)',\n",
          "     'name': 'optimizer',\n",
          "     'reference': 'optimizer'}],\n",
          "   'trialSpec': {'apiVersion': 'batch/v1',\n",
          "    'kind': 'Job',\n",
          "    'spec': {'template': {'metadata': {'annotations': {'sidecar.istio.io/inject': 'false'}},\n",
          "      'spec': {'containers': [{'command': ['python3',\n",
          "          '/opt/mxnet-mnist/mnist.py',\n",
          "          '--batch-size=64',\n",
          "          '--lr=${trialParameters.learningRate}',\n",
          "          '--num-layers=${trialParameters.numberLayers}',\n",
          "          '--optimizer=${trialParameters.optimizer}'],\n",
          "         'image': 'docker.io/kubeflowkatib/mxnet-mnist:v0.12.0',\n",
          "         'name': 'training-container'}],\n",
          "       'restartPolicy': 'Never'}}}}}}}"
         ]
        },
        "execution_count": 7,
        "metadata": {},
        "output_type": "execute_result"
       }
      ],
      "source": [
       "# Create Experiment with never resume.\n",
       "kclient.create_experiment(experiment_never_resume,namespace=namespace)\n",
       "# Create Experiment with from volume resume.\n",
       "kclient.create_experiment(experiment_from_volume_resume,namespace=namespace)"
      ]
     },
     {
      "cell_type": "markdown",
      "metadata": {},
      "source": [
       "## Get your Experiment\n",
       "\n",
       "You can get your Experiment by name and receive required data."
      ]
     },
     {
      "cell_type": "code",
      "execution_count": 8,
      "metadata": {
       "scrolled": true
      },
      "outputs": [
       {
        "name": "stdout",
        "output_type": "stream",
        "text": [
         "{'apiVersion': 'kubeflow.org/v1beta1', 'kind': 'Experiment', 'metadata': {'creationTimestamp': '2021-10-05T23:40:19Z', 'finalizers': ['update-prometheus-metrics'], 'generation': 1, 'managedFields': [{'apiVersion': 'kubeflow.org/v1beta1', 'fieldsType': 'FieldsV1', 'fieldsV1': {'f:spec': {'.': {}, 'f:algorithm': {'.': {}, 'f:algorithmName': {}}, 'f:maxFailedTrialCount': {}, 'f:maxTrialCount': {}, 'f:objective': {'.': {}, 'f:additionalMetricNames': {}, 'f:goal': {}, 'f:objectiveMetricName': {}, 'f:type': {}}, 'f:parallelTrialCount': {}, 'f:parameters': {}, 'f:trialTemplate': {'.': {}, 'f:primaryContainerName': {}, 'f:trialParameters': {}, 'f:trialSpec': {'.': {}, 'f:apiVersion': {}, 'f:kind': {}, 'f:spec': {'.': {}, 'f:template': {'.': {}, 'f:metadata': {'.': {}, 'f:annotations': {'.': {}, 'f:sidecar.istio.io/inject': {}}}, 'f:spec': {'.': {}, 'f:containers': {}, 'f:restartPolicy': {}}}}}}}}, 'manager': 'OpenAPI-Generator', 'operation': 'Update', 'time': '2021-10-05T23:40:19Z'}, {'apiVersion': 'kubeflow.org/v1beta1', 'fieldsType': 'FieldsV1', 'fieldsV1': {'f:metadata': {'f:finalizers': {'.': {}, 'v:\"update-prometheus-metrics\"': {}}}, 'f:status': {'.': {}, 'f:conditions': {}, 'f:currentOptimalTrial': {'.': {}, 'f:bestTrialName': {}, 'f:observation': {'.': {}, 'f:metrics': {}}, 'f:parameterAssignments': {}}, 'f:runningTrialList': {}, 'f:startTime': {}, 'f:trials': {}, 'f:trialsRunning': {}}}, 'manager': 'katib-controller', 'operation': 'Update', 'time': '2021-10-05T23:40:54Z'}], 'name': 'cmaes-example', 'namespace': 'kubeflow-user-example-com', 'resourceVersion': '393932086', 'uid': 'ccf6bb73-6768-4e6e-9a23-742d0953ecf1'}, 'spec': {'algorithm': {'algorithmName': 'cmaes'}, 'maxFailedTrialCount': 3, 'maxTrialCount': 7, 'metricsCollectorSpec': {'collector': {'kind': 'StdOut'}}, 'objective': {'additionalMetricNames': ['Train-accuracy'], 'goal': 0.99, 'metricStrategies': [{'name': 'Validation-accuracy', 'value': 'max'}, {'name': 'Train-accuracy', 'value': 'max'}], 'objectiveMetricName': 'Validation-accuracy', 'type': 'maximize'}, 'parallelTrialCount': 3, 'parameters': [{'feasibleSpace': {'max': '0.06', 'min': '0.01'}, 'name': 'lr', 'parameterType': 'double'}, {'feasibleSpace': {'max': '5', 'min': '2'}, 'name': 'num-layers', 'parameterType': 'int'}, {'feasibleSpace': {'list': ['sgd', 'adam', 'ftrl']}, 'name': 'optimizer', 'parameterType': 'categorical'}], 'resumePolicy': 'LongRunning', 'trialTemplate': {'failureCondition': 'status.conditions.#(type==\"Failed\")#|#(status==\"True\")#', 'primaryContainerName': 'training-container', 'successCondition': 'status.conditions.#(type==\"Complete\")#|#(status==\"True\")#', 'trialParameters': [{'description': 'Learning rate for the training model', 'name': 'learningRate', 'reference': 'lr'}, {'description': 'Number of training model layers', 'name': 'numberLayers', 'reference': 'num-layers'}, {'description': 'Training model optimizer (sdg, adam or ftrl)', 'name': 'optimizer', 'reference': 'optimizer'}], 'trialSpec': {'apiVersion': 'batch/v1', 'kind': 'Job', 'spec': {'template': {'metadata': {'annotations': {'sidecar.istio.io/inject': 'false'}}, 'spec': {'containers': [{'command': ['python3', '/opt/mxnet-mnist/mnist.py', '--batch-size=64', '--lr=${trialParameters.learningRate}', '--num-layers=${trialParameters.numberLayers}', '--optimizer=${trialParameters.optimizer}'], 'image': 'docker.io/kubeflowkatib/mxnet-mnist:v0.12.0', 'name': 'training-container'}], 'restartPolicy': 'Never'}}}}}}, 'status': {'conditions': [{'lastTransitionTime': '2021-10-05T23:40:19Z', 'lastUpdateTime': '2021-10-05T23:40:19Z', 'message': 'Experiment is created', 'reason': 'ExperimentCreated', 'status': 'True', 'type': 'Created'}, {'lastTransitionTime': '2021-10-05T23:40:54Z', 'lastUpdateTime': '2021-10-05T23:40:54Z', 'message': 'Experiment is running', 'reason': 'ExperimentRunning', 'status': 'True', 'type': 'Running'}], 'currentOptimalTrial': {'bestTrialName': '', 'observation': {'metrics': None}, 'parameterAssignments': None}, 'runningTrialList': ['cmaes-example-xn6txwtw', 'cmaes-example-8crn89vg', 'cmaes-example-4q8hmt9r'], 'startTime': '2021-10-05T23:40:19Z', 'trials': 3, 'trialsRunning': 3}}\n",
         "-----------------\n",
         "\n",
         "7\n",
         "{'lastTransitionTime': '2021-10-05T23:40:54Z', 'lastUpdateTime': '2021-10-05T23:40:54Z', 'message': 'Experiment is running', 'reason': 'ExperimentRunning', 'status': 'True', 'type': 'Running'}\n"
        ]
       }
      ],
      "source": [
       "exp = kclient.get_experiment(name=experiment_name, namespace=namespace)\n",
       "print(exp)\n",
       "print(\"-----------------\\n\")\n",
       "\n",
       "# Get the max trial count and latest status.\n",
       "print(exp[\"spec\"][\"maxTrialCount\"])\n",
       "print(exp[\"status\"][\"conditions\"][-1])"
      ]
     },
     {
      "cell_type": "markdown",
      "metadata": {},
      "source": [
       "## Get all Experiments\n",
       "\n",
       "You can get list of the current Experiments."
      ]
     },
     {
      "cell_type": "code",
      "execution_count": 9,
      "metadata": {},
      "outputs": [
       {
        "name": "stdout",
        "output_type": "stream",
        "text": [
         "cmaes-example\n",
         "from-volume-resume-cmaes\n",
         "never-resume-cmaes\n"
        ]
       }
      ],
      "source": [
       "# Get names from the running Experiments.\n",
       "exp_list = kclient.get_experiment(namespace=namespace)\n",
       "\n",
       "for exp in exp_list[\"items\"]:\n",
       "    print(exp[\"metadata\"][\"name\"])"
      ]
     },
     {
      "cell_type": "markdown",
      "metadata": {},
      "source": [
       "## Get the current Experiment status\n",
       "\n",
       "You can check the current Experiment status."
      ]
     },
     {
      "cell_type": "code",
      "execution_count": 10,
      "metadata": {},
      "outputs": [
       {
        "data": {
         "text/plain": [
          "'Running'"
         ]
        },
        "execution_count": 10,
        "metadata": {},
        "output_type": "execute_result"
       }
      ],
      "source": [
       "kclient.get_experiment_status(name=experiment_name, namespace=namespace)"
      ]
     },
     {
      "cell_type": "markdown",
      "metadata": {},
      "source": [
       "You can check if your Experiment is succeeded."
      ]
     },
     {
      "cell_type": "code",
      "execution_count": 11,
      "metadata": {
       "scrolled": true
      },
      "outputs": [
       {
        "data": {
         "text/plain": [
          "False"
         ]
        },
        "execution_count": 11,
        "metadata": {},
        "output_type": "execute_result"
       }
      ],
      "source": [
       "kclient.is_experiment_succeeded(name=experiment_name, namespace=namespace)"
      ]
     },
     {
      "cell_type": "markdown",
      "metadata": {},
      "source": [
       "## List of the current Trials\n",
       "\n",
       "You can get list of the current trials with the latest status."
      ]
     },
     {
      "cell_type": "code",
      "execution_count": 12,
      "metadata": {
       "scrolled": true
      },
      "outputs": [
       {
        "data": {
         "text/plain": [
          "[{'name': 'cmaes-example-4q8hmt9r', 'status': 'Succeeded'},\n",
          " {'name': 'cmaes-example-8crn89vg', 'status': 'Succeeded'},\n",
          " {'name': 'cmaes-example-8m84klwm', 'status': 'Running'},\n",
          " {'name': 'cmaes-example-gd9k79lg', 'status': 'Running'},\n",
          " {'name': 'cmaes-example-jsh9pljq', 'status': 'Running'},\n",
          " {'name': 'cmaes-example-xn6txwtw', 'status': 'Succeeded'}]"
         ]
        },
        "execution_count": 12,
        "metadata": {},
        "output_type": "execute_result"
       }
      ],
      "source": [
       "# Trial list.\n",
       "kclient.list_trials(name=experiment_name, namespace=namespace)"
      ]
     },
     {
      "cell_type": "markdown",
      "metadata": {},
      "source": [
       "## Get the optimal HyperParameters\n",
       "\n",
       "You can get the current optimal Trial from your Experiment. For the each metric you can see the max, min and latest value."
      ]
     },
     {
      "cell_type": "code",
      "execution_count": 13,
      "metadata": {},
      "outputs": [
       {
        "data": {
         "text/plain": [
          "{'currentOptimalTrial': {'bestTrialName': 'cmaes-example-8crn89vg',\n",
          "  'observation': {'metrics': [{'latest': '0.991588',\n",
          "     'max': '0.991588',\n",
          "     'min': '0.925057',\n",
          "     'name': 'Train-accuracy'},\n",
          "    {'latest': '0.978205',\n",
          "     'max': '0.980096',\n",
          "     'min': '0.954817',\n",
          "     'name': 'Validation-accuracy'}]},\n",
          "  'parameterAssignments': [{'name': 'lr', 'value': '0.04511033252270099'},\n",
          "   {'name': 'num-layers', 'value': '3'},\n",
          "   {'name': 'optimizer', 'value': 'sgd'}]}}"
         ]
        },
        "execution_count": 13,
        "metadata": {},
        "output_type": "execute_result"
       }
      ],
      "source": [
       "# Optimal HPs.\n",
       "kclient.get_optimal_hyperparameters(name=experiment_name, namespace=namespace)"
      ]
     },
     {
      "cell_type": "markdown",
      "metadata": {},
      "source": [
       "## Status for the Suggestion objects\n",
       "\n",
       "You can check the Suggestion object status for more information about resume status.\n",
       "\n",
       "For Experiment with FromVolume you should be able to check created PVC."
      ]
     },
     {
      "cell_type": "code",
      "execution_count": 14,
      "metadata": {},
      "outputs": [
       {
        "name": "stdout",
        "output_type": "stream",
        "text": [
         "Suggestion is succeeded, can't be restarted\n",
         "-----------------\n",
         "Suggestion is succeeded, suggestion volume is not deleted, can be restarted\n"
        ]
       }
      ],
      "source": [
       "# Get the current Suggestion status for the never resume Experiment.\n",
       "suggestion = kclient.get_suggestion(name=experiment_never_resume_name, namespace=namespace)\n",
       "\n",
       "print(suggestion[\"status\"][\"conditions\"][-1][\"message\"])\n",
       "print(\"-----------------\")\n",
       "\n",
       "# Get the current Suggestion status for the from volume Experiment.\n",
       "suggestion = kclient.get_suggestion(name=experiment_from_volume_resume_name, namespace=namespace)\n",
       "\n",
       "print(suggestion[\"status\"][\"conditions\"][-1][\"message\"])"
      ]
     },
     {
      "cell_type": "markdown",
      "metadata": {},
      "source": [
       "## Delete your Experiments\n",
       "\n",
       "You can delete your Experiments."
      ]
     },
     {
      "cell_type": "code",
      "execution_count": 15,
      "metadata": {},
      "outputs": [
       {
        "data": {
         "text/plain": [
          "{'apiVersion': 'kubeflow.org/v1beta1',\n",
          " 'kind': 'Experiment',\n",
          " 'metadata': {'creationTimestamp': '2021-10-05T23:40:34Z',\n",
          "  'deletionGracePeriodSeconds': 0,\n",
          "  'deletionTimestamp': '2021-10-05T23:48:36Z',\n",
          "  'finalizers': ['update-prometheus-metrics'],\n",
          "  'generation': 2,\n",
          "  'managedFields': [{'apiVersion': 'kubeflow.org/v1beta1',\n",
          "    'fieldsType': 'FieldsV1',\n",
          "    'fieldsV1': {'f:spec': {'.': {},\n",
          "      'f:algorithm': {'.': {}, 'f:algorithmName': {}},\n",
          "      'f:maxFailedTrialCount': {},\n",
          "      'f:maxTrialCount': {},\n",
          "      'f:objective': {'.': {},\n",
          "       'f:additionalMetricNames': {},\n",
          "       'f:goal': {},\n",
          "       'f:objectiveMetricName': {},\n",
          "       'f:type': {}},\n",
          "      'f:parallelTrialCount': {},\n",
          "      'f:parameters': {},\n",
          "      'f:resumePolicy': {},\n",
          "      'f:trialTemplate': {'.': {},\n",
          "       'f:primaryContainerName': {},\n",
          "       'f:trialParameters': {},\n",
          "       'f:trialSpec': {'.': {},\n",
          "        'f:apiVersion': {},\n",
          "        'f:kind': {},\n",
          "        'f:spec': {'.': {},\n",
          "         'f:template': {'.': {},\n",
          "          'f:metadata': {'.': {},\n",
          "           'f:annotations': {'.': {}, 'f:sidecar.istio.io/inject': {}}},\n",
          "          'f:spec': {'.': {}, 'f:containers': {}, 'f:restartPolicy': {}}}}}}}},\n",
          "    'manager': 'OpenAPI-Generator',\n",
          "    'operation': 'Update',\n",
          "    'time': '2021-10-05T23:40:34Z'},\n",
          "   {'apiVersion': 'kubeflow.org/v1beta1',\n",
          "    'fieldsType': 'FieldsV1',\n",
          "    'fieldsV1': {'f:metadata': {'f:finalizers': {'.': {},\n",
          "       'v:\"update-prometheus-metrics\"': {}}},\n",
          "     'f:status': {'.': {},\n",
          "      'f:completionTime': {},\n",
          "      'f:conditions': {},\n",
          "      'f:currentOptimalTrial': {'.': {},\n",
          "       'f:bestTrialName': {},\n",
          "       'f:observation': {'.': {}, 'f:metrics': {}},\n",
          "       'f:parameterAssignments': {}},\n",
          "      'f:startTime': {},\n",
          "      'f:succeededTrialList': {},\n",
          "      'f:trials': {},\n",
          "      'f:trialsSucceeded': {}}},\n",
          "    'manager': 'katib-controller',\n",
          "    'operation': 'Update',\n",
          "    'time': '2021-10-05T23:44:26Z'}],\n",
          "  'name': 'from-volume-resume-cmaes',\n",
          "  'namespace': 'kubeflow-user-example-com',\n",
          "  'resourceVersion': '393945413',\n",
          "  'uid': '028034f1-3b42-4a1e-9f2c-cf24e845e4e0'},\n",
          " 'spec': {'algorithm': {'algorithmName': 'cmaes'},\n",
          "  'maxFailedTrialCount': 3,\n",
          "  'maxTrialCount': 4,\n",
          "  'metricsCollectorSpec': {'collector': {'kind': 'StdOut'}},\n",
          "  'objective': {'additionalMetricNames': ['Train-accuracy'],\n",
          "   'goal': 0.99,\n",
          "   'metricStrategies': [{'name': 'Validation-accuracy', 'value': 'max'},\n",
          "    {'name': 'Train-accuracy', 'value': 'max'}],\n",
          "   'objectiveMetricName': 'Validation-accuracy',\n",
          "   'type': 'maximize'},\n",
          "  'parallelTrialCount': 3,\n",
          "  'parameters': [{'feasibleSpace': {'max': '0.06', 'min': '0.01'},\n",
          "    'name': 'lr',\n",
          "    'parameterType': 'double'},\n",
          "   {'feasibleSpace': {'max': '5', 'min': '2'},\n",
          "    'name': 'num-layers',\n",
          "    'parameterType': 'int'},\n",
          "   {'feasibleSpace': {'list': ['sgd', 'adam', 'ftrl']},\n",
          "    'name': 'optimizer',\n",
          "    'parameterType': 'categorical'}],\n",
          "  'resumePolicy': 'FromVolume',\n",
          "  'trialTemplate': {'failureCondition': 'status.conditions.#(type==\"Failed\")#|#(status==\"True\")#',\n",
          "   'primaryContainerName': 'training-container',\n",
          "   'successCondition': 'status.conditions.#(type==\"Complete\")#|#(status==\"True\")#',\n",
          "   'trialParameters': [{'description': 'Learning rate for the training model',\n",
          "     'name': 'learningRate',\n",
          "     'reference': 'lr'},\n",
          "    {'description': 'Number of training model layers',\n",
          "     'name': 'numberLayers',\n",
          "     'reference': 'num-layers'},\n",
          "    {'description': 'Training model optimizer (sdg, adam or ftrl)',\n",
          "     'name': 'optimizer',\n",
          "     'reference': 'optimizer'}],\n",
          "   'trialSpec': {'apiVersion': 'batch/v1',\n",
          "    'kind': 'Job',\n",
          "    'spec': {'template': {'metadata': {'annotations': {'sidecar.istio.io/inject': 'false'}},\n",
          "      'spec': {'containers': [{'command': ['python3',\n",
          "          '/opt/mxnet-mnist/mnist.py',\n",
          "          '--batch-size=64',\n",
          "          '--lr=${trialParameters.learningRate}',\n",
          "          '--num-layers=${trialParameters.numberLayers}',\n",
          "          '--optimizer=${trialParameters.optimizer}'],\n",
          "         'image': 'docker.io/kubeflowkatib/mxnet-mnist:v0.12.0',\n",
          "         'name': 'training-container'}],\n",
          "       'restartPolicy': 'Never'}}}}}},\n",
          " 'status': {'completionTime': '2021-10-05T23:44:26Z',\n",
          "  'conditions': [{'lastTransitionTime': '2021-10-05T23:40:34Z',\n",
          "    'lastUpdateTime': '2021-10-05T23:40:34Z',\n",
          "    'message': 'Experiment is created',\n",
          "    'reason': 'ExperimentCreated',\n",
          "    'status': 'True',\n",
          "    'type': 'Created'},\n",
          "   {'lastTransitionTime': '2021-10-05T23:44:26Z',\n",
          "    'lastUpdateTime': '2021-10-05T23:44:26Z',\n",
          "    'message': 'Experiment is running',\n",
          "    'reason': 'ExperimentRunning',\n",
          "    'status': 'False',\n",
          "    'type': 'Running'},\n",
          "   {'lastTransitionTime': '2021-10-05T23:44:26Z',\n",
          "    'lastUpdateTime': '2021-10-05T23:44:26Z',\n",
          "    'message': 'Experiment has succeeded because max trial count has reached',\n",
          "    'reason': 'ExperimentMaxTrialsReached',\n",
          "    'status': 'True',\n",
          "    'type': 'Succeeded'}],\n",
          "  'currentOptimalTrial': {'bestTrialName': 'from-volume-resume-cmaes-4vkwxqkk',\n",
          "   'observation': {'metrics': [{'latest': '0.977309',\n",
          "      'max': '0.977309',\n",
          "      'min': '0.957604',\n",
          "      'name': 'Validation-accuracy'},\n",
          "     {'latest': '0.991021',\n",
          "      'max': '0.991021',\n",
          "      'min': '0.923807',\n",
          "      'name': 'Train-accuracy'}]},\n",
          "   'parameterAssignments': [{'name': 'num-layers', 'value': '3'},\n",
          "    {'name': 'optimizer', 'value': 'sgd'},\n",
          "    {'name': 'lr', 'value': '0.04511033252270099'}]},\n",
          "  'startTime': '2021-10-05T23:40:34Z',\n",
          "  'succeededTrialList': ['from-volume-resume-cmaes-67cs2x4s',\n",
          "   'from-volume-resume-cmaes-zfxl6ltf',\n",
          "   'from-volume-resume-cmaes-tzzh9zkd',\n",
          "   'from-volume-resume-cmaes-4vkwxqkk'],\n",
          "  'trials': 4,\n",
          "  'trialsSucceeded': 4}}"
         ]
        },
        "execution_count": 15,
        "metadata": {},
        "output_type": "execute_result"
       }
      ],
      "source": [
       "kclient.delete_experiment(name=experiment_name, namespace=namespace)\n",
       "kclient.delete_experiment(name=experiment_never_resume_name, namespace=namespace)\n",
       "kclient.delete_experiment(name=experiment_from_volume_resume_name, namespace=namespace)"
      ]
     },
     {
      "cell_type": "code",
      "execution_count": null,
      "metadata": {},
      "outputs": [],
      "source": []
     }
    ],
    "metadata": {
     "kernelspec": {
      "display_name": "Python 3",
      "language": "python",
      "name": "python3"
     },
     "language_info": {
      "codemirror_mode": {
       "name": "ipython",
       "version": 3
      },
      "file_extension": ".py",
      "mimetype": "text/x-python",
      "name": "python",
      "nbconvert_exporter": "python",
      "pygments_lexer": "ipython3",
      "version": "3.8.10"
     }
    },
    "nbformat": 4,
    "nbformat_minor": 4
   }